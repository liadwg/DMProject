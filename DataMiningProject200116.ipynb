{
 "cells": [
  {
   "cell_type": "markdown",
   "metadata": {},
   "source": [
    "# Machine Learning in the Real World"
   ]
  },
  {
   "cell_type": "markdown",
   "metadata": {
    "slideshow": {
     "slide_type": "slide"
    }
   },
   "source": [
    "#               1. Data preparation and cleaning (Pre Processing )"
   ]
  },
  {
   "cell_type": "markdown",
   "metadata": {},
   "source": [
    "### Import Python Libraries"
   ]
  },
  {
   "cell_type": "code",
   "execution_count": 61,
   "metadata": {
    "collapsed": false
   },
   "outputs": [],
   "source": [
    "import pandas as pd\n",
    "import numpy as np\n",
    "import seaborn as sns\n",
    "import sklearn \n",
    "import matplotlib.pyplot as plt\n",
    "from sklearn.ensemble import ExtraTreesClassifier\n",
    "\n",
    "%matplotlib inline"
   ]
  },
  {
   "cell_type": "markdown",
   "metadata": {},
   "source": [
    "### Data Loading"
   ]
  },
  {
   "cell_type": "code",
   "execution_count": 86,
   "metadata": {
    "collapsed": false
   },
   "outputs": [],
   "source": [
    "train_raw_data = pd.read_table('train.tsv')\n",
    "test_raw_data = pd.read_table('test.tsv')\n",
    "train_data = train_raw_data.drop('label', axis = 1)\n",
    "train_labels = train_raw_data['label']\n",
    "test_data = test_raw_data.copy()\n",
    "all_data = train_data.append(test_data, ignore_index = True)\n",
    "train_len = len(train_data)"
   ]
  },
  {
   "cell_type": "markdown",
   "metadata": {},
   "source": [
    "### Replace missing values to NaN"
   ]
  },
  {
   "cell_type": "code",
   "execution_count": 68,
   "metadata": {
    "collapsed": true
   },
   "outputs": [
    {
     "name": "stdout",
     "output_type": "stream",
     "text": [
      "url                                  0\n",
      "urlid                                0\n",
      "boilerplate                          0\n",
      "alchemy_category                  3388\n",
      "alchemy_category_score            3388\n",
      "avglinksize                          0\n",
      "commonlinkratio_1                    0\n",
      "commonlinkratio_2                    0\n",
      "commonlinkratio_3                    0\n",
      "commonlinkratio_4                    0\n",
      "compression_ratio                    0\n",
      "embed_ratio                          0\n",
      "framebased                           0\n",
      "frameTagRatio                        0\n",
      "hasDomainLink                        0\n",
      "html_ratio                           0\n",
      "image_ratio                          0\n",
      "is_news                           4068\n",
      "lengthyLinkDomain                    0\n",
      "linkwordscore                        0\n",
      "news_front_page                   1831\n",
      "non_markup_alphanum_characters       0\n",
      "numberOfLinks                        0\n",
      "numwords_in_url                      0\n",
      "parametrizedLinkRatio                0\n",
      "spelling_errors_ratio                0\n",
      "dtype: int64\n"
     ]
    }
   ],
   "source": [
    "# missing values are appearing as '?'\n",
    "# replace them with np.nan\n",
    "\n",
    "for variable in all_data.columns:\n",
    "    all_data[variable] = all_data[variable].replace('?', np.nan)"
   ]
  },
  {
   "cell_type": "markdown",
   "metadata": {},
   "source": [
    "## Type Conversion"
   ]
  },
  {
   "cell_type": "code",
   "execution_count": 69,
   "metadata": {
    "collapsed": true
   },
   "outputs": [
    {
     "data": {
      "text/plain": [
       "url                                object\n",
       "urlid                               int64\n",
       "boilerplate                        object\n",
       "alchemy_category                   object\n",
       "alchemy_category_score             object\n",
       "avglinksize                       float64\n",
       "commonlinkratio_1                 float64\n",
       "commonlinkratio_2                 float64\n",
       "commonlinkratio_3                 float64\n",
       "commonlinkratio_4                 float64\n",
       "compression_ratio                 float64\n",
       "embed_ratio                       float64\n",
       "framebased                          int64\n",
       "frameTagRatio                     float64\n",
       "hasDomainLink                       int64\n",
       "html_ratio                        float64\n",
       "image_ratio                       float64\n",
       "is_news                            object\n",
       "lengthyLinkDomain                   int64\n",
       "linkwordscore                       int64\n",
       "news_front_page                    object\n",
       "non_markup_alphanum_characters      int64\n",
       "numberOfLinks                       int64\n",
       "numwords_in_url                     int64\n",
       "parametrizedLinkRatio             float64\n",
       "spelling_errors_ratio             float64\n",
       "dtype: object"
      ]
     },
     "execution_count": 69,
     "metadata": {},
     "output_type": "execute_result"
    }
   ],
   "source": [
    "all_data[:].dtypes"
   ]
  },
  {
   "cell_type": "markdown",
   "metadata": {},
   "source": [
    "### Specifying Data Types"
   ]
  },
  {
   "cell_type": "code",
   "execution_count": 70,
   "metadata": {
    "collapsed": true
   },
   "outputs": [
    {
     "data": {
      "text/plain": [
       "url                                object\n",
       "urlid                               int64\n",
       "boilerplate                        object\n",
       "alchemy_category                   object\n",
       "alchemy_category_score            float64\n",
       "avglinksize                       float64\n",
       "commonlinkratio_1                 float64\n",
       "commonlinkratio_2                 float64\n",
       "commonlinkratio_3                 float64\n",
       "commonlinkratio_4                 float64\n",
       "compression_ratio                 float64\n",
       "embed_ratio                       float64\n",
       "framebased                        float64\n",
       "frameTagRatio                     float64\n",
       "hasDomainLink                     float64\n",
       "html_ratio                        float64\n",
       "image_ratio                       float64\n",
       "is_news                           float64\n",
       "lengthyLinkDomain                 float64\n",
       "linkwordscore                     float64\n",
       "news_front_page                   float64\n",
       "non_markup_alphanum_characters    float64\n",
       "numberOfLinks                     float64\n",
       "numwords_in_url                   float64\n",
       "parametrizedLinkRatio             float64\n",
       "spelling_errors_ratio             float64\n",
       "dtype: object"
      ]
     },
     "execution_count": 70,
     "metadata": {},
     "output_type": "execute_result"
    }
   ],
   "source": [
    "# irrelevant_variables = [\"url\", \"urlid\"] # lengthyLinkDomain?\n",
    "# string_variables = [\"boilerplate\"]\n",
    "# numeric_variables = [\"alchemy_category_score\", \"avglinksize\", \"commonlinkratio_1\", \"commonlinkratio_2\", \"commonlinkratio_3\", \"commonlinkratio_4\", \"compression_ratio\", \"embed_ratio\", \"frameTagRatio\", \"linkwordscore\", \"non_markup_alphanum_characters\", \"numberOfLinks\", \"numwords_in_url\", \"parametrizedLinkRatio\", \"spelling_errors_ratio\", \"html_ratio\", \"image_ratio\"]\n",
    "# categorical_variables = [\"alchemy_category\"]\n",
    "# binary_variables = [\"framebased\", \"hasDomainLink\", \"is_news\", \"lengthyLinkDomain\", \"news_front_page\"]\n",
    "irrelevant_variables = [\"urlid\"]\n",
    "string_variables = [\"url\",\"boilerplate\", \"alchemy_category\"]\n",
    "categorial_variables = [\"alchemy_category\"]\n",
    "numeric_variables = list(all_data)[4:]\n",
    "for variable in list(all_data):\n",
    "    if (variable in numeric_variables):\n",
    "        all_data[variable] = all_data[variable].astype(np.float)\n",
    "all_data[:].dtypes"
   ]
  },
  {
   "cell_type": "markdown",
   "metadata": {},
   "source": [
    "## Missing Data Imputation"
   ]
  },
  {
   "cell_type": "code",
   "execution_count": 71,
   "metadata": {
    "collapsed": true
   },
   "outputs": [
    {
     "name": "stdout",
     "output_type": "stream",
     "text": [
      "url                                  0\n",
      "urlid                                0\n",
      "boilerplate                          0\n",
      "alchemy_category                  3388\n",
      "alchemy_category_score            3388\n",
      "avglinksize                          0\n",
      "commonlinkratio_1                    0\n",
      "commonlinkratio_2                    0\n",
      "commonlinkratio_3                    0\n",
      "commonlinkratio_4                    0\n",
      "compression_ratio                    0\n",
      "embed_ratio                          0\n",
      "framebased                           0\n",
      "frameTagRatio                        0\n",
      "hasDomainLink                        0\n",
      "html_ratio                           0\n",
      "image_ratio                          0\n",
      "is_news                           4068\n",
      "lengthyLinkDomain                    0\n",
      "linkwordscore                        0\n",
      "news_front_page                   1831\n",
      "non_markup_alphanum_characters       0\n",
      "numberOfLinks                        0\n",
      "numwords_in_url                      0\n",
      "parametrizedLinkRatio                0\n",
      "spelling_errors_ratio                0\n",
      "dtype: int64\n"
     ]
    }
   ],
   "source": [
    "print (np.sum(all_data[:].isnull()))"
   ]
  },
  {
   "cell_type": "code",
   "execution_count": 72,
   "metadata": {
    "collapsed": false
   },
   "outputs": [],
   "source": [
    "all_data['alchemy_category'] = all_data['alchemy_category'].fillna('unknown')\n",
    "all_data['alchemy_category_score'].fillna(all_data['alchemy_category_score'].median(), inplace=True)"
   ]
  },
  {
   "cell_type": "code",
   "execution_count": 73,
   "metadata": {
    "collapsed": true
   },
   "outputs": [
    {
     "data": {
      "text/plain": [
       "alchemy_category          0\n",
       "alchemy_category_score    0\n",
       "news_front_page           0\n",
       "is_news                   0\n",
       "dtype: int64"
      ]
     },
     "execution_count": 73,
     "metadata": {},
     "output_type": "execute_result"
    }
   ],
   "source": [
    "all_data.ix[all_data.news_front_page == 1, 'is_news'] = 1 #if it is front page news it is news\n",
    "all_data.ix[all_data.is_news == 0, 'news_front_page'] = 0 # if it is not news, it is not front page news\n",
    "all_data['is_news'].fillna(all_data['is_news'].mean(), inplace=True)\n",
    "all_data['news_front_page'].fillna(all_data['news_front_page'].mean(), inplace=True)\n",
    "np.sum(all_data[missing_varibales].isnull())"
   ]
  },
  {
   "cell_type": "markdown",
   "metadata": {},
   "source": [
    "### categorical variables to dummy variables"
   ]
  },
  {
   "cell_type": "code",
   "execution_count": 74,
   "metadata": {
    "collapsed": true
   },
   "outputs": [],
   "source": [
    "# df_alchemy_category = pd.get_dummies(train_data['alchemy_category']) not doing this for now (for random forest not needed)"
   ]
  },
  {
   "cell_type": "markdown",
   "metadata": {},
   "source": [
    "# 2. Data Exploration"
   ]
  },
  {
   "cell_type": "code",
   "execution_count": 75,
   "metadata": {
    "collapsed": true
   },
   "outputs": [
    {
     "data": {
      "text/html": [
       "<div>\n",
       "<table border=\"1\" class=\"dataframe\">\n",
       "  <thead>\n",
       "    <tr style=\"text-align: right;\">\n",
       "      <th></th>\n",
       "      <th>alchemy_category_score</th>\n",
       "      <th>avglinksize</th>\n",
       "      <th>commonlinkratio_1</th>\n",
       "      <th>commonlinkratio_2</th>\n",
       "      <th>commonlinkratio_3</th>\n",
       "      <th>commonlinkratio_4</th>\n",
       "      <th>compression_ratio</th>\n",
       "      <th>embed_ratio</th>\n",
       "      <th>framebased</th>\n",
       "      <th>frameTagRatio</th>\n",
       "      <th>...</th>\n",
       "      <th>image_ratio</th>\n",
       "      <th>is_news</th>\n",
       "      <th>lengthyLinkDomain</th>\n",
       "      <th>linkwordscore</th>\n",
       "      <th>news_front_page</th>\n",
       "      <th>non_markup_alphanum_characters</th>\n",
       "      <th>numberOfLinks</th>\n",
       "      <th>numwords_in_url</th>\n",
       "      <th>parametrizedLinkRatio</th>\n",
       "      <th>spelling_errors_ratio</th>\n",
       "    </tr>\n",
       "  </thead>\n",
       "  <tbody>\n",
       "    <tr>\n",
       "      <th>count</th>\n",
       "      <td>10566.000000</td>\n",
       "      <td>10566.000000</td>\n",
       "      <td>10566.000000</td>\n",
       "      <td>10566.000000</td>\n",
       "      <td>10566.000000</td>\n",
       "      <td>10566.000000</td>\n",
       "      <td>10566.000000</td>\n",
       "      <td>10566.000000</td>\n",
       "      <td>10566.0</td>\n",
       "      <td>10566.000000</td>\n",
       "      <td>...</td>\n",
       "      <td>10566.000000</td>\n",
       "      <td>10566.0</td>\n",
       "      <td>10566.000000</td>\n",
       "      <td>10566.000000</td>\n",
       "      <td>10566.000000</td>\n",
       "      <td>10566.000000</td>\n",
       "      <td>10566.000000</td>\n",
       "      <td>10566.000000</td>\n",
       "      <td>10566.000000</td>\n",
       "      <td>10566.000000</td>\n",
       "    </tr>\n",
       "    <tr>\n",
       "      <th>mean</th>\n",
       "      <td>0.608091</td>\n",
       "      <td>2.823754</td>\n",
       "      <td>0.467895</td>\n",
       "      <td>0.212166</td>\n",
       "      <td>0.091431</td>\n",
       "      <td>0.048837</td>\n",
       "      <td>2.291272</td>\n",
       "      <td>-0.104571</td>\n",
       "      <td>0.0</td>\n",
       "      <td>0.056923</td>\n",
       "      <td>...</td>\n",
       "      <td>0.270157</td>\n",
       "      <td>1.0</td>\n",
       "      <td>0.654363</td>\n",
       "      <td>30.052054</td>\n",
       "      <td>0.048197</td>\n",
       "      <td>5711.308537</td>\n",
       "      <td>176.002177</td>\n",
       "      <td>4.908764</td>\n",
       "      <td>0.171628</td>\n",
       "      <td>0.101341</td>\n",
       "    </tr>\n",
       "    <tr>\n",
       "      <th>std</th>\n",
       "      <td>0.177228</td>\n",
       "      <td>12.904732</td>\n",
       "      <td>0.201926</td>\n",
       "      <td>0.146180</td>\n",
       "      <td>0.095443</td>\n",
       "      <td>0.072308</td>\n",
       "      <td>5.757324</td>\n",
       "      <td>0.307991</td>\n",
       "      <td>0.0</td>\n",
       "      <td>0.042005</td>\n",
       "      <td>...</td>\n",
       "      <td>1.761854</td>\n",
       "      <td>0.0</td>\n",
       "      <td>0.475598</td>\n",
       "      <td>20.462632</td>\n",
       "      <td>0.194751</td>\n",
       "      <td>9468.390487</td>\n",
       "      <td>170.120019</td>\n",
       "      <td>3.206950</td>\n",
       "      <td>0.182907</td>\n",
       "      <td>0.080126</td>\n",
       "    </tr>\n",
       "    <tr>\n",
       "      <th>min</th>\n",
       "      <td>0.070833</td>\n",
       "      <td>0.000000</td>\n",
       "      <td>0.000000</td>\n",
       "      <td>0.000000</td>\n",
       "      <td>0.000000</td>\n",
       "      <td>0.000000</td>\n",
       "      <td>0.000000</td>\n",
       "      <td>-1.000000</td>\n",
       "      <td>0.0</td>\n",
       "      <td>0.000000</td>\n",
       "      <td>...</td>\n",
       "      <td>-1.000000</td>\n",
       "      <td>1.0</td>\n",
       "      <td>0.000000</td>\n",
       "      <td>0.000000</td>\n",
       "      <td>0.000000</td>\n",
       "      <td>0.000000</td>\n",
       "      <td>1.000000</td>\n",
       "      <td>0.000000</td>\n",
       "      <td>0.000000</td>\n",
       "      <td>0.000000</td>\n",
       "    </tr>\n",
       "    <tr>\n",
       "      <th>25%</th>\n",
       "      <td>0.536762</td>\n",
       "      <td>1.605949</td>\n",
       "      <td>0.339668</td>\n",
       "      <td>0.103896</td>\n",
       "      <td>0.021505</td>\n",
       "      <td>0.000000</td>\n",
       "      <td>0.442374</td>\n",
       "      <td>0.000000</td>\n",
       "      <td>0.0</td>\n",
       "      <td>0.028610</td>\n",
       "      <td>...</td>\n",
       "      <td>0.025210</td>\n",
       "      <td>1.0</td>\n",
       "      <td>0.000000</td>\n",
       "      <td>14.000000</td>\n",
       "      <td>0.000000</td>\n",
       "      <td>1563.250000</td>\n",
       "      <td>81.000000</td>\n",
       "      <td>3.000000</td>\n",
       "      <td>0.039425</td>\n",
       "      <td>0.068182</td>\n",
       "    </tr>\n",
       "    <tr>\n",
       "      <th>50%</th>\n",
       "      <td>0.623509</td>\n",
       "      <td>2.084034</td>\n",
       "      <td>0.480193</td>\n",
       "      <td>0.200000</td>\n",
       "      <td>0.067416</td>\n",
       "      <td>0.021368</td>\n",
       "      <td>0.483160</td>\n",
       "      <td>0.000000</td>\n",
       "      <td>0.0</td>\n",
       "      <td>0.046436</td>\n",
       "      <td>...</td>\n",
       "      <td>0.080800</td>\n",
       "      <td>1.0</td>\n",
       "      <td>1.000000</td>\n",
       "      <td>25.000000</td>\n",
       "      <td>0.000000</td>\n",
       "      <td>3473.000000</td>\n",
       "      <td>138.000000</td>\n",
       "      <td>5.000000</td>\n",
       "      <td>0.112220</td>\n",
       "      <td>0.089202</td>\n",
       "    </tr>\n",
       "    <tr>\n",
       "      <th>75%</th>\n",
       "      <td>0.704306</td>\n",
       "      <td>2.615385</td>\n",
       "      <td>0.614852</td>\n",
       "      <td>0.297872</td>\n",
       "      <td>0.132743</td>\n",
       "      <td>0.064516</td>\n",
       "      <td>0.580402</td>\n",
       "      <td>0.000000</td>\n",
       "      <td>0.0</td>\n",
       "      <td>0.074074</td>\n",
       "      <td>...</td>\n",
       "      <td>0.233406</td>\n",
       "      <td>1.0</td>\n",
       "      <td>1.000000</td>\n",
       "      <td>43.000000</td>\n",
       "      <td>0.000000</td>\n",
       "      <td>6331.000000</td>\n",
       "      <td>221.000000</td>\n",
       "      <td>7.000000</td>\n",
       "      <td>0.240385</td>\n",
       "      <td>0.112245</td>\n",
       "    </tr>\n",
       "    <tr>\n",
       "      <th>max</th>\n",
       "      <td>0.999812</td>\n",
       "      <td>1062.000000</td>\n",
       "      <td>1.000000</td>\n",
       "      <td>1.000000</td>\n",
       "      <td>0.980392</td>\n",
       "      <td>0.980392</td>\n",
       "      <td>21.000000</td>\n",
       "      <td>0.928571</td>\n",
       "      <td>0.0</td>\n",
       "      <td>0.444444</td>\n",
       "      <td>...</td>\n",
       "      <td>113.333333</td>\n",
       "      <td>1.0</td>\n",
       "      <td>1.000000</td>\n",
       "      <td>100.000000</td>\n",
       "      <td>1.000000</td>\n",
       "      <td>331764.000000</td>\n",
       "      <td>4997.000000</td>\n",
       "      <td>22.000000</td>\n",
       "      <td>1.000000</td>\n",
       "      <td>1.000000</td>\n",
       "    </tr>\n",
       "  </tbody>\n",
       "</table>\n",
       "<p>8 rows × 22 columns</p>\n",
       "</div>"
      ],
      "text/plain": [
       "       alchemy_category_score   avglinksize  commonlinkratio_1  \\\n",
       "count            10566.000000  10566.000000       10566.000000   \n",
       "mean                 0.608091      2.823754           0.467895   \n",
       "std                  0.177228     12.904732           0.201926   \n",
       "min                  0.070833      0.000000           0.000000   \n",
       "25%                  0.536762      1.605949           0.339668   \n",
       "50%                  0.623509      2.084034           0.480193   \n",
       "75%                  0.704306      2.615385           0.614852   \n",
       "max                  0.999812   1062.000000           1.000000   \n",
       "\n",
       "       commonlinkratio_2  commonlinkratio_3  commonlinkratio_4  \\\n",
       "count       10566.000000       10566.000000       10566.000000   \n",
       "mean            0.212166           0.091431           0.048837   \n",
       "std             0.146180           0.095443           0.072308   \n",
       "min             0.000000           0.000000           0.000000   \n",
       "25%             0.103896           0.021505           0.000000   \n",
       "50%             0.200000           0.067416           0.021368   \n",
       "75%             0.297872           0.132743           0.064516   \n",
       "max             1.000000           0.980392           0.980392   \n",
       "\n",
       "       compression_ratio   embed_ratio  framebased  frameTagRatio  \\\n",
       "count       10566.000000  10566.000000     10566.0   10566.000000   \n",
       "mean            2.291272     -0.104571         0.0       0.056923   \n",
       "std             5.757324      0.307991         0.0       0.042005   \n",
       "min             0.000000     -1.000000         0.0       0.000000   \n",
       "25%             0.442374      0.000000         0.0       0.028610   \n",
       "50%             0.483160      0.000000         0.0       0.046436   \n",
       "75%             0.580402      0.000000         0.0       0.074074   \n",
       "max            21.000000      0.928571         0.0       0.444444   \n",
       "\n",
       "               ...             image_ratio  is_news  lengthyLinkDomain  \\\n",
       "count          ...            10566.000000  10566.0       10566.000000   \n",
       "mean           ...                0.270157      1.0           0.654363   \n",
       "std            ...                1.761854      0.0           0.475598   \n",
       "min            ...               -1.000000      1.0           0.000000   \n",
       "25%            ...                0.025210      1.0           0.000000   \n",
       "50%            ...                0.080800      1.0           1.000000   \n",
       "75%            ...                0.233406      1.0           1.000000   \n",
       "max            ...              113.333333      1.0           1.000000   \n",
       "\n",
       "       linkwordscore  news_front_page  non_markup_alphanum_characters  \\\n",
       "count   10566.000000     10566.000000                    10566.000000   \n",
       "mean       30.052054         0.048197                     5711.308537   \n",
       "std        20.462632         0.194751                     9468.390487   \n",
       "min         0.000000         0.000000                        0.000000   \n",
       "25%        14.000000         0.000000                     1563.250000   \n",
       "50%        25.000000         0.000000                     3473.000000   \n",
       "75%        43.000000         0.000000                     6331.000000   \n",
       "max       100.000000         1.000000                   331764.000000   \n",
       "\n",
       "       numberOfLinks  numwords_in_url  parametrizedLinkRatio  \\\n",
       "count   10566.000000     10566.000000           10566.000000   \n",
       "mean      176.002177         4.908764               0.171628   \n",
       "std       170.120019         3.206950               0.182907   \n",
       "min         1.000000         0.000000               0.000000   \n",
       "25%        81.000000         3.000000               0.039425   \n",
       "50%       138.000000         5.000000               0.112220   \n",
       "75%       221.000000         7.000000               0.240385   \n",
       "max      4997.000000        22.000000               1.000000   \n",
       "\n",
       "       spelling_errors_ratio  \n",
       "count           10566.000000  \n",
       "mean                0.101341  \n",
       "std                 0.080126  \n",
       "min                 0.000000  \n",
       "25%                 0.068182  \n",
       "50%                 0.089202  \n",
       "75%                 0.112245  \n",
       "max                 1.000000  \n",
       "\n",
       "[8 rows x 22 columns]"
      ]
     },
     "execution_count": 75,
     "metadata": {},
     "output_type": "execute_result"
    }
   ],
   "source": [
    "all_data[numeric_variables].describe()\n",
    "#notice embed ratio, compression ratio, and image ratio"
   ]
  },
  {
   "cell_type": "markdown",
   "metadata": {},
   "source": [
    "### Numeric features histograms"
   ]
  },
  {
   "cell_type": "code",
   "execution_count": 84,
   "metadata": {
    "collapsed": false
   },
   "outputs": [
    {
     "data": {
      "image/png": "[encoded data removed]",
      "text/plain": [
       "<matplotlib.figure.Figure at 0xed45630>"
      ]
     },
     "metadata": {},
     "output_type": "display_data"
    },
    {
     "data": {
      "image/png": "[encoded data removed]",
      "text/plain": [
       "<matplotlib.figure.Figure at 0x118900b8>"
      ]
     },
     "metadata": {},
     "output_type": "display_data"
    },
    {
     "data": {
      "image/png": "[encoded data removed]",
      "text/plain": [
       "<matplotlib.figure.Figure at 0x18b03e10>"
      ]
     },
     "metadata": {},
     "output_type": "display_data"
    },
    {
     "data": {
      "image/png": "[encoded data removed]",
      "text/plain": [
       "<matplotlib.figure.Figure at 0xded4ef0>"
      ]
     },
     "metadata": {},
     "output_type": "display_data"
    },
    {
     "data": {
      "image/png": "[encoded data removed]",
      "text/plain": [
       "<matplotlib.figure.Figure at 0x10c2ada0>"
      ]
     },
     "metadata": {},
     "output_type": "display_data"
    },
    {
     "data": {
      "image/png": "[encoded data removed]",
      "text/plain": [
       "<matplotlib.figure.Figure at 0x1060df28>"
      ]
     },
     "metadata": {},
     "output_type": "display_data"
    },
    {
     "data": {
      "image/png": "[encoded data removed]",
      "text/plain": [
       "<matplotlib.figure.Figure at 0x16fa4fd0>"
      ]
     },
     "metadata": {},
     "output_type": "display_data"
    },
    {
     "data": {
      "image/png": "[encoded data removed]",
      "text/plain": [
       "<matplotlib.figure.Figure at 0x142faac8>"
      ]
     },
     "metadata": {},
     "output_type": "display_data"
    },
    {
     "data": {
      "image/png": "[encoded data removed]",
      "text/plain": [
       "<matplotlib.figure.Figure at 0x1196b518>"
      ]
     },
     "metadata": {},
     "output_type": "display_data"
    },
    {
     "data": {
      "image/png": "[encoded data removed]",
      "text/plain": [
       "<matplotlib.figure.Figure at 0x106b7e10>"
      ]
     },
     "metadata": {},
     "output_type": "display_data"
    },
    {
     "data": {
      "image/png": "[encoded data removed]",
      "text/plain": [
       "<matplotlib.figure.Figure at 0xf2659e8>"
      ]
     },
     "metadata": {},
     "output_type": "display_data"
    },
    {
     "data": {
      "image/png": "[encoded data removed]",
      "text/plain": [
       "<matplotlib.figure.Figure at 0x11893240>"
      ]
     },
     "metadata": {},
     "output_type": "display_data"
    },
    {
     "data": {
      "image/png": "[encoded data removed]",
      "text/plain": [
       "<matplotlib.figure.Figure at 0xc1d26d8>"
      ]
     },
     "metadata": {},
     "output_type": "display_data"
    },
    {
     "data": {
      "image/png": "[encoded data removed]",
      "text/plain": [
       "<matplotlib.figure.Figure at 0xd6ddac8>"
      ]
     },
     "metadata": {},
     "output_type": "display_data"
    }
   ],
   "source": [
    "\n",
    "plt.hist(all_data['avglinksize'], normed=True, bins = 30, range=(0,10), align = 'left')\n",
    "plt.title('avglinksize distribution')\n",
    "plt.show()\n",
    "\n",
    "plt.hist(all_data['commonlinkratio_1'], normed=True, bins = 30, range=(0,1), align = 'left')\n",
    "plt.title('commonlinkratio_1 distribution')\n",
    "plt.show()\n",
    "\n",
    "plt.hist(all_data['commonlinkratio_2'], normed=True, bins = 30, range=(0,1), align = 'left')\n",
    "plt.title('commonlinkratio_2 distribution')\n",
    "plt.show()\n",
    "\n",
    "plt.hist(all_data['commonlinkratio_3'], normed=True, bins = 30, range=(0,1), align = 'left')\n",
    "plt.title('commonlinkratio_3 distribution')\n",
    "plt.show()\n",
    "\n",
    "plt.hist(all_data['compression_ratio'], normed=True, bins = 50, align = 'left') #????\n",
    "plt.title('compression_ratio distribution')\n",
    "plt.show()\n",
    "\n",
    "plt.hist(all_data['embed_ratio'], normed=True, bins = 200, range=(-1,0.5), align = 'left')# will become binary\n",
    "plt.title('embed_ratio distribution')\n",
    "plt.show()\n",
    "\n",
    "plt.hist(all_data['frameTagRatio'], normed=True, bins = 30, range=(0,1), align = 'left')\n",
    "plt.title('frameTagRatio distribution')\n",
    "plt.show()\n",
    "\n",
    "plt.hist(all_data['linkwordscore'], normed=True, bins = 30, range=(0,150), align = 'left')\n",
    "plt.title('linkwordscore distribution')\n",
    "plt.show()\n",
    "\n",
    "plt.hist(all_data['non_markup_alphanum_characters'], normed=True, bins = 30, range=(-10,25000), align = 'left')\n",
    "plt.title('non_markup_alphanum_characters distribution')\n",
    "plt.show()\n",
    "\n",
    "plt.hist(all_data['numberOfLinks'], normed=True, bins = 30, range=(-10,750), align = 'left')\n",
    "plt.title('numberOfLinks distribution')\n",
    "plt.show()\n",
    "\n",
    "plt.hist(all_data['numwords_in_url'], normed=True, bins = 30, range=(0,30), align = 'left')\n",
    "plt.title('numwords_in_url distribution')\n",
    "plt.show()\n",
    "\n",
    "plt.hist(all_data['parametrizedLinkRatio'], normed=True, bins = 30, range=(0,1), align = 'left')\n",
    "plt.title('parametrizedLinkRatio distribution')\n",
    "plt.show()\n",
    "\n",
    "plt.hist(all_data['spelling_errors_ratio'], normed=True, bins = 30, range=(0,1), align = 'left')\n",
    "plt.title('spelling_errors_ratio distribution')\n",
    "plt.show()\n",
    "\n",
    "plt.hist(all_data['image_ratio'], normed=True, bins = 30, range=(0,10), align = 'left')\n",
    "plt.title('image_ratio distribution')\n",
    "plt.show()\n",
    "\n"
   ]
  },
  {
   "cell_type": "code",
   "execution_count": 77,
   "metadata": {
    "collapsed": true
   },
   "outputs": [
    {
     "data": {
      "text/plain": [
       "<matplotlib.legend.Legend at 0xbc7d128>"
      ]
     },
     "execution_count": 77,
     "metadata": {},
     "output_type": "execute_result"
    },
    {
     "data": {
      "image/png": "[encoded data removed]",
      "text/plain": [
       "<matplotlib.figure.Figure at 0x132bef28>"
      ]
     },
     "metadata": {},
     "output_type": "display_data"
    }
   ],
   "source": [
    "sns.distplot(all_data.parametrizedLinkRatio, bins = 30, kde = True, label='parametrizedLinkRatio')\n",
    "plt.title('parametrizedLinkRatio')\n",
    "plt.xlabel('Ratio')\n",
    "plt.ylabel('Count')\n",
    "plt.legend(loc=\"upper right\")"
   ]
  },
  {
   "cell_type": "markdown",
   "metadata": {},
   "source": [
    "### Categorical feature bars"
   ]
  },
  {
   "cell_type": "code",
   "execution_count": 78,
   "metadata": {
    "collapsed": true
   },
   "outputs": [
    {
     "name": "stdout",
     "output_type": "stream",
     "text": [
      "-------------------------------\n",
      "Histogram for alchemy_category\n",
      "-------------------------------\n",
      "unknown               3394\n",
      "recreation            1701\n",
      "arts_entertainment    1363\n",
      "business              1235\n",
      "health                 706\n",
      "sports                 566\n",
      "culture_politics       499\n",
      "computer_internet      430\n",
      "science_technology     409\n",
      "gaming                 110\n",
      "religion               107\n",
      "law_crime               42\n",
      "weather                  4\n",
      "Name: alchemy_category, dtype: int64\n",
      "\n"
     ]
    },
    {
     "data": {
      "text/plain": [
       "<matplotlib.axes._subplots.AxesSubplot at 0x132be588>"
      ]
     },
     "execution_count": 78,
     "metadata": {},
     "output_type": "execute_result"
    },
    {
     "data": {
      "image/png": "[encoded data removed]",
      "text/plain": [
       "<matplotlib.figure.Figure at 0x11e027f0>"
      ]
     },
     "metadata": {},
     "output_type": "display_data"
    }
   ],
   "source": [
    "for variable in categorical_variables:\n",
    "  print (\"-------------------------------\")\n",
    "  print (\"Histogram for \" + variable)\n",
    "  print (\"-------------------------------\")\n",
    "  print (all_data[variable].value_counts())\n",
    "  print (\"\")\n",
    "all_data.alchemy_category.value_counts().plot(kind='bar')"
   ]
  },
  {
   "cell_type": "code",
   "execution_count": 80,
   "metadata": {
    "collapsed": true
   },
   "outputs": [
    {
     "data": {
      "text/plain": [
       "<matplotlib.axes._subplots.AxesSubplot at 0x17fee9e8>"
      ]
     },
     "execution_count": 80,
     "metadata": {},
     "output_type": "execute_result"
    },
    {
     "data": {
      "image/png": "[encoded data removed]",
      "text/plain": [
       "<matplotlib.figure.Figure at 0x12e7d240>"
      ]
     },
     "metadata": {},
     "output_type": "display_data"
    }
   ],
   "source": [
    "named_labels = train_labels.map({0:'Emerphal', 1:'EverGreen'})\n",
    "named_labels.value_counts().plot(kind='bar')"
   ]
  },
  {
   "cell_type": "markdown",
   "metadata": {},
   "source": [
    "# cleaning"
   ]
  },
  {
   "cell_type": "markdown",
   "metadata": {},
   "source": [
    "### Remove Outliers"
   ]
  },
  {
   "cell_type": "code",
   "execution_count": 407,
   "metadata": {
    "collapsed": false
   },
   "outputs": [
    {
     "name": "stdout",
     "output_type": "stream",
     "text": [
      "775 valuses greater than 1 in ratio: compression_ratio\n",
      "774 valuses less than 0 in ratio: embed_ratio\n",
      "690 valuses less than 0 in ratio: image_ratio\n",
      "452 valuses greater than 1 in ratio: image_ratio\n"
     ]
    }
   ],
   "source": [
    "ratios = ['commonlinkratio_1', 'commonlinkratio_2', 'commonlinkratio_3', 'commonlinkratio_4', \n",
    "          'compression_ratio', 'embed_ratio', 'frameTagRatio', 'parametrizedLinkRatio', 'spelling_errors_ratio',\n",
    "          'image_ratio', 'html_ratio']\n",
    "\n",
    "for r in ratios:\n",
    "    less_than_zero = train_data[r].loc[train_data[r] < 0].count()\n",
    "    greater_than_one =  train_data[r].loc[train_data[r] > 1].count()\n",
    "#     less_than_minus_ten = train_data[r].loc[train_data[r] < -10].count()\n",
    "#     greater_than_ten =  train_data[r].loc[train_data[r] > 10].count()\n",
    "    if less_than_zero > 0:\n",
    "        print(str(less_than_zero) + \" valuses less than 0 in ratio: \" + r)\n",
    "    if greater_than_one > 0:\n",
    "        print(str(greater_than_one) + \" valuses greater than 1 in ratio: \" + r)\n",
    "#     if less_than_minus_ten > 0:\n",
    "#         print(str(less_than_minus_ten) + \" valuses less than -10 in ratio: \" + r)\n",
    "#     if greater_than_one > 0:\n",
    "#         print(str(greater_than_ten) + \" valuses greater than 10 in ratio: \" + r)"
   ]
  },
  {
   "cell_type": "code",
   "execution_count": 350,
   "metadata": {
    "collapsed": false
   },
   "outputs": [
    {
     "data": {
      "text/html": [
       "<div>\n",
       "<table border=\"1\" class=\"dataframe\">\n",
       "  <thead>\n",
       "    <tr style=\"text-align: right;\">\n",
       "      <th></th>\n",
       "      <th>commonlinkratio_1</th>\n",
       "      <th>commonlinkratio_2</th>\n",
       "      <th>commonlinkratio_3</th>\n",
       "      <th>commonlinkratio_4</th>\n",
       "      <th>compression_ratio</th>\n",
       "      <th>embed_ratio</th>\n",
       "      <th>frameTagRatio</th>\n",
       "      <th>parametrizedLinkRatio</th>\n",
       "      <th>spelling_errors_ratio</th>\n",
       "      <th>image_ratio</th>\n",
       "      <th>html_ratio</th>\n",
       "    </tr>\n",
       "  </thead>\n",
       "  <tbody>\n",
       "    <tr>\n",
       "      <th>commonlinkratio_1</th>\n",
       "      <td>1.000000</td>\n",
       "      <td>0.808047</td>\n",
       "      <td>0.560584</td>\n",
       "      <td>0.388801</td>\n",
       "      <td>-0.017878</td>\n",
       "      <td>0.005280</td>\n",
       "      <td>-0.294860</td>\n",
       "      <td>-0.078026</td>\n",
       "      <td>-0.035019</td>\n",
       "      <td>-0.064435</td>\n",
       "      <td>-0.201501</td>\n",
       "    </tr>\n",
       "    <tr>\n",
       "      <th>commonlinkratio_2</th>\n",
       "      <td>0.808047</td>\n",
       "      <td>1.000000</td>\n",
       "      <td>0.758330</td>\n",
       "      <td>0.555148</td>\n",
       "      <td>-0.032460</td>\n",
       "      <td>0.019387</td>\n",
       "      <td>-0.259222</td>\n",
       "      <td>-0.079485</td>\n",
       "      <td>-0.027888</td>\n",
       "      <td>-0.044663</td>\n",
       "      <td>-0.159702</td>\n",
       "    </tr>\n",
       "    <tr>\n",
       "      <th>commonlinkratio_3</th>\n",
       "      <td>0.560584</td>\n",
       "      <td>0.758330</td>\n",
       "      <td>1.000000</td>\n",
       "      <td>0.850604</td>\n",
       "      <td>-0.016188</td>\n",
       "      <td>0.007578</td>\n",
       "      <td>-0.218559</td>\n",
       "      <td>-0.008652</td>\n",
       "      <td>-0.008599</td>\n",
       "      <td>-0.050357</td>\n",
       "      <td>-0.133370</td>\n",
       "    </tr>\n",
       "    <tr>\n",
       "      <th>commonlinkratio_4</th>\n",
       "      <td>0.388801</td>\n",
       "      <td>0.555148</td>\n",
       "      <td>0.850604</td>\n",
       "      <td>1.000000</td>\n",
       "      <td>-0.020415</td>\n",
       "      <td>0.005473</td>\n",
       "      <td>-0.178064</td>\n",
       "      <td>0.036387</td>\n",
       "      <td>-0.013507</td>\n",
       "      <td>-0.038071</td>\n",
       "      <td>-0.136561</td>\n",
       "    </tr>\n",
       "    <tr>\n",
       "      <th>compression_ratio</th>\n",
       "      <td>-0.017878</td>\n",
       "      <td>-0.032460</td>\n",
       "      <td>-0.016188</td>\n",
       "      <td>-0.020415</td>\n",
       "      <td>1.000000</td>\n",
       "      <td>-0.889345</td>\n",
       "      <td>0.159335</td>\n",
       "      <td>-0.033772</td>\n",
       "      <td>0.364122</td>\n",
       "      <td>-0.188976</td>\n",
       "      <td>0.106335</td>\n",
       "    </tr>\n",
       "    <tr>\n",
       "      <th>embed_ratio</th>\n",
       "      <td>0.005280</td>\n",
       "      <td>0.019387</td>\n",
       "      <td>0.007578</td>\n",
       "      <td>0.005473</td>\n",
       "      <td>-0.889345</td>\n",
       "      <td>1.000000</td>\n",
       "      <td>-0.130753</td>\n",
       "      <td>0.037361</td>\n",
       "      <td>-0.342206</td>\n",
       "      <td>0.183808</td>\n",
       "      <td>-0.090938</td>\n",
       "    </tr>\n",
       "    <tr>\n",
       "      <th>frameTagRatio</th>\n",
       "      <td>-0.294860</td>\n",
       "      <td>-0.259222</td>\n",
       "      <td>-0.218559</td>\n",
       "      <td>-0.178064</td>\n",
       "      <td>0.159335</td>\n",
       "      <td>-0.130753</td>\n",
       "      <td>1.000000</td>\n",
       "      <td>-0.094557</td>\n",
       "      <td>0.033663</td>\n",
       "      <td>-0.088847</td>\n",
       "      <td>0.384937</td>\n",
       "    </tr>\n",
       "    <tr>\n",
       "      <th>parametrizedLinkRatio</th>\n",
       "      <td>-0.078026</td>\n",
       "      <td>-0.079485</td>\n",
       "      <td>-0.008652</td>\n",
       "      <td>0.036387</td>\n",
       "      <td>-0.033772</td>\n",
       "      <td>0.037361</td>\n",
       "      <td>-0.094557</td>\n",
       "      <td>1.000000</td>\n",
       "      <td>-0.007397</td>\n",
       "      <td>0.118549</td>\n",
       "      <td>-0.183350</td>\n",
       "    </tr>\n",
       "    <tr>\n",
       "      <th>spelling_errors_ratio</th>\n",
       "      <td>-0.035019</td>\n",
       "      <td>-0.027888</td>\n",
       "      <td>-0.008599</td>\n",
       "      <td>-0.013507</td>\n",
       "      <td>0.364122</td>\n",
       "      <td>-0.342206</td>\n",
       "      <td>0.033663</td>\n",
       "      <td>-0.007397</td>\n",
       "      <td>1.000000</td>\n",
       "      <td>-0.010975</td>\n",
       "      <td>0.013860</td>\n",
       "    </tr>\n",
       "    <tr>\n",
       "      <th>image_ratio</th>\n",
       "      <td>-0.064435</td>\n",
       "      <td>-0.044663</td>\n",
       "      <td>-0.050357</td>\n",
       "      <td>-0.038071</td>\n",
       "      <td>-0.188976</td>\n",
       "      <td>0.183808</td>\n",
       "      <td>-0.088847</td>\n",
       "      <td>0.118549</td>\n",
       "      <td>-0.010975</td>\n",
       "      <td>1.000000</td>\n",
       "      <td>-0.172924</td>\n",
       "    </tr>\n",
       "    <tr>\n",
       "      <th>html_ratio</th>\n",
       "      <td>-0.201501</td>\n",
       "      <td>-0.159702</td>\n",
       "      <td>-0.133370</td>\n",
       "      <td>-0.136561</td>\n",
       "      <td>0.106335</td>\n",
       "      <td>-0.090938</td>\n",
       "      <td>0.384937</td>\n",
       "      <td>-0.183350</td>\n",
       "      <td>0.013860</td>\n",
       "      <td>-0.172924</td>\n",
       "      <td>1.000000</td>\n",
       "    </tr>\n",
       "  </tbody>\n",
       "</table>\n",
       "</div>"
      ],
      "text/plain": [
       "                       commonlinkratio_1  commonlinkratio_2  \\\n",
       "commonlinkratio_1               1.000000           0.808047   \n",
       "commonlinkratio_2               0.808047           1.000000   \n",
       "commonlinkratio_3               0.560584           0.758330   \n",
       "commonlinkratio_4               0.388801           0.555148   \n",
       "compression_ratio              -0.017878          -0.032460   \n",
       "embed_ratio                     0.005280           0.019387   \n",
       "frameTagRatio                  -0.294860          -0.259222   \n",
       "parametrizedLinkRatio          -0.078026          -0.079485   \n",
       "spelling_errors_ratio          -0.035019          -0.027888   \n",
       "image_ratio                    -0.064435          -0.044663   \n",
       "html_ratio                     -0.201501          -0.159702   \n",
       "\n",
       "                       commonlinkratio_3  commonlinkratio_4  \\\n",
       "commonlinkratio_1               0.560584           0.388801   \n",
       "commonlinkratio_2               0.758330           0.555148   \n",
       "commonlinkratio_3               1.000000           0.850604   \n",
       "commonlinkratio_4               0.850604           1.000000   \n",
       "compression_ratio              -0.016188          -0.020415   \n",
       "embed_ratio                     0.007578           0.005473   \n",
       "frameTagRatio                  -0.218559          -0.178064   \n",
       "parametrizedLinkRatio          -0.008652           0.036387   \n",
       "spelling_errors_ratio          -0.008599          -0.013507   \n",
       "image_ratio                    -0.050357          -0.038071   \n",
       "html_ratio                     -0.133370          -0.136561   \n",
       "\n",
       "                       compression_ratio  embed_ratio  frameTagRatio  \\\n",
       "commonlinkratio_1              -0.017878     0.005280      -0.294860   \n",
       "commonlinkratio_2              -0.032460     0.019387      -0.259222   \n",
       "commonlinkratio_3              -0.016188     0.007578      -0.218559   \n",
       "commonlinkratio_4              -0.020415     0.005473      -0.178064   \n",
       "compression_ratio               1.000000    -0.889345       0.159335   \n",
       "embed_ratio                    -0.889345     1.000000      -0.130753   \n",
       "frameTagRatio                   0.159335    -0.130753       1.000000   \n",
       "parametrizedLinkRatio          -0.033772     0.037361      -0.094557   \n",
       "spelling_errors_ratio           0.364122    -0.342206       0.033663   \n",
       "image_ratio                    -0.188976     0.183808      -0.088847   \n",
       "html_ratio                      0.106335    -0.090938       0.384937   \n",
       "\n",
       "                       parametrizedLinkRatio  spelling_errors_ratio  \\\n",
       "commonlinkratio_1                  -0.078026              -0.035019   \n",
       "commonlinkratio_2                  -0.079485              -0.027888   \n",
       "commonlinkratio_3                  -0.008652              -0.008599   \n",
       "commonlinkratio_4                   0.036387              -0.013507   \n",
       "compression_ratio                  -0.033772               0.364122   \n",
       "embed_ratio                         0.037361              -0.342206   \n",
       "frameTagRatio                      -0.094557               0.033663   \n",
       "parametrizedLinkRatio               1.000000              -0.007397   \n",
       "spelling_errors_ratio              -0.007397               1.000000   \n",
       "image_ratio                         0.118549              -0.010975   \n",
       "html_ratio                         -0.183350               0.013860   \n",
       "\n",
       "                       image_ratio  html_ratio  \n",
       "commonlinkratio_1        -0.064435   -0.201501  \n",
       "commonlinkratio_2        -0.044663   -0.159702  \n",
       "commonlinkratio_3        -0.050357   -0.133370  \n",
       "commonlinkratio_4        -0.038071   -0.136561  \n",
       "compression_ratio        -0.188976    0.106335  \n",
       "embed_ratio               0.183808   -0.090938  \n",
       "frameTagRatio            -0.088847    0.384937  \n",
       "parametrizedLinkRatio     0.118549   -0.183350  \n",
       "spelling_errors_ratio    -0.010975    0.013860  \n",
       "image_ratio               1.000000   -0.172924  \n",
       "html_ratio               -0.172924    1.000000  "
      ]
     },
     "execution_count": 350,
     "metadata": {},
     "output_type": "execute_result"
    }
   ],
   "source": [
    "train_data[ratios].corr()"
   ]
  },
  {
   "cell_type": "code",
   "execution_count": 352,
   "metadata": {
    "collapsed": false
   },
   "outputs": [
    {
     "data": {
      "text/html": [
       "<div>\n",
       "<table border=\"1\" class=\"dataframe\">\n",
       "  <thead>\n",
       "    <tr style=\"text-align: right;\">\n",
       "      <th></th>\n",
       "      <th>embed_ratio</th>\n",
       "      <th>compression_ratio</th>\n",
       "      <th>image_ratio</th>\n",
       "    </tr>\n",
       "  </thead>\n",
       "  <tbody>\n",
       "    <tr>\n",
       "      <th>count</th>\n",
       "      <td>7395.000000</td>\n",
       "      <td>7395.000000</td>\n",
       "      <td>7395.000000</td>\n",
       "    </tr>\n",
       "    <tr>\n",
       "      <th>mean</th>\n",
       "      <td>-0.103750</td>\n",
       "      <td>2.255103</td>\n",
       "      <td>0.275709</td>\n",
       "    </tr>\n",
       "    <tr>\n",
       "      <th>std</th>\n",
       "      <td>0.306545</td>\n",
       "      <td>5.704313</td>\n",
       "      <td>1.919320</td>\n",
       "    </tr>\n",
       "    <tr>\n",
       "      <th>min</th>\n",
       "      <td>-1.000000</td>\n",
       "      <td>0.000000</td>\n",
       "      <td>-1.000000</td>\n",
       "    </tr>\n",
       "    <tr>\n",
       "      <th>25%</th>\n",
       "      <td>0.000000</td>\n",
       "      <td>0.442616</td>\n",
       "      <td>0.025900</td>\n",
       "    </tr>\n",
       "    <tr>\n",
       "      <th>50%</th>\n",
       "      <td>0.000000</td>\n",
       "      <td>0.483680</td>\n",
       "      <td>0.083051</td>\n",
       "    </tr>\n",
       "    <tr>\n",
       "      <th>75%</th>\n",
       "      <td>0.000000</td>\n",
       "      <td>0.578227</td>\n",
       "      <td>0.236700</td>\n",
       "    </tr>\n",
       "    <tr>\n",
       "      <th>max</th>\n",
       "      <td>0.250000</td>\n",
       "      <td>21.000000</td>\n",
       "      <td>113.333333</td>\n",
       "    </tr>\n",
       "  </tbody>\n",
       "</table>\n",
       "</div>"
      ],
      "text/plain": [
       "       embed_ratio  compression_ratio  image_ratio\n",
       "count  7395.000000        7395.000000  7395.000000\n",
       "mean     -0.103750           2.255103     0.275709\n",
       "std       0.306545           5.704313     1.919320\n",
       "min      -1.000000           0.000000    -1.000000\n",
       "25%       0.000000           0.442616     0.025900\n",
       "50%       0.000000           0.483680     0.083051\n",
       "75%       0.000000           0.578227     0.236700\n",
       "max       0.250000          21.000000   113.333333"
      ]
     },
     "execution_count": 352,
     "metadata": {},
     "output_type": "execute_result"
    }
   ],
   "source": [
    "train_data[['embed_ratio','compression_ratio','image_ratio']].describe()"
   ]
  },
  {
   "cell_type": "code",
   "execution_count": 289,
   "metadata": {
    "collapsed": false
   },
   "outputs": [],
   "source": [
    "# filltered_train_data = train_data.copy()\n",
    "# filltered_train_data = filltered_train_data[filltered_train_data.compression_ratio > 1]\n",
    "# filltered_train_data = train_data[np.abs(train_data.avglinksize-train_data.avglinksize.mean())<=(2*train_data.avglinksize.std())] #keep only the ones that are within +3 to -3 std.\n",
    "# filltered_train_data = filltered_train_data[np.abs(train_data.compression_ratio-train_data.compression_ratio.mean())<=(3*train_data.compression_ratio.std())] #keep only the ones that are within +3 to -3 standard deviations in the column 'Data'.\n",
    "# # filltered_train_data = filltered_train_data[np.abs(train_data.compression_ratio-train_data.compression_ratio.mean())<=(3*train_data.compression_ratio.std())] #keep only the ones that are within +3 to -3 standard deviations in the column 'Data'."
   ]
  },
  {
   "cell_type": "markdown",
   "metadata": {},
   "source": [
    "#  Data Normalization"
   ]
  },
  {
   "cell_type": "code",
   "execution_count": 374,
   "metadata": {
    "collapsed": false
   },
   "outputs": [],
   "source": [
    "cols_to_norm = ['embed_ratio','linkwordscore','avglinksize', 'non_markup_alphanum_characters', 'numberOfLinks', 'numwords_in_url']\n",
    "normalized_train_data = train_data.copy()\n",
    "normalized_train_data['embed_ratio'] = normalized_train_data['embed_ratio'].apply(lambda x: (x+1))\n",
    "normalized_train_data[cols_to_norm] = normalized_train_data[cols_to_norm].apply(lambda x: x / (x.max() - x.min()))"
   ]
  },
  {
   "cell_type": "markdown",
   "metadata": {},
   "source": [
    "### Drop Unnecessary Column"
   ]
  },
  {
   "cell_type": "code",
   "execution_count": 383,
   "metadata": {
    "collapsed": false
   },
   "outputs": [],
   "source": [
    "# normalized_train_data = normalized_train_data.drop('compression_ratio', axis = 1)\n",
    "# normalized_train_data = normalized_train_data.drop('embed_ratio', axis = 1)\n",
    "# normalized_train_data = normalized_train_data.drop('image_ratio', axis = 1)\n",
    "\n",
    "# normalized_train_data = normalized_train_data.join(df_alchemy_category) #don't run more than 1 time!\n",
    "# normalized_train_data = normalized_train_data.drop('alchemy_category', axis = 1)\n",
    "normalized_train_data = normalized_train_data.drop(['url', 'boilerplate', 'urlid'], axis = 1)\n"
   ]
  },
  {
   "cell_type": "code",
   "execution_count": 384,
   "metadata": {
    "collapsed": false
   },
   "outputs": [
    {
     "data": {
      "text/html": [
       "<div>\n",
       "<table border=\"1\" class=\"dataframe\">\n",
       "  <thead>\n",
       "    <tr style=\"text-align: right;\">\n",
       "      <th></th>\n",
       "      <th>alchemy_category_score</th>\n",
       "      <th>avglinksize</th>\n",
       "      <th>commonlinkratio_1</th>\n",
       "      <th>commonlinkratio_2</th>\n",
       "      <th>commonlinkratio_3</th>\n",
       "      <th>commonlinkratio_4</th>\n",
       "      <th>framebased</th>\n",
       "      <th>frameTagRatio</th>\n",
       "      <th>hasDomainLink</th>\n",
       "      <th>html_ratio</th>\n",
       "      <th>is_news</th>\n",
       "      <th>lengthyLinkDomain</th>\n",
       "      <th>linkwordscore</th>\n",
       "      <th>news_front_page</th>\n",
       "      <th>non_markup_alphanum_characters</th>\n",
       "      <th>numberOfLinks</th>\n",
       "    </tr>\n",
       "  </thead>\n",
       "  <tbody>\n",
       "    <tr>\n",
       "      <th>0</th>\n",
       "      <td>0.789131</td>\n",
       "      <td>0.005663</td>\n",
       "      <td>0.676471</td>\n",
       "      <td>0.205882</td>\n",
       "      <td>0.047059</td>\n",
       "      <td>0.023529</td>\n",
       "      <td>0</td>\n",
       "      <td>0.090774</td>\n",
       "      <td>0</td>\n",
       "      <td>0.245831</td>\n",
       "      <td>1.0</td>\n",
       "      <td>1</td>\n",
       "      <td>0.24</td>\n",
       "      <td>0.000000</td>\n",
       "      <td>0.026083</td>\n",
       "      <td>0.034027</td>\n",
       "    </tr>\n",
       "    <tr>\n",
       "      <th>1</th>\n",
       "      <td>0.574147</td>\n",
       "      <td>0.010132</td>\n",
       "      <td>0.508021</td>\n",
       "      <td>0.288770</td>\n",
       "      <td>0.213904</td>\n",
       "      <td>0.144385</td>\n",
       "      <td>0</td>\n",
       "      <td>0.098707</td>\n",
       "      <td>0</td>\n",
       "      <td>0.203490</td>\n",
       "      <td>1.0</td>\n",
       "      <td>1</td>\n",
       "      <td>0.40</td>\n",
       "      <td>0.000000</td>\n",
       "      <td>0.023914</td>\n",
       "      <td>0.037430</td>\n",
       "    </tr>\n",
       "    <tr>\n",
       "      <th>2</th>\n",
       "      <td>0.996526</td>\n",
       "      <td>0.006564</td>\n",
       "      <td>0.562016</td>\n",
       "      <td>0.321705</td>\n",
       "      <td>0.120155</td>\n",
       "      <td>0.042636</td>\n",
       "      <td>0</td>\n",
       "      <td>0.072448</td>\n",
       "      <td>0</td>\n",
       "      <td>0.226402</td>\n",
       "      <td>1.0</td>\n",
       "      <td>1</td>\n",
       "      <td>0.55</td>\n",
       "      <td>0.000000</td>\n",
       "      <td>0.010772</td>\n",
       "      <td>0.051641</td>\n",
       "    </tr>\n",
       "    <tr>\n",
       "      <th>3</th>\n",
       "      <td>0.801248</td>\n",
       "      <td>0.004251</td>\n",
       "      <td>0.400000</td>\n",
       "      <td>0.100000</td>\n",
       "      <td>0.016667</td>\n",
       "      <td>0.000000</td>\n",
       "      <td>0</td>\n",
       "      <td>0.095861</td>\n",
       "      <td>0</td>\n",
       "      <td>0.265656</td>\n",
       "      <td>1.0</td>\n",
       "      <td>0</td>\n",
       "      <td>0.24</td>\n",
       "      <td>0.000000</td>\n",
       "      <td>0.013162</td>\n",
       "      <td>0.024019</td>\n",
       "    </tr>\n",
       "    <tr>\n",
       "      <th>4</th>\n",
       "      <td>0.719157</td>\n",
       "      <td>0.007373</td>\n",
       "      <td>0.500000</td>\n",
       "      <td>0.222222</td>\n",
       "      <td>0.123457</td>\n",
       "      <td>0.043210</td>\n",
       "      <td>0</td>\n",
       "      <td>0.024908</td>\n",
       "      <td>0</td>\n",
       "      <td>0.228887</td>\n",
       "      <td>1.0</td>\n",
       "      <td>1</td>\n",
       "      <td>0.14</td>\n",
       "      <td>0.000000</td>\n",
       "      <td>0.057860</td>\n",
       "      <td>0.032426</td>\n",
       "    </tr>\n",
       "    <tr>\n",
       "      <th>5</th>\n",
       "      <td>0.603334</td>\n",
       "      <td>0.327824</td>\n",
       "      <td>0.745455</td>\n",
       "      <td>0.581818</td>\n",
       "      <td>0.290909</td>\n",
       "      <td>0.018182</td>\n",
       "      <td>0</td>\n",
       "      <td>0.019841</td>\n",
       "      <td>0</td>\n",
       "      <td>0.298300</td>\n",
       "      <td>1.0</td>\n",
       "      <td>0</td>\n",
       "      <td>0.12</td>\n",
       "      <td>0.047828</td>\n",
       "      <td>0.021005</td>\n",
       "      <td>0.011009</td>\n",
       "    </tr>\n",
       "    <tr>\n",
       "      <th>6</th>\n",
       "      <td>0.221110</td>\n",
       "      <td>0.002132</td>\n",
       "      <td>0.215054</td>\n",
       "      <td>0.053763</td>\n",
       "      <td>0.043011</td>\n",
       "      <td>0.043011</td>\n",
       "      <td>0</td>\n",
       "      <td>0.039568</td>\n",
       "      <td>0</td>\n",
       "      <td>0.218978</td>\n",
       "      <td>1.0</td>\n",
       "      <td>0</td>\n",
       "      <td>0.21</td>\n",
       "      <td>0.000000</td>\n",
       "      <td>0.006189</td>\n",
       "      <td>0.018615</td>\n",
       "    </tr>\n",
       "    <tr>\n",
       "      <th>7</th>\n",
       "      <td>0.603334</td>\n",
       "      <td>0.005188</td>\n",
       "      <td>0.719697</td>\n",
       "      <td>0.265152</td>\n",
       "      <td>0.113636</td>\n",
       "      <td>0.015152</td>\n",
       "      <td>0</td>\n",
       "      <td>0.026616</td>\n",
       "      <td>0</td>\n",
       "      <td>0.173746</td>\n",
       "      <td>1.0</td>\n",
       "      <td>0</td>\n",
       "      <td>0.05</td>\n",
       "      <td>0.047828</td>\n",
       "      <td>0.132992</td>\n",
       "      <td>0.026421</td>\n",
       "    </tr>\n",
       "    <tr>\n",
       "      <th>8</th>\n",
       "      <td>0.603334</td>\n",
       "      <td>0.001299</td>\n",
       "      <td>0.190722</td>\n",
       "      <td>0.036082</td>\n",
       "      <td>0.000000</td>\n",
       "      <td>0.000000</td>\n",
       "      <td>0</td>\n",
       "      <td>0.021705</td>\n",
       "      <td>0</td>\n",
       "      <td>0.114962</td>\n",
       "      <td>1.0</td>\n",
       "      <td>0</td>\n",
       "      <td>0.17</td>\n",
       "      <td>0.000000</td>\n",
       "      <td>0.011883</td>\n",
       "      <td>0.038831</td>\n",
       "    </tr>\n",
       "    <tr>\n",
       "      <th>9</th>\n",
       "      <td>0.603334</td>\n",
       "      <td>0.006639</td>\n",
       "      <td>0.469325</td>\n",
       "      <td>0.101227</td>\n",
       "      <td>0.018405</td>\n",
       "      <td>0.003067</td>\n",
       "      <td>0</td>\n",
       "      <td>0.012000</td>\n",
       "      <td>0</td>\n",
       "      <td>0.205117</td>\n",
       "      <td>1.0</td>\n",
       "      <td>1</td>\n",
       "      <td>0.14</td>\n",
       "      <td>0.047828</td>\n",
       "      <td>0.055104</td>\n",
       "      <td>0.065252</td>\n",
       "    </tr>\n",
       "  </tbody>\n",
       "</table>\n",
       "</div>"
      ],
      "text/plain": [
       "   alchemy_category_score  avglinksize  commonlinkratio_1  commonlinkratio_2  \\\n",
       "0                0.789131     0.005663           0.676471           0.205882   \n",
       "1                0.574147     0.010132           0.508021           0.288770   \n",
       "2                0.996526     0.006564           0.562016           0.321705   \n",
       "3                0.801248     0.004251           0.400000           0.100000   \n",
       "4                0.719157     0.007373           0.500000           0.222222   \n",
       "5                0.603334     0.327824           0.745455           0.581818   \n",
       "6                0.221110     0.002132           0.215054           0.053763   \n",
       "7                0.603334     0.005188           0.719697           0.265152   \n",
       "8                0.603334     0.001299           0.190722           0.036082   \n",
       "9                0.603334     0.006639           0.469325           0.101227   \n",
       "\n",
       "   commonlinkratio_3  commonlinkratio_4  framebased  frameTagRatio  \\\n",
       "0           0.047059           0.023529           0       0.090774   \n",
       "1           0.213904           0.144385           0       0.098707   \n",
       "2           0.120155           0.042636           0       0.072448   \n",
       "3           0.016667           0.000000           0       0.095861   \n",
       "4           0.123457           0.043210           0       0.024908   \n",
       "5           0.290909           0.018182           0       0.019841   \n",
       "6           0.043011           0.043011           0       0.039568   \n",
       "7           0.113636           0.015152           0       0.026616   \n",
       "8           0.000000           0.000000           0       0.021705   \n",
       "9           0.018405           0.003067           0       0.012000   \n",
       "\n",
       "   hasDomainLink  html_ratio  is_news  lengthyLinkDomain  linkwordscore  \\\n",
       "0              0    0.245831      1.0                  1           0.24   \n",
       "1              0    0.203490      1.0                  1           0.40   \n",
       "2              0    0.226402      1.0                  1           0.55   \n",
       "3              0    0.265656      1.0                  0           0.24   \n",
       "4              0    0.228887      1.0                  1           0.14   \n",
       "5              0    0.298300      1.0                  0           0.12   \n",
       "6              0    0.218978      1.0                  0           0.21   \n",
       "7              0    0.173746      1.0                  0           0.05   \n",
       "8              0    0.114962      1.0                  0           0.17   \n",
       "9              0    0.205117      1.0                  1           0.14   \n",
       "\n",
       "   news_front_page  non_markup_alphanum_characters  numberOfLinks  \n",
       "0         0.000000                        0.026083       0.034027  \n",
       "1         0.000000                        0.023914       0.037430  \n",
       "2         0.000000                        0.010772       0.051641  \n",
       "3         0.000000                        0.013162       0.024019  \n",
       "4         0.000000                        0.057860       0.032426  \n",
       "5         0.047828                        0.021005       0.011009  \n",
       "6         0.000000                        0.006189       0.018615  \n",
       "7         0.047828                        0.132992       0.026421  \n",
       "8         0.000000                        0.011883       0.038831  \n",
       "9         0.047828                        0.055104       0.065252  "
      ]
     },
     "execution_count": 384,
     "metadata": {},
     "output_type": "execute_result"
    }
   ],
   "source": [
    "normalized_train_data.iloc[:,:16].head(10)"
   ]
  },
  {
   "cell_type": "code",
   "execution_count": null,
   "metadata": {
    "collapsed": true
   },
   "outputs": [],
   "source": [
    "#Train-test split"
   ]
  },
  {
   "cell_type": "code",
   "execution_count": null,
   "metadata": {
    "collapsed": true
   },
   "outputs": [],
   "source": [
    "train_data = all_data[:train_len]\n",
    "test_data = all_data[train_len:]"
   ]
  },
  {
   "cell_type": "markdown",
   "metadata": {},
   "source": [
    "## Randomly Shuffle Training Data"
   ]
  },
  {
   "cell_type": "code",
   "execution_count": 385,
   "metadata": {
    "collapsed": true
   },
   "outputs": [],
   "source": [
    "train_data = normalized_train_data.sample(frac = 1)"
   ]
  },
  {
   "cell_type": "code",
   "execution_count": 395,
   "metadata": {
    "collapsed": false
   },
   "outputs": [
    {
     "data": {
      "text/plain": [
       "'is_news'"
      ]
     },
     "execution_count": 395,
     "metadata": {},
     "output_type": "execute_result"
    }
   ],
   "source": [
    "data = train_data.drop('label', 1)\n",
    "\n",
    "data.iloc[:,10].name"
   ]
  },
  {
   "cell_type": "markdown",
   "metadata": {},
   "source": [
    "# Feature Selection"
   ]
  },
  {
   "cell_type": "code",
   "execution_count": 399,
   "metadata": {
    "collapsed": false
   },
   "outputs": [
    {
     "name": "stdout",
     "output_type": "stream",
     "text": [
      "Feature ranking:\n",
      "1. feature 12 (alchemy_category_score)\n",
      "   score: 0.080172\n",
      "2. feature 7 (avglinksize)\n",
      "   score: 0.071785\n",
      "3. feature 14 (commonlinkratio_1)\n",
      "   score: 0.067292\n",
      "4. feature 18 (commonlinkratio_2)\n",
      "   score: 0.062918\n",
      "5. feature 15 (commonlinkratio_3)\n",
      "   score: 0.060487\n",
      "6. feature 9 (commonlinkratio_4)\n",
      "   score: 0.060336\n",
      "7. feature 1 (framebased)\n",
      "   score: 0.060221\n",
      "8. feature 2 (frameTagRatio)\n",
      "   score: 0.059393\n",
      "9. feature 17 (hasDomainLink)\n",
      "   score: 0.058733\n",
      "10. feature 16 (html_ratio)\n",
      "   score: 0.057598\n",
      "11. feature 3 (is_news)\n",
      "   score: 0.057447\n",
      "12. feature 4 (lengthyLinkDomain)\n",
      "   score: 0.055070\n",
      "13. feature 5 (linkwordscore)\n",
      "   score: 0.050185\n",
      "14. feature 0 (news_front_page)\n",
      "   score: 0.043469\n",
      "15. feature 13 (non_markup_alphanum_characters)\n",
      "   score: 0.021626\n",
      "16. feature 26 (numberOfLinks)\n",
      "   score: 0.021612\n",
      "17. feature 20 (numwords_in_url)\n",
      "   score: 0.020102\n",
      "18. feature 29 (parametrizedLinkRatio)\n",
      "   score: 0.017115\n",
      "19. feature 11 (spelling_errors_ratio)\n",
      "   score: 0.016483\n",
      "20. feature 19 (arts_entertainment)\n",
      "   score: 0.010795\n",
      "21. feature 21 (business)\n",
      "   score: 0.010168\n",
      "22. feature 30 (computer_internet)\n",
      "   score: 0.007957\n",
      "23. feature 24 (culture_politics)\n",
      "   score: 0.007254\n",
      "24. feature 8 (gaming)\n",
      "   score: 0.005991\n",
      "25. feature 22 (health)\n",
      "   score: 0.004974\n",
      "26. feature 28 (law_crime)\n",
      "   score: 0.004496\n",
      "27. feature 23 (recreation)\n",
      "   score: 0.002355\n",
      "28. feature 27 (religion)\n",
      "   score: 0.002341\n",
      "29. feature 25 (science_technology)\n",
      "   score: 0.001414\n",
      "30. feature 31 (sports)\n",
      "   score: 0.000209\n",
      "31. feature 6 (unknown)\n",
      "   score: 0.000000\n",
      "32. feature 10 (weather)\n",
      "   score: 0.000000\n"
     ]
    },
    {
     "data": {
      "image/png": "[encoded data removed]",
      "text/plain": [
       "<matplotlib.figure.Figure at 0x7f2f145d7a90>"
      ]
     },
     "metadata": {},
     "output_type": "display_data"
    }
   ],
   "source": [
    "# Build a forest and compute the feature importances\n",
    "forest = ExtraTreesClassifier(n_estimators=250,\n",
    "                              random_state=0)\n",
    "labels = train_data['label'].values\n",
    "data = train_data.drop('label', 1)\n",
    "data_to_fit = train_data.drop('label', 1).values\n",
    "\n",
    "forest.fit(data_to_fit, labels)\n",
    "importances = forest.feature_importances_\n",
    "std = np.std([tree.feature_importances_ for tree in forest.estimators_],\n",
    "             axis=0)\n",
    "indices = np.argsort(importances)[::-1]\n",
    "\n",
    "# Print the feature ranking\n",
    "print(\"Feature ranking:\")\n",
    "\n",
    "for f in range(data.shape[1]):\n",
    "    print(\"%d. feature %d (%s)\\n   score: %f\" % (f + 1, indices[f], data.iloc[:,f].name, importances[indices[f]]))\n",
    "\n",
    "# Plot the feature importances of the forest\n",
    "plt.figure()\n",
    "plt.title(\"Feature importances\")\n",
    "plt.bar(range(data_to_fit.shape[1]), importances[indices],\n",
    "       color=\"r\", yerr=std[indices], align=\"center\")\n",
    "plt.xticks(range(data_to_fit.shape[1]), indices)\n",
    "plt.xlim([-1, data_to_fit.shape[1]])\n",
    "plt.show()"
   ]
  },
  {
   "cell_type": "markdown",
   "metadata": {},
   "source": [
    "# TF - IDF"
   ]
  },
  {
   "cell_type": "code",
   "execution_count": null,
   "metadata": {
    "collapsed": true
   },
   "outputs": [],
   "source": [
    "print \"loading data..\"\n",
    "traindata = list(np.array(p.read_table('train.tsv'))[:, 2])\n",
    "testdata = list(np.array(p.read_table('test.tsv'))[:, 2])\n",
    "y = np.array(np.array(p.read_table('train.tsv'))[:, -1]).astype(int)\n",
    "\n",
    "\n",
    "tfv = TfidfVectorizer(min_df=3, max_features=None, strip_accents='unicode',\n",
    "                      analyzer='word', token_pattern=r'\\w{1,}', ngram_range=(1, 2), use_idf=1, smooth_idf=1,\n",
    "                      sublinear_tf=1)\n",
    "\n",
    "rd = lm.LogisticRegression(penalty='l2', dual=True, tol=0.0001,\n",
    "                           C=1, fit_intercept=True, intercept_scaling=1.0,\n",
    "                           class_weight=None, random_state=None)\n",
    "\n",
    "x_all = traindata + testdata\n",
    "len_train = len(traindata)\n",
    "\n",
    "print \"fitting pipeline\"\n",
    "x2 = tfv.fit_transform((np.array(x_all)))  # returns a matrix of [n_samples, n_features]\n",
    "\n",
    "print \"transforming data\"\n",
    "x_train = x2[:len_train]\n",
    "x_test = x2[len_train:]\n",
    "\n",
    "print \"20 Fold CV Score: \", np.mean(cross_validation.cross_val_score(rd, x_train, y, cv=20, scoring='roc_auc'))\n",
    "\n",
    "print \"training on full data\"\n",
    "rd.fit(x_train, y)\n",
    "prediction = rd.predict_proba(x_test)[:, 1]\n",
    "testfile = p.read_csv('test.tsv', sep=\"\\t\", na_values=['?'], index_col=1)\n",
    "prediction_df = p.DataFrame(prediction, index=testfile.index, columns=['label'])\n",
    "prediction_df.to_csv('benchmark.csv')\n",
    "print \"submission file created..\""
   ]
  },
  {
   "cell_type": "markdown",
   "metadata": {},
   "source": [
    "## Visualization"
   ]
  },
  {
   "cell_type": "code",
   "execution_count": 29,
   "metadata": {
    "collapsed": true
   },
   "outputs": [
    {
     "name": "stdout",
     "output_type": "stream",
     "text": [
      "        age         workclass     education education-num      marital-status  \\\n",
      "27952  21.0           Private       HS-grad             9       Never-married   \n",
      "18886  54.0           Private       HS-grad             9  Married-civ-spouse   \n",
      "11885  40.0           Private    Assoc-acdm            12       Never-married   \n",
      "25927  25.0           Private     Bachelors            13       Never-married   \n",
      "4963   47.0           Private       Masters            14       Never-married   \n",
      "985    63.0           Private     Assoc-voc            11            Divorced   \n",
      "26040  29.0           Private       HS-grad             9       Never-married   \n",
      "25458  26.0           Private    Assoc-acdm            12  Married-civ-spouse   \n",
      "26029  52.0  Self-emp-not-inc     Assoc-voc            11  Married-civ-spouse   \n",
      "27345  50.0           Private     Bachelors            13  Married-civ-spouse   \n",
      "8248   23.0           Private     Bachelors            13  Married-civ-spouse   \n",
      "6799   35.0         State-gov  Some-college            10            Divorced   \n",
      "10827  35.0           Private  Some-college            10  Married-civ-spouse   \n",
      "28353  38.0           Private     Assoc-voc            11            Divorced   \n",
      "11565  43.0      Self-emp-inc    Assoc-acdm            12  Married-civ-spouse   \n",
      "2363   28.0           Private       HS-grad             9       Never-married   \n",
      "27485  28.0           Private          11th             7  Married-civ-spouse   \n",
      "1688   53.0           Private           9th             5            Divorced   \n",
      "32473  41.0       Federal-gov       Masters            14            Divorced   \n",
      "10359  32.0           Private       HS-grad             9  Married-civ-spouse   \n",
      "4269   22.0           Private  Some-college            10       Never-married   \n",
      "26215  28.0           Private       Masters            14       Never-married   \n",
      "7187   67.0  Self-emp-not-inc  Some-college            10  Married-civ-spouse   \n",
      "2024   36.0           Private     Bachelors            13  Married-civ-spouse   \n",
      "23971  29.0           Private    Assoc-acdm            12  Married-civ-spouse   \n",
      "16575  22.0           Private       HS-grad             9       Never-married   \n",
      "31927  60.0           Private          11th             7  Married-civ-spouse   \n",
      "556    35.0           Private       HS-grad             9  Married-civ-spouse   \n",
      "2718   51.0           Private     Bachelors            13            Divorced   \n",
      "8683   58.0           Private       HS-grad             9             Widowed   \n",
      "...     ...               ...           ...           ...                 ...   \n",
      "26933  21.0       Federal-gov       HS-grad             9       Never-married   \n",
      "23924  18.0           Private          12th             8       Never-married   \n",
      "8537   32.0           Private       HS-grad             9       Never-married   \n",
      "18894  26.0           Private       HS-grad             9       Never-married   \n",
      "29159  35.0           Private       HS-grad             9  Married-civ-spouse   \n",
      "6654   49.0           Private          11th             7            Divorced   \n",
      "8087   30.0           Private     Assoc-voc            11            Divorced   \n",
      "27252  41.0  Self-emp-not-inc       HS-grad             9  Married-civ-spouse   \n",
      "21508  25.0           Private    Assoc-acdm            12       Never-married   \n",
      "4199   18.0           Private          12th             8       Never-married   \n",
      "25131  49.0  Self-emp-not-inc           9th             5            Divorced   \n",
      "21609  29.0           Private       HS-grad             9       Never-married   \n",
      "6433   27.0           Private     Preschool             1  Married-civ-spouse   \n",
      "23195  25.0         State-gov  Some-college            10  Married-civ-spouse   \n",
      "29116  22.0           Private     Assoc-voc            11       Never-married   \n",
      "30702  47.0           Private  Some-college            10            Divorced   \n",
      "18731  28.0           Private       HS-grad             9       Never-married   \n",
      "8218   65.0           Private       HS-grad             9            Divorced   \n",
      "4572   19.0           Private          11th             7       Never-married   \n",
      "6180   71.0  Self-emp-not-inc   Prof-school            15  Married-civ-spouse   \n",
      "6828   33.0           Private  Some-college            10            Divorced   \n",
      "19966  19.0           Private       HS-grad             9       Never-married   \n",
      "23927  27.0           Private       5th-6th             3       Never-married   \n",
      "10539  22.0           Private  Some-college            10       Never-married   \n",
      "27667  24.0           Private       HS-grad             9  Married-civ-spouse   \n",
      "18730  65.0           Private       HS-grad             9             Widowed   \n",
      "20026  48.0           Private       HS-grad             9  Married-civ-spouse   \n",
      "21957  27.0         State-gov     Bachelors            13       Never-married   \n",
      "26912  32.0      Self-emp-inc     Bachelors            13  Married-civ-spouse   \n",
      "23387  48.0           Private  Some-college            10           Separated   \n",
      "\n",
      "              occupation    relationship                race     sex  \\\n",
      "27952      Other-service       Own-child               White  Female   \n",
      "18886              Sales         Husband               White    Male   \n",
      "11885       Adm-clerical   Not-in-family               White  Female   \n",
      "25927       Adm-clerical   Not-in-family               White  Female   \n",
      "4963      Prof-specialty   Not-in-family               White  Female   \n",
      "985        Other-service   Not-in-family               White  Female   \n",
      "26040     Prof-specialty   Not-in-family               White    Male   \n",
      "25458       Adm-clerical       Own-child               White  Female   \n",
      "26029    Exec-managerial         Husband               White    Male   \n",
      "27345    Exec-managerial         Husband               White    Male   \n",
      "8248       Other-service         Husband               White    Male   \n",
      "6799     Exec-managerial   Not-in-family               Black  Female   \n",
      "10827       Craft-repair         Husband               White    Male   \n",
      "28353       Adm-clerical       Unmarried               White  Female   \n",
      "11565    Exec-managerial         Husband               White    Male   \n",
      "2363   Handlers-cleaners       Own-child               White    Male   \n",
      "27485    Farming-fishing         Husband               White    Male   \n",
      "1688       Other-service   Not-in-family               White  Female   \n",
      "32473     Prof-specialty       Unmarried               White  Female   \n",
      "10359  Handlers-cleaners         Husband               White    Male   \n",
      "4269       Other-service  Other-relative               White    Male   \n",
      "26215     Prof-specialty       Own-child               White    Male   \n",
      "7187     Farming-fishing         Husband               White    Male   \n",
      "2024     Exec-managerial         Husband               White    Male   \n",
      "23971       Adm-clerical         Husband               White    Male   \n",
      "16575      Other-service       Unmarried               White  Female   \n",
      "31927       Craft-repair         Husband               White    Male   \n",
      "556    Machine-op-inspct         Husband               White    Male   \n",
      "2718     Exec-managerial   Not-in-family  Amer-Indian-Eskimo    Male   \n",
      "8683        Adm-clerical   Not-in-family               White  Female   \n",
      "...                  ...             ...                 ...     ...   \n",
      "26933       Adm-clerical       Own-child               White    Male   \n",
      "23924       Adm-clerical       Own-child               White  Female   \n",
      "8537       Other-service       Own-child               White  Female   \n",
      "18894       Adm-clerical       Own-child               Black  Female   \n",
      "29159   Transport-moving         Husband               White    Male   \n",
      "6654   Machine-op-inspct       Unmarried               Black  Female   \n",
      "8087     Exec-managerial   Not-in-family               White    Male   \n",
      "27252  Handlers-cleaners         Husband               White    Male   \n",
      "21508       Adm-clerical       Unmarried               White  Female   \n",
      "4199       Other-service   Not-in-family               White  Female   \n",
      "25131      Other-service   Not-in-family               White  Female   \n",
      "21609     Prof-specialty   Not-in-family               White  Female   \n",
      "6433     Farming-fishing  Other-relative               White    Male   \n",
      "23195       Adm-clerical         Husband               Black    Male   \n",
      "29116    Exec-managerial       Own-child               White    Male   \n",
      "30702    Exec-managerial       Unmarried               White  Female   \n",
      "18731    Exec-managerial   Not-in-family               White    Male   \n",
      "8218        Adm-clerical       Unmarried               White  Female   \n",
      "4572   Handlers-cleaners   Not-in-family               White    Male   \n",
      "6180     Farming-fishing         Husband               White    Male   \n",
      "6828        Adm-clerical   Not-in-family               Black  Female   \n",
      "19966      Other-service       Own-child               White  Female   \n",
      "23927    Farming-fishing       Unmarried               White    Male   \n",
      "10539     Prof-specialty   Not-in-family               Black  Female   \n",
      "27667    Farming-fishing         Husband               White    Male   \n",
      "18730     Prof-specialty       Unmarried               White  Female   \n",
      "20026       Craft-repair         Husband               White    Male   \n",
      "21957     Prof-specialty       Unmarried               White    Male   \n",
      "26912              Sales         Husband               White    Male   \n",
      "23387       Adm-clerical       Unmarried               White  Female   \n",
      "\n",
      "       capital-gain  capital-loss  hours-per-week native-country class  \n",
      "27952           0.0           0.0            32.0  United-States     0  \n",
      "18886           0.0           0.0            44.0  United-States     0  \n",
      "11885           0.0           0.0            40.0  United-States     0  \n",
      "25927           0.0           0.0            40.0  United-States     0  \n",
      "4963            0.0           0.0            35.0  United-States     0  \n",
      "985             0.0           0.0            20.0  United-States     0  \n",
      "26040           0.0           0.0            40.0  United-States     0  \n",
      "25458           0.0           0.0            40.0  United-States     0  \n",
      "26029           0.0           0.0            40.0  United-States     0  \n",
      "27345           0.0           0.0            60.0  United-States     0  \n",
      "8248            0.0           0.0            20.0  United-States     0  \n",
      "6799            0.0           0.0            40.0  United-States     0  \n",
      "10827           0.0           0.0            45.0  United-States     0  \n",
      "28353           0.0           0.0            40.0  United-States     0  \n",
      "11565           0.0           0.0            50.0  United-States     0  \n",
      "2363            0.0           0.0            40.0  United-States     0  \n",
      "27485           0.0           0.0            40.0  United-States     0  \n",
      "1688            0.0           0.0            36.0         Canada     0  \n",
      "32473        1506.0           0.0            40.0  United-States     0  \n",
      "10359        2829.0           0.0            40.0  United-States     0  \n",
      "4269            0.0           0.0            25.0  United-States     0  \n",
      "26215           0.0           0.0            40.0  United-States     0  \n",
      "7187            0.0           0.0            44.0  United-States     0  \n",
      "2024            0.0           0.0            40.0  United-States     0  \n",
      "23971           0.0           0.0            40.0  United-States     0  \n",
      "16575           0.0           0.0            35.0  United-States     0  \n",
      "31927           0.0           0.0            40.0  United-States     0  \n",
      "556             0.0           0.0            40.0  United-States     0  \n",
      "2718            0.0           0.0            50.0  United-States     0  \n",
      "8683            0.0           0.0            37.0  United-States     0  \n",
      "...             ...           ...             ...            ...   ...  \n",
      "26933           0.0           0.0            36.0  United-States     0  \n",
      "23924           0.0           0.0            20.0  United-States     0  \n",
      "8537            0.0           0.0            35.0  United-States     0  \n",
      "18894           0.0           0.0            40.0  United-States     0  \n",
      "29159           0.0           0.0            30.0  United-States     0  \n",
      "6654            0.0           0.0            35.0  United-States     0  \n",
      "8087            0.0           0.0            40.0  United-States     0  \n",
      "27252           0.0        2179.0            40.0  United-States     0  \n",
      "21508           0.0           0.0            40.0  United-States     0  \n",
      "4199            0.0           0.0            25.0  United-States     0  \n",
      "25131           0.0           0.0            20.0  United-States     0  \n",
      "21609           0.0           0.0            50.0  United-States     0  \n",
      "6433        41310.0           0.0            24.0         Mexico     0  \n",
      "23195           0.0           0.0            38.0  United-States     0  \n",
      "29116           0.0           0.0            40.0  United-States     0  \n",
      "30702           0.0           0.0            40.0  United-States     0  \n",
      "18731           0.0           0.0            40.0  United-States     0  \n",
      "8218            0.0        2206.0            59.0         Canada     0  \n",
      "4572            0.0           0.0            40.0  United-States     0  \n",
      "6180            0.0           0.0             2.0  United-States     0  \n",
      "6828            0.0           0.0            40.0  United-States     0  \n",
      "19966           0.0           0.0            40.0  United-States     0  \n",
      "23927           0.0           0.0            50.0  United-States     0  \n",
      "10539           0.0           0.0            25.0  United-States     0  \n",
      "27667           0.0           0.0            60.0  United-States     0  \n",
      "18730        2329.0           0.0            75.0  United-States     0  \n",
      "20026           0.0           0.0            55.0  United-States     0  \n",
      "21957           0.0           0.0            50.0  United-States     0  \n",
      "26912           0.0           0.0            40.0  United-States     0  \n",
      "23387           0.0           0.0            44.0  United-States     0  \n",
      "\n",
      "[24720 rows x 14 columns]\n"
     ]
    }
   ],
   "source": [
    "print(train_data[train_data['class'] == '0'])"
   ]
  },
  {
   "cell_type": "code",
   "execution_count": 30,
   "metadata": {
    "collapsed": true
   },
   "outputs": [
    {
     "data": {
      "text/plain": [
       "<matplotlib.text.Text at 0x10ef99668>"
      ]
     },
     "execution_count": 30,
     "metadata": {},
     "output_type": "execute_result"
    },
    {
     "data": {
      "image/png": "[encoded data removed]",
      "text/plain": [
       "<matplotlib.figure.Figure at 0x10eca9550>"
      ]
     },
     "metadata": {},
     "output_type": "display_data"
    }
   ],
   "source": [
    "sns.distplot(train_data.age, bins = 25, kde = False)\n",
    "plt.title('Histogram of Age')\n",
    "plt.xlabel('Age')\n",
    "plt.ylabel('Count')\n",
    "#plt.show()"
   ]
  },
  {
   "cell_type": "code",
   "execution_count": 31,
   "metadata": {
    "collapsed": false
   },
   "outputs": [
    {
     "data": {
      "text/plain": [
       "<matplotlib.legend.Legend at 0x10da12ef0>"
      ]
     },
     "execution_count": 31,
     "metadata": {},
     "output_type": "execute_result"
    },
    {
     "data": {
      "image/png": "[encoded data removed]",
      "text/plain": [
       "<matplotlib.figure.Figure at 0x10ef935c0>"
      ]
     },
     "metadata": {},
     "output_type": "display_data"
    }
   ],
   "source": [
    "sns.distplot(train_data[train_data['class'] == '1'].age, bins = 25, kde = True, label = \">= $50k\")\n",
    "plt.title('Class-wise Histogram of Age')\n",
    "plt.xlabel('Age')\n",
    "plt.ylabel('Count')\n",
    "plt.legend(loc=\"upper right\")"
   ]
  },
  {
   "cell_type": "code",
   "execution_count": 32,
   "metadata": {
    "collapsed": false
   },
   "outputs": [
    {
     "data": {
      "text/plain": [
       "<matplotlib.text.Text at 0x10f4e19e8>"
      ]
     },
     "execution_count": 32,
     "metadata": {},
     "output_type": "execute_result"
    },
    {
     "data": {
      "image/png": "[encoded data removed]",
      "text/plain": [
       "<matplotlib.figure.Figure at 0x10c176f60>"
      ]
     },
     "metadata": {},
     "output_type": "display_data"
    }
   ],
   "source": [
    "sns.set(color_codes=True)\n",
    "train_data['education-num'] = train_data['education-num'].map(int)\n",
    "sns.regplot('education-num', 'hours-per-week', train_data[train_data['class'] == '1'], \n",
    "            scatter_kws={\"marker\": \".\", \"color\": \"green\"},\n",
    "            line_kws = {\"linewidth\": \"1\", \"color\": \"green\"},\n",
    "            order = 3,\n",
    "            label = '>= $50k')\n",
    "plt.xlabel('Number of years of education')\n",
    "plt.ylabel('Hours per week')\n",
    "plt.legend(loc=\"lower right\")\n",
    "plt.title(\"Scatter plot of hours worked per week and number of years of education\")"
   ]
  },
  {
   "cell_type": "markdown",
   "metadata": {},
   "source": [
    "## Binning numeric values"
   ]
  },
  {
   "cell_type": "code",
   "execution_count": 33,
   "metadata": {
    "collapsed": false
   },
   "outputs": [],
   "source": [
    "def binning(col,bin_num):\n",
    "  #Define min and max values:\n",
    "  minval = col.min()\n",
    "  maxval = col.max()\n",
    "\n",
    "  \n",
    "\n",
    "  #if no labels provided, use default labels 0 ... (n-1)\n",
    "  \n",
    "  labels = ['BIN_'+str(i) for i in range(bin_num)]\n",
    "\n",
    "  #Binning using cut function of pandas\n",
    "  #colBin = pd.cut(col,bin_num,include_lowest=True)\n",
    "  colBin = pd.cut(col,bin_num,labels=labels,include_lowest=True)\n",
    "  return colBin"
   ]
  },
  {
   "cell_type": "code",
   "execution_count": 34,
   "metadata": {
    "collapsed": false
   },
   "outputs": [
    {
     "name": "stdout",
     "output_type": "stream",
     "text": [
      "(21.0, 'BIN_1')\n",
      "(59.0, 'BIN_11')\n",
      "(54.0, 'BIN_10')\n",
      "(40.0, 'BIN_6')\n",
      "(25.0, 'BIN_2')\n"
     ]
    }
   ],
   "source": [
    "age=train_data['age'].head(5)\n",
    "age_b=binning(train_data['age'],20).head(5)\n",
    "for i in enumerate(zip(age,age_b)):\n",
    "    print(i[1])"
   ]
  },
  {
   "cell_type": "code",
   "execution_count": 35,
   "metadata": {
    "collapsed": false
   },
   "outputs": [],
   "source": [
    "#bin all numeric variables:\n",
    "categorical_variables = ['workclass', 'education', 'education-num', 'marital-status', \n",
    "                         'occupation', 'relationship', 'race', 'sex', 'native-country']\n",
    "numeric_variables = ['hours-per-week','age','capital-gain','capital-loss']\n",
    "\n",
    "\n",
    "numeric_variables_binned = []\n",
    "for variable in numeric_variables:\n",
    "    binned_output_column = variable + \"_binned\"\n",
    "    train_data[binned_output_column] = binning(train_data[variable],20)\n",
    "    test_data[binned_output_column] = binning(test_data[variable],20)\n",
    "    numeric_variables_binned.append(binned_output_column)"
   ]
  },
  {
   "cell_type": "code",
   "execution_count": 36,
   "metadata": {
    "collapsed": false
   },
   "outputs": [
    {
     "data": {
      "text/html": [
       "<div>\n",
       "<table border=\"1\" class=\"dataframe\">\n",
       "  <thead>\n",
       "    <tr style=\"text-align: right;\">\n",
       "      <th></th>\n",
       "      <th>age</th>\n",
       "      <th>workclass</th>\n",
       "      <th>education</th>\n",
       "      <th>education-num</th>\n",
       "      <th>marital-status</th>\n",
       "      <th>occupation</th>\n",
       "      <th>relationship</th>\n",
       "      <th>race</th>\n",
       "      <th>sex</th>\n",
       "      <th>capital-gain</th>\n",
       "      <th>capital-loss</th>\n",
       "      <th>hours-per-week</th>\n",
       "      <th>native-country</th>\n",
       "      <th>class</th>\n",
       "      <th>hours-per-week_binned</th>\n",
       "      <th>age_binned</th>\n",
       "      <th>capital-gain_binned</th>\n",
       "      <th>capital-loss_binned</th>\n",
       "    </tr>\n",
       "  </thead>\n",
       "  <tbody>\n",
       "    <tr>\n",
       "      <th>27952</th>\n",
       "      <td>21.0</td>\n",
       "      <td>Private</td>\n",
       "      <td>HS-grad</td>\n",
       "      <td>9</td>\n",
       "      <td>Never-married</td>\n",
       "      <td>Other-service</td>\n",
       "      <td>Own-child</td>\n",
       "      <td>White</td>\n",
       "      <td>Female</td>\n",
       "      <td>0.0</td>\n",
       "      <td>0.0</td>\n",
       "      <td>32.0</td>\n",
       "      <td>United-States</td>\n",
       "      <td>0</td>\n",
       "      <td>BIN_6</td>\n",
       "      <td>BIN_1</td>\n",
       "      <td>BIN_0</td>\n",
       "      <td>BIN_0</td>\n",
       "    </tr>\n",
       "    <tr>\n",
       "      <th>15390</th>\n",
       "      <td>59.0</td>\n",
       "      <td>Private</td>\n",
       "      <td>Some-college</td>\n",
       "      <td>10</td>\n",
       "      <td>Married-civ-spouse</td>\n",
       "      <td>Craft-repair</td>\n",
       "      <td>Husband</td>\n",
       "      <td>White</td>\n",
       "      <td>Male</td>\n",
       "      <td>0.0</td>\n",
       "      <td>0.0</td>\n",
       "      <td>40.0</td>\n",
       "      <td>United-States</td>\n",
       "      <td>1</td>\n",
       "      <td>BIN_7</td>\n",
       "      <td>BIN_11</td>\n",
       "      <td>BIN_0</td>\n",
       "      <td>BIN_0</td>\n",
       "    </tr>\n",
       "    <tr>\n",
       "      <th>18886</th>\n",
       "      <td>54.0</td>\n",
       "      <td>Private</td>\n",
       "      <td>HS-grad</td>\n",
       "      <td>9</td>\n",
       "      <td>Married-civ-spouse</td>\n",
       "      <td>Sales</td>\n",
       "      <td>Husband</td>\n",
       "      <td>White</td>\n",
       "      <td>Male</td>\n",
       "      <td>0.0</td>\n",
       "      <td>0.0</td>\n",
       "      <td>44.0</td>\n",
       "      <td>United-States</td>\n",
       "      <td>0</td>\n",
       "      <td>BIN_8</td>\n",
       "      <td>BIN_10</td>\n",
       "      <td>BIN_0</td>\n",
       "      <td>BIN_0</td>\n",
       "    </tr>\n",
       "    <tr>\n",
       "      <th>11885</th>\n",
       "      <td>40.0</td>\n",
       "      <td>Private</td>\n",
       "      <td>Assoc-acdm</td>\n",
       "      <td>12</td>\n",
       "      <td>Never-married</td>\n",
       "      <td>Adm-clerical</td>\n",
       "      <td>Not-in-family</td>\n",
       "      <td>White</td>\n",
       "      <td>Female</td>\n",
       "      <td>0.0</td>\n",
       "      <td>0.0</td>\n",
       "      <td>40.0</td>\n",
       "      <td>United-States</td>\n",
       "      <td>0</td>\n",
       "      <td>BIN_7</td>\n",
       "      <td>BIN_6</td>\n",
       "      <td>BIN_0</td>\n",
       "      <td>BIN_0</td>\n",
       "    </tr>\n",
       "    <tr>\n",
       "      <th>25927</th>\n",
       "      <td>25.0</td>\n",
       "      <td>Private</td>\n",
       "      <td>Bachelors</td>\n",
       "      <td>13</td>\n",
       "      <td>Never-married</td>\n",
       "      <td>Adm-clerical</td>\n",
       "      <td>Not-in-family</td>\n",
       "      <td>White</td>\n",
       "      <td>Female</td>\n",
       "      <td>0.0</td>\n",
       "      <td>0.0</td>\n",
       "      <td>40.0</td>\n",
       "      <td>United-States</td>\n",
       "      <td>0</td>\n",
       "      <td>BIN_7</td>\n",
       "      <td>BIN_2</td>\n",
       "      <td>BIN_0</td>\n",
       "      <td>BIN_0</td>\n",
       "    </tr>\n",
       "  </tbody>\n",
       "</table>\n",
       "</div>"
      ],
      "text/plain": [
       "        age workclass     education  education-num      marital-status  \\\n",
       "27952  21.0   Private       HS-grad              9       Never-married   \n",
       "15390  59.0   Private  Some-college             10  Married-civ-spouse   \n",
       "18886  54.0   Private       HS-grad              9  Married-civ-spouse   \n",
       "11885  40.0   Private    Assoc-acdm             12       Never-married   \n",
       "25927  25.0   Private     Bachelors             13       Never-married   \n",
       "\n",
       "          occupation   relationship   race     sex  capital-gain  \\\n",
       "27952  Other-service      Own-child  White  Female           0.0   \n",
       "15390   Craft-repair        Husband  White    Male           0.0   \n",
       "18886          Sales        Husband  White    Male           0.0   \n",
       "11885   Adm-clerical  Not-in-family  White  Female           0.0   \n",
       "25927   Adm-clerical  Not-in-family  White  Female           0.0   \n",
       "\n",
       "       capital-loss  hours-per-week native-country class  \\\n",
       "27952           0.0            32.0  United-States     0   \n",
       "15390           0.0            40.0  United-States     1   \n",
       "18886           0.0            44.0  United-States     0   \n",
       "11885           0.0            40.0  United-States     0   \n",
       "25927           0.0            40.0  United-States     0   \n",
       "\n",
       "      hours-per-week_binned age_binned capital-gain_binned capital-loss_binned  \n",
       "27952                 BIN_6      BIN_1               BIN_0               BIN_0  \n",
       "15390                 BIN_7     BIN_11               BIN_0               BIN_0  \n",
       "18886                 BIN_8     BIN_10               BIN_0               BIN_0  \n",
       "11885                 BIN_7      BIN_6               BIN_0               BIN_0  \n",
       "25927                 BIN_7      BIN_2               BIN_0               BIN_0  "
      ]
     },
     "execution_count": 36,
     "metadata": {},
     "output_type": "execute_result"
    }
   ],
   "source": [
    "train_data.head()"
   ]
  },
  {
   "cell_type": "markdown",
   "metadata": {},
   "source": [
    "## One Hot encoding:"
   ]
  },
  {
   "cell_type": "code",
   "execution_count": 37,
   "metadata": {
    "collapsed": false
   },
   "outputs": [
    {
     "data": {
      "text/html": [
       "<div>\n",
       "<table border=\"1\" class=\"dataframe\">\n",
       "  <thead>\n",
       "    <tr style=\"text-align: right;\">\n",
       "      <th></th>\n",
       "      <th>relationship_Husband</th>\n",
       "      <th>relationship_Not-in-family</th>\n",
       "      <th>relationship_Other-relative</th>\n",
       "      <th>relationship_Own-child</th>\n",
       "      <th>relationship_Unmarried</th>\n",
       "      <th>relationship_Wife</th>\n",
       "    </tr>\n",
       "  </thead>\n",
       "  <tbody>\n",
       "    <tr>\n",
       "      <th>27952</th>\n",
       "      <td>0.0</td>\n",
       "      <td>0.0</td>\n",
       "      <td>0.0</td>\n",
       "      <td>1.0</td>\n",
       "      <td>0.0</td>\n",
       "      <td>0.0</td>\n",
       "    </tr>\n",
       "    <tr>\n",
       "      <th>15390</th>\n",
       "      <td>1.0</td>\n",
       "      <td>0.0</td>\n",
       "      <td>0.0</td>\n",
       "      <td>0.0</td>\n",
       "      <td>0.0</td>\n",
       "      <td>0.0</td>\n",
       "    </tr>\n",
       "    <tr>\n",
       "      <th>18886</th>\n",
       "      <td>1.0</td>\n",
       "      <td>0.0</td>\n",
       "      <td>0.0</td>\n",
       "      <td>0.0</td>\n",
       "      <td>0.0</td>\n",
       "      <td>0.0</td>\n",
       "    </tr>\n",
       "    <tr>\n",
       "      <th>11885</th>\n",
       "      <td>0.0</td>\n",
       "      <td>1.0</td>\n",
       "      <td>0.0</td>\n",
       "      <td>0.0</td>\n",
       "      <td>0.0</td>\n",
       "      <td>0.0</td>\n",
       "    </tr>\n",
       "    <tr>\n",
       "      <th>25927</th>\n",
       "      <td>0.0</td>\n",
       "      <td>1.0</td>\n",
       "      <td>0.0</td>\n",
       "      <td>0.0</td>\n",
       "      <td>0.0</td>\n",
       "      <td>0.0</td>\n",
       "    </tr>\n",
       "    <tr>\n",
       "      <th>5431</th>\n",
       "      <td>0.0</td>\n",
       "      <td>0.0</td>\n",
       "      <td>0.0</td>\n",
       "      <td>0.0</td>\n",
       "      <td>0.0</td>\n",
       "      <td>1.0</td>\n",
       "    </tr>\n",
       "    <tr>\n",
       "      <th>4963</th>\n",
       "      <td>0.0</td>\n",
       "      <td>1.0</td>\n",
       "      <td>0.0</td>\n",
       "      <td>0.0</td>\n",
       "      <td>0.0</td>\n",
       "      <td>0.0</td>\n",
       "    </tr>\n",
       "    <tr>\n",
       "      <th>985</th>\n",
       "      <td>0.0</td>\n",
       "      <td>1.0</td>\n",
       "      <td>0.0</td>\n",
       "      <td>0.0</td>\n",
       "      <td>0.0</td>\n",
       "      <td>0.0</td>\n",
       "    </tr>\n",
       "    <tr>\n",
       "      <th>26040</th>\n",
       "      <td>0.0</td>\n",
       "      <td>1.0</td>\n",
       "      <td>0.0</td>\n",
       "      <td>0.0</td>\n",
       "      <td>0.0</td>\n",
       "      <td>0.0</td>\n",
       "    </tr>\n",
       "    <tr>\n",
       "      <th>1463</th>\n",
       "      <td>1.0</td>\n",
       "      <td>0.0</td>\n",
       "      <td>0.0</td>\n",
       "      <td>0.0</td>\n",
       "      <td>0.0</td>\n",
       "      <td>0.0</td>\n",
       "    </tr>\n",
       "  </tbody>\n",
       "</table>\n",
       "</div>"
      ],
      "text/plain": [
       "       relationship_Husband  relationship_Not-in-family  \\\n",
       "27952                   0.0                         0.0   \n",
       "15390                   1.0                         0.0   \n",
       "18886                   1.0                         0.0   \n",
       "11885                   0.0                         1.0   \n",
       "25927                   0.0                         1.0   \n",
       "5431                    0.0                         0.0   \n",
       "4963                    0.0                         1.0   \n",
       "985                     0.0                         1.0   \n",
       "26040                   0.0                         1.0   \n",
       "1463                    1.0                         0.0   \n",
       "\n",
       "       relationship_Other-relative  relationship_Own-child  \\\n",
       "27952                          0.0                     1.0   \n",
       "15390                          0.0                     0.0   \n",
       "18886                          0.0                     0.0   \n",
       "11885                          0.0                     0.0   \n",
       "25927                          0.0                     0.0   \n",
       "5431                           0.0                     0.0   \n",
       "4963                           0.0                     0.0   \n",
       "985                            0.0                     0.0   \n",
       "26040                          0.0                     0.0   \n",
       "1463                           0.0                     0.0   \n",
       "\n",
       "       relationship_Unmarried  relationship_Wife  \n",
       "27952                     0.0                0.0  \n",
       "15390                     0.0                0.0  \n",
       "18886                     0.0                0.0  \n",
       "11885                     0.0                0.0  \n",
       "25927                     0.0                0.0  \n",
       "5431                      0.0                1.0  \n",
       "4963                      0.0                0.0  \n",
       "985                       0.0                0.0  \n",
       "26040                     0.0                0.0  \n",
       "1463                      0.0                0.0  "
      ]
     },
     "execution_count": 37,
     "metadata": {},
     "output_type": "execute_result"
    }
   ],
   "source": [
    "pd.get_dummies(train_data['relationship'],prefix='relationship').head(10)"
   ]
  },
  {
   "cell_type": "code",
   "execution_count": 38,
   "metadata": {
    "collapsed": false
   },
   "outputs": [],
   "source": [
    "#Encode all binned numeric columns and categorical columns with oneHot\n",
    "oh_train = train_data['class']\n",
    "oh_test = test_data['class']\n",
    "\n",
    "for variable in numeric_variables_binned+categorical_variables:\n",
    "    onehot_train_col = pd.get_dummies(train_data[variable],prefix=variable)\n",
    "    oh_train = pd.concat([oh_train,onehot_train_col],axis=1)\n",
    "    \n",
    "    onehot_test_col = pd.get_dummies(test_data[variable],prefix=variable)\n",
    "    oh_test = pd.concat([oh_test,onehot_test_col],axis=1)"
   ]
  },
  {
   "cell_type": "code",
   "execution_count": 61,
   "metadata": {
    "collapsed": false
   },
   "outputs": [],
   "source": [
    "#check for missing values:\n",
    "missing=[]\n",
    "for i in oh_train.keys():\n",
    "    if i not in oh_test.keys():\n",
    "        missing.append(i)\n",
    "for i in missing:\n",
    "    oh_test[i]=0.0"
   ]
  },
  {
   "cell_type": "markdown",
   "metadata": {},
   "source": [
    "## Build the model: Logistic regression"
   ]
  },
  {
   "cell_type": "code",
   "execution_count": 62,
   "metadata": {
    "collapsed": false
   },
   "outputs": [],
   "source": [
    "from sklearn import linear_model\n",
    "logreg = linear_model.LogisticRegression(C=1e5)\n",
    "\n",
    "#separate labels from data\n",
    "train_class = oh_train['class']\n",
    "oh_train_data= oh_train.drop('class',axis=1)"
   ]
  },
  {
   "cell_type": "code",
   "execution_count": 63,
   "metadata": {
    "collapsed": false
   },
   "outputs": [
    {
     "name": "stdout",
     "output_type": "stream",
     "text": [
      "LogisticRegression(C=100000.0, class_weight=None, dual=False,\n",
      "          fit_intercept=True, intercept_scaling=1, max_iter=100,\n",
      "          multi_class='ovr', n_jobs=1, penalty='l2', random_state=None,\n",
      "          solver='liblinear', tol=0.0001, verbose=0, warm_start=False)\n"
     ]
    }
   ],
   "source": [
    "logreg.fit(oh_train_data, train_class)\n",
    "print(logreg)"
   ]
  },
  {
   "cell_type": "code",
   "execution_count": null,
   "metadata": {
    "collapsed": true
   },
   "outputs": [],
   "source": []
  },
  {
   "cell_type": "markdown",
   "metadata": {},
   "source": [
    "## Evaluate results"
   ]
  },
  {
   "cell_type": "code",
   "execution_count": 90,
   "metadata": {
    "collapsed": false
   },
   "outputs": [],
   "source": [
    "from sklearn import metrics\n",
    "\n",
    "test_class = oh_test['class']\n",
    "\n",
    "\n",
    "expected = test_class.values\n",
    "oh_test_data= oh_test.drop('class',axis=1)\n",
    "predicted = logreg.predict(oh_test_data)\n",
    "predicted_probs = logreg.predict_proba(oh_test_data)"
   ]
  },
  {
   "cell_type": "code",
   "execution_count": 103,
   "metadata": {
    "collapsed": false
   },
   "outputs": [
    {
     "name": "stdout",
     "output_type": "stream",
     "text": [
      "             precision    recall  f1-score   support\n",
      "\n",
      "          0       0.81      0.97      0.89     12435\n",
      "          1       0.76      0.28      0.41      3846\n",
      "\n",
      "avg / total       0.80      0.81      0.77     16281\n",
      "\n",
      "[ 0.00229664  0.23970629  0.08784965 ...,  0.25690392  0.16952656\n",
      "  0.30020259]\n"
     ]
    }
   ],
   "source": [
    "print(metrics.classification_report(expected, predicted))"
   ]
  },
  {
   "cell_type": "markdown",
   "metadata": {},
   "source": [
    "## Cross-validation"
   ]
  },
  {
   "cell_type": "code",
   "execution_count": 85,
   "metadata": {
    "collapsed": true
   },
   "outputs": [],
   "source": [
    "from sklearn.model_selection import cross_val_score\n",
    "scores = cross_val_score(logreg, oh_test_data, test_class, cv=5)"
   ]
  },
  {
   "cell_type": "code",
   "execution_count": 86,
   "metadata": {
    "collapsed": false
   },
   "outputs": [
    {
     "name": "stdout",
     "output_type": "stream",
     "text": [
      "Accuracy: 0.86 (+/- 0.01)\n"
     ]
    }
   ],
   "source": [
    "print(\"Accuracy: %0.2f (+/- %0.2f)\" % (scores.mean(), scores.std() * 2))"
   ]
  },
  {
   "cell_type": "markdown",
   "metadata": {},
   "source": [
    "## Understanding Model Performance"
   ]
  },
  {
   "cell_type": "code",
   "execution_count": 68,
   "metadata": {
    "collapsed": false
   },
   "outputs": [],
   "source": [
    "import sklearn.metrics\n",
    " \n",
    "def plotRoc(fpr, tpr, auc):\n",
    "  plt.figure()\n",
    "  plt.plot(fpr, tpr, label='ROC curve (AUC = %0.2f)' % auc)\n",
    "  plt.plot([0, 1], [0, 1], 'k--')\n",
    "  plt.xlim([0.0, 1.0])\n",
    "  plt.ylim([0.0, 1.0])\n",
    "  plt.xlabel('False Positive Rate')\n",
    "  plt.ylabel('True Positive Rate')\n",
    "  plt.title('Receiver operating characteristic example')\n",
    "  plt.legend(loc=\"lower right\")\n",
    "  plt.show()\n",
    "    \n",
    "def plotPR(precision, recall):\n",
    "  plt.figure()\n",
    "  plt.plot(recall, precision, label='PR curve')\n",
    "  plt.xlim([0.0, 1.0])\n",
    "  plt.ylim([0.0, 1.0])\n",
    "  plt.xlabel('Recall')\n",
    "  plt.ylabel('Precision')\n",
    "  plt.title('Precision Recall curve')\n",
    "  plt.legend(loc='lower left')\n",
    "  plt.show()\n",
    " \n",
    "def plotMetrics(expected,predicted):\n",
    "  y_true = expected\n",
    "  y_score = predicted\n",
    "  #y_score = df['rawPrediction'].map(lambda x: x['values'][1])\n",
    "  auc = sklearn.metrics.roc_auc_score(y_true, y_score)\n",
    "  fpr, tpr, thresholds = sklearn.metrics.roc_curve(y_true, y_score)\n",
    "  plotRoc(fpr, tpr, auc)\n",
    "  precision, recall, thresholds = sklearn.metrics.precision_recall_curve(y_true, y_score, pos_label=1)\n",
    "  plotPR(precision, recall)"
   ]
  },
  {
   "cell_type": "code",
   "execution_count": 104,
   "metadata": {
    "collapsed": false
   },
   "outputs": [
    {
     "data": {
      "image/png": "[encoded data removed]",
      "text/plain": [
       "<matplotlib.figure.Figure at 0x111081048>"
      ]
     },
     "metadata": {},
     "output_type": "display_data"
    },
    {
     "data": {
      "image/png": "[encoded data removed]",
      "text/plain": [
       "<matplotlib.figure.Figure at 0x10ba76dd8>"
      ]
     },
     "metadata": {},
     "output_type": "display_data"
    }
   ],
   "source": [
    "#plotMetrics(expected.astype('int'),predicted.astype('int'))\n",
    "plotMetrics(expected.astype('int'),predicted_probs[:,1])"
   ]
  },
  {
   "cell_type": "code",
   "execution_count": null,
   "metadata": {
    "collapsed": true
   },
   "outputs": [],
   "source": []
  }
 ],
 "metadata": {
  "kernelspec": {
   "display_name": "Python [default]",
   "language": "python",
   "name": "python2"
  },
  "language_info": {
   "codemirror_mode": {
    "name": "ipython",
    "version": 2
   },
   "file_extension": ".py",
   "mimetype": "text/x-python",
   "name": "python",
   "nbconvert_exporter": "python",
   "pygments_lexer": "ipython2",
   "version": "2.7.12"
  }
 },
 "nbformat": 4,
 "nbformat_minor": 0
}
