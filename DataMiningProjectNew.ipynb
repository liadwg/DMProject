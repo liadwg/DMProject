{
 "cells": [
  {
   "cell_type": "markdown",
   "metadata": {},
   "source": [
    "# Machine Learning in the Real World"
   ]
  },
  {
   "cell_type": "markdown",
   "metadata": {
    "slideshow": {
     "slide_type": "slide"
    }
   },
   "source": [
    "##                1.Data preparation and cleaning"
   ]
  },
  {
   "cell_type": "markdown",
   "metadata": {},
   "source": [
    "### Import Python Libraries"
   ]
  },
  {
   "cell_type": "code",
   "execution_count": 12,
   "metadata": {
    "collapsed": false
   },
   "outputs": [],
   "source": [
    "import pandas as pd\n",
    "import numpy as np\n",
    "import seaborn as sns\n",
    "import sklearn\n",
    "import matplotlib.pyplot as plt\n",
    "\n",
    "%matplotlib inline"
   ]
  },
  {
   "cell_type": "markdown",
   "metadata": {},
   "source": [
    "### Data Loading"
   ]
  },
  {
   "cell_type": "code",
   "execution_count": 5,
   "metadata": {
    "collapsed": false
   },
   "outputs": [],
   "source": [
    "train_raw_data = pd.read_table('train.tsv')\n",
    "test_data = pd.read_table('test.tsv')"
   ]
  },
  {
   "cell_type": "code",
   "execution_count": 6,
   "metadata": {
    "collapsed": false
   },
   "outputs": [
    {
     "name": "stdout",
     "output_type": "stream",
     "text": [
      "alchemy_category null values: 2342\n",
      "alchemy_category_score null values: 2342\n",
      "is_news null values: 2843\n",
      "news_front_page null values: 1248\n"
     ]
    },
    {
     "data": {
      "text/html": [
       "<div>\n",
       "<table border=\"1\" class=\"dataframe\">\n",
       "  <thead>\n",
       "    <tr style=\"text-align: right;\">\n",
       "      <th></th>\n",
       "      <th>url</th>\n",
       "      <th>urlid</th>\n",
       "      <th>boilerplate</th>\n",
       "      <th>alchemy_category</th>\n",
       "      <th>alchemy_category_score</th>\n",
       "      <th>avglinksize</th>\n",
       "      <th>commonlinkratio_1</th>\n",
       "      <th>commonlinkratio_2</th>\n",
       "      <th>commonlinkratio_3</th>\n",
       "      <th>commonlinkratio_4</th>\n",
       "      <th>...</th>\n",
       "      <th>is_news</th>\n",
       "      <th>lengthyLinkDomain</th>\n",
       "      <th>linkwordscore</th>\n",
       "      <th>news_front_page</th>\n",
       "      <th>non_markup_alphanum_characters</th>\n",
       "      <th>numberOfLinks</th>\n",
       "      <th>numwords_in_url</th>\n",
       "      <th>parametrizedLinkRatio</th>\n",
       "      <th>spelling_errors_ratio</th>\n",
       "      <th>label</th>\n",
       "    </tr>\n",
       "  </thead>\n",
       "  <tbody>\n",
       "    <tr>\n",
       "      <th>0</th>\n",
       "      <td>http://www.bloomberg.com/news/2010-12-23/ibm-p...</td>\n",
       "      <td>4042</td>\n",
       "      <td>{\"title\":\"IBM Sees Holographic Calls Air Breat...</td>\n",
       "      <td>business</td>\n",
       "      <td>0.789131</td>\n",
       "      <td>2.055556</td>\n",
       "      <td>0.676471</td>\n",
       "      <td>0.205882</td>\n",
       "      <td>0.047059</td>\n",
       "      <td>0.023529</td>\n",
       "      <td>...</td>\n",
       "      <td>1</td>\n",
       "      <td>1</td>\n",
       "      <td>24</td>\n",
       "      <td>0</td>\n",
       "      <td>5424</td>\n",
       "      <td>170</td>\n",
       "      <td>8</td>\n",
       "      <td>0.152941</td>\n",
       "      <td>0.079130</td>\n",
       "      <td>0</td>\n",
       "    </tr>\n",
       "    <tr>\n",
       "      <th>1</th>\n",
       "      <td>http://www.popsci.com/technology/article/2012-...</td>\n",
       "      <td>8471</td>\n",
       "      <td>{\"title\":\"The Fully Electronic Futuristic Star...</td>\n",
       "      <td>recreation</td>\n",
       "      <td>0.574147</td>\n",
       "      <td>3.677966</td>\n",
       "      <td>0.508021</td>\n",
       "      <td>0.288770</td>\n",
       "      <td>0.213904</td>\n",
       "      <td>0.144385</td>\n",
       "      <td>...</td>\n",
       "      <td>1</td>\n",
       "      <td>1</td>\n",
       "      <td>40</td>\n",
       "      <td>0</td>\n",
       "      <td>4973</td>\n",
       "      <td>187</td>\n",
       "      <td>9</td>\n",
       "      <td>0.181818</td>\n",
       "      <td>0.125448</td>\n",
       "      <td>1</td>\n",
       "    </tr>\n",
       "    <tr>\n",
       "      <th>2</th>\n",
       "      <td>http://www.menshealth.com/health/flu-fighting-...</td>\n",
       "      <td>1164</td>\n",
       "      <td>{\"title\":\"Fruits that Fight the Flu fruits tha...</td>\n",
       "      <td>health</td>\n",
       "      <td>0.996526</td>\n",
       "      <td>2.382883</td>\n",
       "      <td>0.562016</td>\n",
       "      <td>0.321705</td>\n",
       "      <td>0.120155</td>\n",
       "      <td>0.042636</td>\n",
       "      <td>...</td>\n",
       "      <td>1</td>\n",
       "      <td>1</td>\n",
       "      <td>55</td>\n",
       "      <td>0</td>\n",
       "      <td>2240</td>\n",
       "      <td>258</td>\n",
       "      <td>11</td>\n",
       "      <td>0.166667</td>\n",
       "      <td>0.057613</td>\n",
       "      <td>1</td>\n",
       "    </tr>\n",
       "    <tr>\n",
       "      <th>3</th>\n",
       "      <td>http://www.dumblittleman.com/2007/12/10-foolpr...</td>\n",
       "      <td>6684</td>\n",
       "      <td>{\"title\":\"10 Foolproof Tips for Better Sleep \"...</td>\n",
       "      <td>health</td>\n",
       "      <td>0.801248</td>\n",
       "      <td>1.543103</td>\n",
       "      <td>0.400000</td>\n",
       "      <td>0.100000</td>\n",
       "      <td>0.016667</td>\n",
       "      <td>0.000000</td>\n",
       "      <td>...</td>\n",
       "      <td>1</td>\n",
       "      <td>0</td>\n",
       "      <td>24</td>\n",
       "      <td>0</td>\n",
       "      <td>2737</td>\n",
       "      <td>120</td>\n",
       "      <td>5</td>\n",
       "      <td>0.041667</td>\n",
       "      <td>0.100858</td>\n",
       "      <td>1</td>\n",
       "    </tr>\n",
       "    <tr>\n",
       "      <th>4</th>\n",
       "      <td>http://bleacherreport.com/articles/1205138-the...</td>\n",
       "      <td>9006</td>\n",
       "      <td>{\"title\":\"The 50 Coolest Jerseys You Didn t Kn...</td>\n",
       "      <td>sports</td>\n",
       "      <td>0.719157</td>\n",
       "      <td>2.676471</td>\n",
       "      <td>0.500000</td>\n",
       "      <td>0.222222</td>\n",
       "      <td>0.123457</td>\n",
       "      <td>0.043210</td>\n",
       "      <td>...</td>\n",
       "      <td>1</td>\n",
       "      <td>1</td>\n",
       "      <td>14</td>\n",
       "      <td>0</td>\n",
       "      <td>12032</td>\n",
       "      <td>162</td>\n",
       "      <td>10</td>\n",
       "      <td>0.098765</td>\n",
       "      <td>0.082569</td>\n",
       "      <td>0</td>\n",
       "    </tr>\n",
       "  </tbody>\n",
       "</table>\n",
       "<p>5 rows × 27 columns</p>\n",
       "</div>"
      ],
      "text/plain": [
       "                                                 url  urlid  \\\n",
       "0  http://www.bloomberg.com/news/2010-12-23/ibm-p...   4042   \n",
       "1  http://www.popsci.com/technology/article/2012-...   8471   \n",
       "2  http://www.menshealth.com/health/flu-fighting-...   1164   \n",
       "3  http://www.dumblittleman.com/2007/12/10-foolpr...   6684   \n",
       "4  http://bleacherreport.com/articles/1205138-the...   9006   \n",
       "\n",
       "                                         boilerplate alchemy_category  \\\n",
       "0  {\"title\":\"IBM Sees Holographic Calls Air Breat...         business   \n",
       "1  {\"title\":\"The Fully Electronic Futuristic Star...       recreation   \n",
       "2  {\"title\":\"Fruits that Fight the Flu fruits tha...           health   \n",
       "3  {\"title\":\"10 Foolproof Tips for Better Sleep \"...           health   \n",
       "4  {\"title\":\"The 50 Coolest Jerseys You Didn t Kn...           sports   \n",
       "\n",
       "  alchemy_category_score  avglinksize  commonlinkratio_1  commonlinkratio_2  \\\n",
       "0               0.789131     2.055556           0.676471           0.205882   \n",
       "1               0.574147     3.677966           0.508021           0.288770   \n",
       "2               0.996526     2.382883           0.562016           0.321705   \n",
       "3               0.801248     1.543103           0.400000           0.100000   \n",
       "4               0.719157     2.676471           0.500000           0.222222   \n",
       "\n",
       "   commonlinkratio_3  commonlinkratio_4  ...    is_news  lengthyLinkDomain  \\\n",
       "0           0.047059           0.023529  ...          1                  1   \n",
       "1           0.213904           0.144385  ...          1                  1   \n",
       "2           0.120155           0.042636  ...          1                  1   \n",
       "3           0.016667           0.000000  ...          1                  0   \n",
       "4           0.123457           0.043210  ...          1                  1   \n",
       "\n",
       "   linkwordscore  news_front_page  non_markup_alphanum_characters  \\\n",
       "0             24                0                            5424   \n",
       "1             40                0                            4973   \n",
       "2             55                0                            2240   \n",
       "3             24                0                            2737   \n",
       "4             14                0                           12032   \n",
       "\n",
       "   numberOfLinks  numwords_in_url parametrizedLinkRatio  \\\n",
       "0            170                8              0.152941   \n",
       "1            187                9              0.181818   \n",
       "2            258               11              0.166667   \n",
       "3            120                5              0.041667   \n",
       "4            162               10              0.098765   \n",
       "\n",
       "   spelling_errors_ratio  label  \n",
       "0               0.079130      0  \n",
       "1               0.125448      1  \n",
       "2               0.057613      1  \n",
       "3               0.100858      1  \n",
       "4               0.082569      0  \n",
       "\n",
       "[5 rows x 27 columns]"
      ]
     },
     "execution_count": 6,
     "metadata": {},
     "output_type": "execute_result"
    }
   ],
   "source": [
    "train_data = train_raw_data\n",
    "train_data.loc[train_data['alchemy_category'] == '?', 'alchemy_category'] = np.nan\n",
    "train_data.loc[train_data['alchemy_category_score'] == '?', 'alchemy_category_score'] = np.nan\n",
    "train_data.loc[train_data['is_news'] == '?', 'is_news'] = np.nan\n",
    "train_data.loc[train_data['news_front_page'] == '?', 'news_front_page'] = np.nan\n",
    "\n",
    "#a = np.count_nonzero(train_data['alchemy_category_score'].isnull().values)\n",
    "print('alchemy_category null values: ' + \n",
    "      str(np.count_nonzero(train_data['alchemy_category'].isnull().values)))\n",
    "print('alchemy_category_score null values: ' + \n",
    "      str(np.count_nonzero(train_data['alchemy_category_score'].isnull().values)))\n",
    "print('is_news null values: ' + \n",
    "      str(np.count_nonzero(train_data['is_news'].isnull().values)))\n",
    "print('news_front_page null values: ' + \n",
    "      str(np.count_nonzero(train_data['news_front_page'].isnull().values)))\n",
    "train_data.head(5)"
   ]
  },
  {
   "cell_type": "code",
   "execution_count": 7,
   "metadata": {
    "collapsed": true
   },
   "outputs": [],
   "source": [
    "irrelevant_var = [\"url\", \"urlid\"] # lengthyLinkDomain?\n",
    "string_vars = [\"boilerplate\"]\n",
    "numeric_vars = [\"alchemy_category_score\", \"avglinksize\", \"commonLinkRatio_1\", \"commonLinkRatio_2\", \"commonLinkRatio_3\", \"commonLinkRatio_4\", \"compression_ratio\", \"embed_ratio\", \"frameTagRatio\", \"linkwordscore\", \"non_markup_alphanum_characters\", \"numberOfLinks\", \"numwords_in_url\", \"parametrizedLinkRatio\", \"spelling_errors_ratio\", ]\n",
    "categorical_vars = [\"alchemy_category\", ]\n",
    "binary_vars = [\"frameBased\", \"hasDomainLink\", \"html_ratio\", \"image_ratio\", \"is_news\", \"lengthyLinkDomain\", \"news_front_page\"]"
   ]
  },
  {
   "cell_type": "markdown",
   "metadata": {},
   "source": [
    "### Numeric features histograms"
   ]
  },
  {
   "cell_type": "code",
   "execution_count": 10,
   "metadata": {
    "collapsed": false,
    "scrolled": false
   },
   "outputs": [
    {
     "data": {
      "image/png": "[encoded data removed]",
      "text/plain": [
       "<matplotlib.figure.Figure at 0x7f928ed69050>"
      ]
     },
     "metadata": {},
     "output_type": "display_data"
    },
    {
     "data": {
      "image/png": "[encoded data removed]",
      "text/plain": [
       "<matplotlib.figure.Figure at 0x7f928ea7ecd0>"
      ]
     },
     "metadata": {},
     "output_type": "display_data"
    },
    {
     "data": {
      "image/png": "[encoded data removed]",
      "text/plain": [
       "<matplotlib.figure.Figure at 0x7f928c8e7910>"
      ]
     },
     "metadata": {},
     "output_type": "display_data"
    },
    {
     "data": {
      "image/png": "[encoded data removed]",
      "text/plain": [
       "<matplotlib.figure.Figure at 0x7f928ee02e90>"
      ]
     },
     "metadata": {},
     "output_type": "display_data"
    },
    {
     "data": {
      "image/png": "[encoded data removed]",
      "text/plain": [
       "<matplotlib.figure.Figure at 0x7f928edd4490>"
      ]
     },
     "metadata": {},
     "output_type": "display_data"
    },
    {
     "data": {
      "image/png": "[encoded data removed]",
      "text/plain": [
       "<matplotlib.figure.Figure at 0x7f928f03e990>"
      ]
     },
     "metadata": {},
     "output_type": "display_data"
    },
    {
     "data": {
      "image/png": "[encoded data removed]",
      "text/plain": [
       "<matplotlib.figure.Figure at 0x7f928ed3bdd0>"
      ]
     },
     "metadata": {},
     "output_type": "display_data"
    },
    {
     "data": {
      "image/png": "[encoded data removed]",
      "text/plain": [
       "<matplotlib.figure.Figure at 0x7f928eeeb750>"
      ]
     },
     "metadata": {},
     "output_type": "display_data"
    },
    {
     "data": {
      "image/png": "[encoded data removed]",
      "text/plain": [
       "<matplotlib.figure.Figure at 0x7f928ebc7a10>"
      ]
     },
     "metadata": {},
     "output_type": "display_data"
    },
    {
     "data": {
      "image/png": "[encoded data removed]",
      "text/plain": [
       "<matplotlib.figure.Figure at 0x7f928ef41a90>"
      ]
     },
     "metadata": {},
     "output_type": "display_data"
    },
    {
     "data": {
      "image/png": "[encoded data removed]",
      "text/plain": [
       "<matplotlib.figure.Figure at 0x7f928f35f250>"
      ]
     },
     "metadata": {},
     "output_type": "display_data"
    },
    {
     "data": {
      "image/png": "[encoded data removed]",
      "text/plain": [
       "<matplotlib.figure.Figure at 0x7f928c850a90>"
      ]
     },
     "metadata": {},
     "output_type": "display_data"
    },
    {
     "data": {
      "image/png": "[encoded data removed]",
      "text/plain": [
       "<matplotlib.figure.Figure at 0x7f928c91ff90>"
      ]
     },
     "metadata": {},
     "output_type": "display_data"
    }
   ],
   "source": [
    "\n",
    "plt.hist(train_data['avglinksize'], normed=True, bins = 30, range=(0,10), align = 'left')\n",
    "plt.title('avglinksize distribution')\n",
    "plt.show()\n",
    "\n",
    "plt.hist(train_data['commonlinkratio_1'], normed=True, bins = 30, range=(0,1), align = 'left')\n",
    "plt.title('commonlinkratio_1 distribution')\n",
    "plt.show()\n",
    "\n",
    "plt.hist(train_data['commonlinkratio_2'], normed=True, bins = 30, range=(0,1), align = 'left')\n",
    "plt.title('commonlinkratio_2 distribution')\n",
    "plt.show()\n",
    "\n",
    "plt.hist(train_data['commonlinkratio_3'], normed=True, bins = 30, range=(0,1), align = 'left')\n",
    "plt.title('commonlinkratio_3 distribution')\n",
    "plt.show()\n",
    "\n",
    "plt.hist(train_data['compression_ratio'], normed=True, bins = 30, range=(0,1), align = 'left')\n",
    "plt.title('compression_ratio distribution')\n",
    "plt.show()\n",
    "\n",
    "plt.hist(train_data['embed_ratio'], normed=True, bins = 30, range=(0,0.02), align = 'left')\n",
    "plt.title('embed_ratio distribution')\n",
    "plt.show()\n",
    "\n",
    "plt.hist(train_data['frameTagRatio'], normed=True, bins = 30, range=(0,1), align = 'left')\n",
    "plt.title('frameTagRatio distribution')\n",
    "plt.show()\n",
    "\n",
    "plt.hist(train_data['linkwordscore'], normed=True, bins = 30, range=(0,150), align = 'left')\n",
    "plt.title('linkwordscore distribution')\n",
    "plt.show()\n",
    "\n",
    "plt.hist(train_data['non_markup_alphanum_characters'], normed=True, bins = 30, range=(-10,25000), align = 'left')\n",
    "plt.title('non_markup_alphanum_characters distribution')\n",
    "plt.show()\n",
    "\n",
    "plt.hist(train_data['numberOfLinks'], normed=True, bins = 30, range=(-10,750), align = 'left')\n",
    "plt.title('numberOfLinks distribution')\n",
    "plt.show()\n",
    "\n",
    "plt.hist(train_data['numwords_in_url'], normed=True, bins = 30, range=(0,30), align = 'left')\n",
    "plt.title('numwords_in_url distribution')\n",
    "plt.show()\n",
    "\n",
    "plt.hist(train_data['parametrizedLinkRatio'], normed=True, bins = 30, range=(0,1), align = 'left')\n",
    "plt.title('parametrizedLinkRatio distribution')\n",
    "plt.show()\n",
    "\n",
    "plt.hist(train_data['spelling_errors_ratio'], normed=True, bins = 30, range=(0,1), align = 'left')\n",
    "plt.title('spelling_errors_ratio distribution')\n",
    "plt.show()\n"
   ]
  },
  {
   "cell_type": "markdown",
   "metadata": {},
   "source": [
    "### Categorical feature bars"
   ]
  },
  {
   "cell_type": "code",
   "execution_count": 13,
   "metadata": {
    "collapsed": false
   },
   "outputs": [
    {
     "data": {
      "text/plain": [
       "<matplotlib.axes._subplots.AxesSubplot at 0x7f928c7f5450>"
      ]
     },
     "execution_count": 13,
     "metadata": {},
     "output_type": "execute_result"
    },
    {
     "data": {
      "image/png": "[encoded data removed]",
      "text/plain": [
       "<matplotlib.figure.Figure at 0x7f928c8dd950>"
      ]
     },
     "metadata": {},
     "output_type": "display_data"
    }
   ],
   "source": [
    "train_data.alchemy_category.value_counts().plot(kind='bar')"
   ]
  },
  {
   "cell_type": "code",
   "execution_count": 14,
   "metadata": {
    "collapsed": false
   },
   "outputs": [
    {
     "data": {
      "text/plain": [
       "<matplotlib.axes._subplots.AxesSubplot at 0x7f928c96ecd0>"
      ]
     },
     "execution_count": 14,
     "metadata": {},
     "output_type": "execute_result"
    },
    {
     "data": {
      "image/png": "[encoded data removed]",
      "text/plain": [
       "<matplotlib.figure.Figure at 0x7f92c0b73e10>"
      ]
     },
     "metadata": {},
     "output_type": "display_data"
    }
   ],
   "source": [
    "train_data['label_name'] = train_data['label'].map({0:'Emerphal', 1:'EverGreen'})\n",
    "train_data.label_name.value_counts().plot(kind='bar')"
   ]
  },
  {
   "cell_type": "markdown",
   "metadata": {},
   "source": [
    "## How many \"evergreens?\""
   ]
  },
  {
   "cell_type": "code",
   "execution_count": 5,
   "metadata": {
    "collapsed": false
   },
   "outputs": [
    {
     "data": {
      "image/png": "[encoded data removed]",
      "text/plain": [
       "<matplotlib.figure.Figure at 0x10776780>"
      ]
     },
     "metadata": {},
     "output_type": "display_data"
    }
   ],
   "source": [
    "plt.hist(train_raw_data['label'], normed=True, bins = 2,range=(0,2), align = 'left')\n",
    "plt.xlabel('left - emerphal, right - EverGreen')\n",
    "plt.ylabel('percentage')\n",
    "plt.title('Train data label distribution')\n",
    "plt.show()"
   ]
  },
  {
   "cell_type": "code",
   "execution_count": 7,
   "metadata": {
    "collapsed": false
   },
   "outputs": [
    {
     "data": {
      "text/plain": [
       "url                                object\n",
       "urlid                               int64\n",
       "boilerplate                        object\n",
       "alchemy_category                   object\n",
       "alchemy_category_score             object\n",
       "avglinksize                       float64\n",
       "commonlinkratio_1                 float64\n",
       "commonlinkratio_2                 float64\n",
       "commonlinkratio_3                 float64\n",
       "commonlinkratio_4                 float64\n",
       "compression_ratio                 float64\n",
       "embed_ratio                       float64\n",
       "framebased                          int64\n",
       "frameTagRatio                     float64\n",
       "hasDomainLink                       int64\n",
       "html_ratio                        float64\n",
       "image_ratio                       float64\n",
       "is_news                            object\n",
       "lengthyLinkDomain                   int64\n",
       "linkwordscore                       int64\n",
       "news_front_page                    object\n",
       "non_markup_alphanum_characters      int64\n",
       "numberOfLinks                       int64\n",
       "numwords_in_url                     int64\n",
       "parametrizedLinkRatio             float64\n",
       "spelling_errors_ratio             float64\n",
       "label                               int64\n",
       "dtype: object"
      ]
     },
     "execution_count": 7,
     "metadata": {},
     "output_type": "execute_result"
    }
   ],
   "source": [
    "train_raw_data[:].dtypes"
   ]
  },
  {
   "cell_type": "code",
   "execution_count": 32,
   "metadata": {
    "collapsed": false
   },
   "outputs": [
    {
     "ename": "NameError",
     "evalue": "name 'string' is not defined",
     "output_type": "error",
     "traceback": [
      "\u001b[0;31m\u001b[0m",
      "\u001b[0;31mNameError\u001b[0mTraceback (most recent call last)",
      "\u001b[0;32m<ipython-input-32-bf831bfff018>\u001b[0m in \u001b[0;36m<module>\u001b[0;34m()\u001b[0m\n\u001b[0;32m----> 1\u001b[0;31m \u001b[0mtrain_raw_data\u001b[0m \u001b[1;33m=\u001b[0m \u001b[0mtrain_raw_data\u001b[0m\u001b[1;33m.\u001b[0m\u001b[0mreplace\u001b[0m\u001b[1;33m(\u001b[0m\u001b[0mto_replace\u001b[0m\u001b[1;33m=\u001b[0m\u001b[1;34m\"?\"\u001b[0m\u001b[1;33m,\u001b[0m \u001b[0mmethod\u001b[0m \u001b[1;33m=\u001b[0m \u001b[0mstring\u001b[0m\u001b[1;33m)\u001b[0m\u001b[1;33m\u001b[0m\u001b[0m\n\u001b[0m\u001b[1;32m      2\u001b[0m \u001b[0mtrain_raw_data\u001b[0m\u001b[1;33m.\u001b[0m\u001b[0mhead\u001b[0m\u001b[1;33m(\u001b[0m\u001b[1;33m)\u001b[0m\u001b[1;33m\u001b[0m\u001b[0m\n\u001b[1;32m      3\u001b[0m \u001b[1;31m#num_of_samples = train_raw_data.shape[0]\u001b[0m\u001b[1;33m\u001b[0m\u001b[1;33m\u001b[0m\u001b[0m\n\u001b[1;32m      4\u001b[0m \u001b[1;31m#num_of_samples\u001b[0m\u001b[1;33m\u001b[0m\u001b[1;33m\u001b[0m\u001b[0m\n\u001b[1;32m      5\u001b[0m \u001b[1;31m#missing_values_percentage = [train_raw_data[col][j] == \"?\"\u001b[0m\u001b[1;33m\u001b[0m\u001b[1;33m\u001b[0m\u001b[0m\n",
      "\u001b[0;31mNameError\u001b[0m: name 'string' is not defined"
     ]
    }
   ],
   "source": [
    "train_raw_data = train_raw_data.replace(to_replace=\"?\", method = string)\n",
    "train_raw_data.head()\n",
    "#num_of_samples = train_raw_data.shape[0]\n",
    "#num_of_samples\n",
    "#missing_values_percentage = [train_raw_data[col][j] == \"?\" \n",
    "#                             for j in range(num_of_samples) for col in list(train_raw_data)]\n",
    "#missing_values_percentage.head()"
   ]
  },
  {
   "cell_type": "markdown",
   "metadata": {},
   "source": [
    "## Drop Unnecessary Column"
   ]
  },
  {
   "cell_type": "code",
   "execution_count": 8,
   "metadata": {
    "collapsed": false
   },
   "outputs": [],
   "source": [
    "train_data = train_data.drop('observation-weight', axis = 1)\n",
    "test_data = test_data.drop('obervation-weight', axis = 1)"
   ]
  },
  {
   "cell_type": "code",
   "execution_count": 9,
   "metadata": {
    "collapsed": false
   },
   "outputs": [
    {
     "data": {
      "text/html": [
       "<div>\n",
       "<table border=\"1\" class=\"dataframe\">\n",
       "  <thead>\n",
       "    <tr style=\"text-align: right;\">\n",
       "      <th></th>\n",
       "      <th>age</th>\n",
       "      <th>workclass</th>\n",
       "      <th>education</th>\n",
       "      <th>education-num</th>\n",
       "      <th>marital-status</th>\n",
       "      <th>occupation</th>\n",
       "      <th>relationship</th>\n",
       "      <th>race</th>\n",
       "      <th>sex</th>\n",
       "      <th>capital-gain</th>\n",
       "      <th>capital-loss</th>\n",
       "      <th>hours-per-week</th>\n",
       "      <th>native-country</th>\n",
       "      <th>class</th>\n",
       "    </tr>\n",
       "  </thead>\n",
       "  <tbody>\n",
       "    <tr>\n",
       "      <th>0</th>\n",
       "      <td>39</td>\n",
       "      <td>State-gov</td>\n",
       "      <td>Bachelors</td>\n",
       "      <td>13</td>\n",
       "      <td>Never-married</td>\n",
       "      <td>Adm-clerical</td>\n",
       "      <td>Not-in-family</td>\n",
       "      <td>White</td>\n",
       "      <td>Male</td>\n",
       "      <td>2174</td>\n",
       "      <td>0</td>\n",
       "      <td>40</td>\n",
       "      <td>United-States</td>\n",
       "      <td>&lt;=50K</td>\n",
       "    </tr>\n",
       "    <tr>\n",
       "      <th>1</th>\n",
       "      <td>50</td>\n",
       "      <td>Self-emp-not-inc</td>\n",
       "      <td>Bachelors</td>\n",
       "      <td>13</td>\n",
       "      <td>Married-civ-spouse</td>\n",
       "      <td>Exec-managerial</td>\n",
       "      <td>Husband</td>\n",
       "      <td>White</td>\n",
       "      <td>Male</td>\n",
       "      <td>0</td>\n",
       "      <td>0</td>\n",
       "      <td>13</td>\n",
       "      <td>United-States</td>\n",
       "      <td>&lt;=50K</td>\n",
       "    </tr>\n",
       "    <tr>\n",
       "      <th>2</th>\n",
       "      <td>38</td>\n",
       "      <td>Private</td>\n",
       "      <td>HS-grad</td>\n",
       "      <td>9</td>\n",
       "      <td>Divorced</td>\n",
       "      <td>Handlers-cleaners</td>\n",
       "      <td>Not-in-family</td>\n",
       "      <td>White</td>\n",
       "      <td>Male</td>\n",
       "      <td>0</td>\n",
       "      <td>0</td>\n",
       "      <td>40</td>\n",
       "      <td>United-States</td>\n",
       "      <td>&lt;=50K</td>\n",
       "    </tr>\n",
       "    <tr>\n",
       "      <th>3</th>\n",
       "      <td>53</td>\n",
       "      <td>Private</td>\n",
       "      <td>11th</td>\n",
       "      <td>7</td>\n",
       "      <td>Married-civ-spouse</td>\n",
       "      <td>Handlers-cleaners</td>\n",
       "      <td>Husband</td>\n",
       "      <td>Black</td>\n",
       "      <td>Male</td>\n",
       "      <td>0</td>\n",
       "      <td>0</td>\n",
       "      <td>40</td>\n",
       "      <td>United-States</td>\n",
       "      <td>&lt;=50K</td>\n",
       "    </tr>\n",
       "    <tr>\n",
       "      <th>4</th>\n",
       "      <td>28</td>\n",
       "      <td>Private</td>\n",
       "      <td>Bachelors</td>\n",
       "      <td>13</td>\n",
       "      <td>Married-civ-spouse</td>\n",
       "      <td>Prof-specialty</td>\n",
       "      <td>Wife</td>\n",
       "      <td>Black</td>\n",
       "      <td>Female</td>\n",
       "      <td>0</td>\n",
       "      <td>0</td>\n",
       "      <td>40</td>\n",
       "      <td>Cuba</td>\n",
       "      <td>&lt;=50K</td>\n",
       "    </tr>\n",
       "    <tr>\n",
       "      <th>5</th>\n",
       "      <td>37</td>\n",
       "      <td>Private</td>\n",
       "      <td>Masters</td>\n",
       "      <td>14</td>\n",
       "      <td>Married-civ-spouse</td>\n",
       "      <td>Exec-managerial</td>\n",
       "      <td>Wife</td>\n",
       "      <td>White</td>\n",
       "      <td>Female</td>\n",
       "      <td>0</td>\n",
       "      <td>0</td>\n",
       "      <td>40</td>\n",
       "      <td>United-States</td>\n",
       "      <td>&lt;=50K</td>\n",
       "    </tr>\n",
       "    <tr>\n",
       "      <th>6</th>\n",
       "      <td>49</td>\n",
       "      <td>Private</td>\n",
       "      <td>9th</td>\n",
       "      <td>5</td>\n",
       "      <td>Married-spouse-absent</td>\n",
       "      <td>Other-service</td>\n",
       "      <td>Not-in-family</td>\n",
       "      <td>Black</td>\n",
       "      <td>Female</td>\n",
       "      <td>0</td>\n",
       "      <td>0</td>\n",
       "      <td>16</td>\n",
       "      <td>Jamaica</td>\n",
       "      <td>&lt;=50K</td>\n",
       "    </tr>\n",
       "    <tr>\n",
       "      <th>7</th>\n",
       "      <td>52</td>\n",
       "      <td>Self-emp-not-inc</td>\n",
       "      <td>HS-grad</td>\n",
       "      <td>9</td>\n",
       "      <td>Married-civ-spouse</td>\n",
       "      <td>Exec-managerial</td>\n",
       "      <td>Husband</td>\n",
       "      <td>White</td>\n",
       "      <td>Male</td>\n",
       "      <td>0</td>\n",
       "      <td>0</td>\n",
       "      <td>45</td>\n",
       "      <td>United-States</td>\n",
       "      <td>&gt;50K</td>\n",
       "    </tr>\n",
       "    <tr>\n",
       "      <th>8</th>\n",
       "      <td>31</td>\n",
       "      <td>Private</td>\n",
       "      <td>Masters</td>\n",
       "      <td>14</td>\n",
       "      <td>Never-married</td>\n",
       "      <td>Prof-specialty</td>\n",
       "      <td>Not-in-family</td>\n",
       "      <td>White</td>\n",
       "      <td>Female</td>\n",
       "      <td>14084</td>\n",
       "      <td>0</td>\n",
       "      <td>50</td>\n",
       "      <td>United-States</td>\n",
       "      <td>&gt;50K</td>\n",
       "    </tr>\n",
       "    <tr>\n",
       "      <th>9</th>\n",
       "      <td>42</td>\n",
       "      <td>Private</td>\n",
       "      <td>Bachelors</td>\n",
       "      <td>13</td>\n",
       "      <td>Married-civ-spouse</td>\n",
       "      <td>Exec-managerial</td>\n",
       "      <td>Husband</td>\n",
       "      <td>White</td>\n",
       "      <td>Male</td>\n",
       "      <td>5178</td>\n",
       "      <td>0</td>\n",
       "      <td>40</td>\n",
       "      <td>United-States</td>\n",
       "      <td>&gt;50K</td>\n",
       "    </tr>\n",
       "  </tbody>\n",
       "</table>\n",
       "</div>"
      ],
      "text/plain": [
       "   age          workclass   education  education-num          marital-status  \\\n",
       "0   39          State-gov   Bachelors             13           Never-married   \n",
       "1   50   Self-emp-not-inc   Bachelors             13      Married-civ-spouse   \n",
       "2   38            Private     HS-grad              9                Divorced   \n",
       "3   53            Private        11th              7      Married-civ-spouse   \n",
       "4   28            Private   Bachelors             13      Married-civ-spouse   \n",
       "5   37            Private     Masters             14      Married-civ-spouse   \n",
       "6   49            Private         9th              5   Married-spouse-absent   \n",
       "7   52   Self-emp-not-inc     HS-grad              9      Married-civ-spouse   \n",
       "8   31            Private     Masters             14           Never-married   \n",
       "9   42            Private   Bachelors             13      Married-civ-spouse   \n",
       "\n",
       "           occupation    relationship    race      sex  capital-gain  \\\n",
       "0        Adm-clerical   Not-in-family   White     Male          2174   \n",
       "1     Exec-managerial         Husband   White     Male             0   \n",
       "2   Handlers-cleaners   Not-in-family   White     Male             0   \n",
       "3   Handlers-cleaners         Husband   Black     Male             0   \n",
       "4      Prof-specialty            Wife   Black   Female             0   \n",
       "5     Exec-managerial            Wife   White   Female             0   \n",
       "6       Other-service   Not-in-family   Black   Female             0   \n",
       "7     Exec-managerial         Husband   White     Male             0   \n",
       "8      Prof-specialty   Not-in-family   White   Female         14084   \n",
       "9     Exec-managerial         Husband   White     Male          5178   \n",
       "\n",
       "   capital-loss  hours-per-week  native-country   class  \n",
       "0             0              40   United-States   <=50K  \n",
       "1             0              13   United-States   <=50K  \n",
       "2             0              40   United-States   <=50K  \n",
       "3             0              40   United-States   <=50K  \n",
       "4             0              40            Cuba   <=50K  \n",
       "5             0              40   United-States   <=50K  \n",
       "6             0              16         Jamaica   <=50K  \n",
       "7             0              45   United-States    >50K  \n",
       "8             0              50   United-States    >50K  \n",
       "9             0              40   United-States    >50K  "
      ]
     },
     "execution_count": 9,
     "metadata": {},
     "output_type": "execute_result"
    }
   ],
   "source": [
    "train_data.head(10)"
   ]
  },
  {
   "cell_type": "markdown",
   "metadata": {},
   "source": [
    "## Specifying Data Types"
   ]
  },
  {
   "cell_type": "code",
   "execution_count": 10,
   "metadata": {
    "collapsed": false
   },
   "outputs": [],
   "source": [
    "binary_variables = ['class']\n",
    "categorical_variables = ['workclass', 'education', 'education-num', 'marital-status', \n",
    "                         'occupation', 'relationship', 'race', 'sex', 'native-country']\n",
    "numeric_variables = ['hours-per-week','age','capital-gain','capital-loss']"
   ]
  },
  {
   "cell_type": "markdown",
   "metadata": {},
   "source": [
    "## Type Conversion"
   ]
  },
  {
   "cell_type": "code",
   "execution_count": 11,
   "metadata": {
    "collapsed": false
   },
   "outputs": [
    {
     "data": {
      "text/plain": [
       "workclass         object\n",
       "education         object\n",
       "education-num      int64\n",
       "marital-status    object\n",
       "occupation        object\n",
       "relationship      object\n",
       "race              object\n",
       "sex               object\n",
       "native-country    object\n",
       "dtype: object"
      ]
     },
     "execution_count": 11,
     "metadata": {},
     "output_type": "execute_result"
    }
   ],
   "source": [
    "train_data[categorical_variables].dtypes"
   ]
  },
  {
   "cell_type": "code",
   "execution_count": 12,
   "metadata": {
    "collapsed": false
   },
   "outputs": [
    {
     "data": {
      "text/plain": [
       "hours-per-week    int64\n",
       "age               int64\n",
       "capital-gain      int64\n",
       "capital-loss      int64\n",
       "dtype: object"
      ]
     },
     "execution_count": 12,
     "metadata": {},
     "output_type": "execute_result"
    }
   ],
   "source": [
    "train_data[numeric_variables].dtypes"
   ]
  },
  {
   "cell_type": "markdown",
   "metadata": {},
   "source": [
    "## Categorical and Binary Variables to String"
   ]
  },
  {
   "cell_type": "code",
   "execution_count": 13,
   "metadata": {
    "collapsed": false
   },
   "outputs": [],
   "source": [
    "for variable in categorical_variables + binary_variables:\n",
    "    train_data[variable] = train_data[variable].astype(np.str)\n",
    "    test_data[variable] = test_data[variable].astype(np.str)"
   ]
  },
  {
   "cell_type": "markdown",
   "metadata": {},
   "source": [
    "## Numeric Variables to Float"
   ]
  },
  {
   "cell_type": "code",
   "execution_count": 14,
   "metadata": {
    "collapsed": false
   },
   "outputs": [],
   "source": [
    "for variable in numeric_variables:\n",
    "    train_data[variable] = train_data[variable].astype(np.float)\n",
    "    test_data[variable] = test_data[variable].astype(np.float)"
   ]
  },
  {
   "cell_type": "code",
   "execution_count": 15,
   "metadata": {
    "collapsed": false
   },
   "outputs": [
    {
     "data": {
      "text/plain": [
       "hours-per-week    float64\n",
       "age               float64\n",
       "capital-gain      float64\n",
       "capital-loss      float64\n",
       "dtype: object"
      ]
     },
     "execution_count": 15,
     "metadata": {},
     "output_type": "execute_result"
    }
   ],
   "source": [
    "train_data[numeric_variables].dtypes"
   ]
  },
  {
   "cell_type": "markdown",
   "metadata": {},
   "source": [
    "## Remove Whitespaces"
   ]
  },
  {
   "cell_type": "code",
   "execution_count": 16,
   "metadata": {
    "collapsed": false
   },
   "outputs": [],
   "source": [
    "# Map(func,sequence) -  operates a function on a sequence\n",
    "# Lambda var1,var2.. : Expression -  Creates an inline function\n",
    "for variable in categorical_variables + binary_variables:\n",
    "    train_data[variable] = train_data[variable].map(lambda x : x.strip())\n",
    "    test_data[variable] = test_data[variable].map(lambda x : x.strip())"
   ]
  },
  {
   "cell_type": "markdown",
   "metadata": {},
   "source": [
    "## Binarize class label"
   ]
  },
  {
   "cell_type": "code",
   "execution_count": 17,
   "metadata": {
    "collapsed": false
   },
   "outputs": [],
   "source": [
    "train_data['class'] = train_data['class'].map(lambda x : '0' if x == '<=50K' else '1')\n",
    "test_data['class'] = test_data['class'].map(lambda x : '0' if x == '<=50K' else '1')"
   ]
  },
  {
   "cell_type": "code",
   "execution_count": 18,
   "metadata": {
    "collapsed": false
   },
   "outputs": [
    {
     "data": {
      "text/html": [
       "<div>\n",
       "<table border=\"1\" class=\"dataframe\">\n",
       "  <thead>\n",
       "    <tr style=\"text-align: right;\">\n",
       "      <th></th>\n",
       "      <th>age</th>\n",
       "      <th>workclass</th>\n",
       "      <th>education</th>\n",
       "      <th>education-num</th>\n",
       "      <th>marital-status</th>\n",
       "      <th>occupation</th>\n",
       "      <th>relationship</th>\n",
       "      <th>race</th>\n",
       "      <th>sex</th>\n",
       "      <th>capital-gain</th>\n",
       "      <th>capital-loss</th>\n",
       "      <th>hours-per-week</th>\n",
       "      <th>native-country</th>\n",
       "      <th>class</th>\n",
       "    </tr>\n",
       "  </thead>\n",
       "  <tbody>\n",
       "    <tr>\n",
       "      <th>0</th>\n",
       "      <td>25.0</td>\n",
       "      <td>Private</td>\n",
       "      <td>11th</td>\n",
       "      <td>7</td>\n",
       "      <td>Never-married</td>\n",
       "      <td>Machine-op-inspct</td>\n",
       "      <td>Own-child</td>\n",
       "      <td>Black</td>\n",
       "      <td>Male</td>\n",
       "      <td>0.0</td>\n",
       "      <td>0.0</td>\n",
       "      <td>40.0</td>\n",
       "      <td>United-States</td>\n",
       "      <td>0</td>\n",
       "    </tr>\n",
       "    <tr>\n",
       "      <th>1</th>\n",
       "      <td>38.0</td>\n",
       "      <td>Private</td>\n",
       "      <td>HS-grad</td>\n",
       "      <td>9</td>\n",
       "      <td>Married-civ-spouse</td>\n",
       "      <td>Farming-fishing</td>\n",
       "      <td>Husband</td>\n",
       "      <td>White</td>\n",
       "      <td>Male</td>\n",
       "      <td>0.0</td>\n",
       "      <td>0.0</td>\n",
       "      <td>50.0</td>\n",
       "      <td>United-States</td>\n",
       "      <td>0</td>\n",
       "    </tr>\n",
       "    <tr>\n",
       "      <th>2</th>\n",
       "      <td>28.0</td>\n",
       "      <td>Local-gov</td>\n",
       "      <td>Assoc-acdm</td>\n",
       "      <td>12</td>\n",
       "      <td>Married-civ-spouse</td>\n",
       "      <td>Protective-serv</td>\n",
       "      <td>Husband</td>\n",
       "      <td>White</td>\n",
       "      <td>Male</td>\n",
       "      <td>0.0</td>\n",
       "      <td>0.0</td>\n",
       "      <td>40.0</td>\n",
       "      <td>United-States</td>\n",
       "      <td>1</td>\n",
       "    </tr>\n",
       "    <tr>\n",
       "      <th>3</th>\n",
       "      <td>44.0</td>\n",
       "      <td>Private</td>\n",
       "      <td>Some-college</td>\n",
       "      <td>10</td>\n",
       "      <td>Married-civ-spouse</td>\n",
       "      <td>Machine-op-inspct</td>\n",
       "      <td>Husband</td>\n",
       "      <td>Black</td>\n",
       "      <td>Male</td>\n",
       "      <td>7688.0</td>\n",
       "      <td>0.0</td>\n",
       "      <td>40.0</td>\n",
       "      <td>United-States</td>\n",
       "      <td>1</td>\n",
       "    </tr>\n",
       "    <tr>\n",
       "      <th>4</th>\n",
       "      <td>18.0</td>\n",
       "      <td>?</td>\n",
       "      <td>Some-college</td>\n",
       "      <td>10</td>\n",
       "      <td>Never-married</td>\n",
       "      <td>?</td>\n",
       "      <td>Own-child</td>\n",
       "      <td>White</td>\n",
       "      <td>Female</td>\n",
       "      <td>0.0</td>\n",
       "      <td>0.0</td>\n",
       "      <td>30.0</td>\n",
       "      <td>United-States</td>\n",
       "      <td>0</td>\n",
       "    </tr>\n",
       "  </tbody>\n",
       "</table>\n",
       "</div>"
      ],
      "text/plain": [
       "    age  workclass     education education-num      marital-status  \\\n",
       "0  25.0    Private          11th             7       Never-married   \n",
       "1  38.0    Private       HS-grad             9  Married-civ-spouse   \n",
       "2  28.0  Local-gov    Assoc-acdm            12  Married-civ-spouse   \n",
       "3  44.0    Private  Some-college            10  Married-civ-spouse   \n",
       "4  18.0          ?  Some-college            10       Never-married   \n",
       "\n",
       "          occupation relationship   race     sex  capital-gain  capital-loss  \\\n",
       "0  Machine-op-inspct    Own-child  Black    Male           0.0           0.0   \n",
       "1    Farming-fishing      Husband  White    Male           0.0           0.0   \n",
       "2    Protective-serv      Husband  White    Male           0.0           0.0   \n",
       "3  Machine-op-inspct      Husband  Black    Male        7688.0           0.0   \n",
       "4                  ?    Own-child  White  Female           0.0           0.0   \n",
       "\n",
       "   hours-per-week native-country class  \n",
       "0            40.0  United-States     0  \n",
       "1            50.0  United-States     0  \n",
       "2            40.0  United-States     1  \n",
       "3            40.0  United-States     1  \n",
       "4            30.0  United-States     0  "
      ]
     },
     "execution_count": 18,
     "metadata": {},
     "output_type": "execute_result"
    }
   ],
   "source": [
    "test_data.head()"
   ]
  },
  {
   "cell_type": "markdown",
   "metadata": {},
   "source": [
    "## Impute Missing Values"
   ]
  },
  {
   "cell_type": "code",
   "execution_count": 19,
   "metadata": {
    "collapsed": false
   },
   "outputs": [],
   "source": [
    "# missing values are appearing as '?'\n",
    "# replace them with np.nan\n",
    "\n",
    "for variable in train_data.columns:\n",
    "    train_data[variable] = train_data[variable].replace('?', np.nan)\n",
    "\n",
    "for variable in test_data.columns:\n",
    "    test_data[variable] = test_data[variable].replace('?', np.nan)"
   ]
  },
  {
   "cell_type": "code",
   "execution_count": 20,
   "metadata": {
    "collapsed": false
   },
   "outputs": [
    {
     "data": {
      "text/plain": [
       "age                  0\n",
       "workclass         1836\n",
       "education            0\n",
       "education-num        0\n",
       "marital-status       0\n",
       "occupation        1843\n",
       "relationship         0\n",
       "race                 0\n",
       "sex                  0\n",
       "capital-gain         0\n",
       "capital-loss         0\n",
       "hours-per-week       0\n",
       "native-country     583\n",
       "class                0\n",
       "dtype: int64"
      ]
     },
     "execution_count": 20,
     "metadata": {},
     "output_type": "execute_result"
    }
   ],
   "source": [
    "np.sum(train_data.isnull())"
   ]
  },
  {
   "cell_type": "code",
   "execution_count": 21,
   "metadata": {
    "collapsed": false
   },
   "outputs": [
    {
     "data": {
      "text/plain": [
       "age                 0\n",
       "workclass         963\n",
       "education           0\n",
       "education-num       0\n",
       "marital-status      0\n",
       "occupation        966\n",
       "relationship        0\n",
       "race                0\n",
       "sex                 0\n",
       "capital-gain        0\n",
       "capital-loss        0\n",
       "hours-per-week      0\n",
       "native-country    274\n",
       "class               0\n",
       "dtype: int64"
      ]
     },
     "execution_count": 21,
     "metadata": {},
     "output_type": "execute_result"
    }
   ],
   "source": [
    "np.sum(test_data.isnull())"
   ]
  },
  {
   "cell_type": "code",
   "execution_count": 22,
   "metadata": {
    "collapsed": false
   },
   "outputs": [
    {
     "name": "stdout",
     "output_type": "stream",
     "text": [
      "  workclass      occupation native-country\n",
      "0   Private  Prof-specialty  United-States\n"
     ]
    }
   ],
   "source": [
    "imputed_variables = ['workclass','occupation','native-country']\n",
    "imputed_values = train_data[imputed_variables].mode()\n",
    "print(imputed_values)"
   ]
  },
  {
   "cell_type": "code",
   "execution_count": 23,
   "metadata": {
    "collapsed": false
   },
   "outputs": [],
   "source": [
    "for variable in imputed_variables:\n",
    "    train_data[variable].fillna(value = imputed_values[variable][0], inplace=True)\n",
    "    test_data[variable].fillna(value = imputed_values[variable][0], inplace=True)"
   ]
  },
  {
   "cell_type": "code",
   "execution_count": 24,
   "metadata": {
    "collapsed": false
   },
   "outputs": [
    {
     "data": {
      "text/html": [
       "<div>\n",
       "<table border=\"1\" class=\"dataframe\">\n",
       "  <thead>\n",
       "    <tr style=\"text-align: right;\">\n",
       "      <th></th>\n",
       "      <th>age</th>\n",
       "      <th>workclass</th>\n",
       "      <th>education</th>\n",
       "      <th>education-num</th>\n",
       "      <th>marital-status</th>\n",
       "      <th>occupation</th>\n",
       "      <th>relationship</th>\n",
       "      <th>race</th>\n",
       "      <th>sex</th>\n",
       "      <th>capital-gain</th>\n",
       "      <th>capital-loss</th>\n",
       "      <th>hours-per-week</th>\n",
       "      <th>native-country</th>\n",
       "      <th>class</th>\n",
       "    </tr>\n",
       "  </thead>\n",
       "  <tbody>\n",
       "    <tr>\n",
       "      <th>0</th>\n",
       "      <td>39.0</td>\n",
       "      <td>State-gov</td>\n",
       "      <td>Bachelors</td>\n",
       "      <td>13</td>\n",
       "      <td>Never-married</td>\n",
       "      <td>Adm-clerical</td>\n",
       "      <td>Not-in-family</td>\n",
       "      <td>White</td>\n",
       "      <td>Male</td>\n",
       "      <td>2174.0</td>\n",
       "      <td>0.0</td>\n",
       "      <td>40.0</td>\n",
       "      <td>United-States</td>\n",
       "      <td>0</td>\n",
       "    </tr>\n",
       "    <tr>\n",
       "      <th>1</th>\n",
       "      <td>50.0</td>\n",
       "      <td>Self-emp-not-inc</td>\n",
       "      <td>Bachelors</td>\n",
       "      <td>13</td>\n",
       "      <td>Married-civ-spouse</td>\n",
       "      <td>Exec-managerial</td>\n",
       "      <td>Husband</td>\n",
       "      <td>White</td>\n",
       "      <td>Male</td>\n",
       "      <td>0.0</td>\n",
       "      <td>0.0</td>\n",
       "      <td>13.0</td>\n",
       "      <td>United-States</td>\n",
       "      <td>0</td>\n",
       "    </tr>\n",
       "    <tr>\n",
       "      <th>2</th>\n",
       "      <td>38.0</td>\n",
       "      <td>Private</td>\n",
       "      <td>HS-grad</td>\n",
       "      <td>9</td>\n",
       "      <td>Divorced</td>\n",
       "      <td>Handlers-cleaners</td>\n",
       "      <td>Not-in-family</td>\n",
       "      <td>White</td>\n",
       "      <td>Male</td>\n",
       "      <td>0.0</td>\n",
       "      <td>0.0</td>\n",
       "      <td>40.0</td>\n",
       "      <td>United-States</td>\n",
       "      <td>0</td>\n",
       "    </tr>\n",
       "    <tr>\n",
       "      <th>3</th>\n",
       "      <td>53.0</td>\n",
       "      <td>Private</td>\n",
       "      <td>11th</td>\n",
       "      <td>7</td>\n",
       "      <td>Married-civ-spouse</td>\n",
       "      <td>Handlers-cleaners</td>\n",
       "      <td>Husband</td>\n",
       "      <td>Black</td>\n",
       "      <td>Male</td>\n",
       "      <td>0.0</td>\n",
       "      <td>0.0</td>\n",
       "      <td>40.0</td>\n",
       "      <td>United-States</td>\n",
       "      <td>0</td>\n",
       "    </tr>\n",
       "    <tr>\n",
       "      <th>4</th>\n",
       "      <td>28.0</td>\n",
       "      <td>Private</td>\n",
       "      <td>Bachelors</td>\n",
       "      <td>13</td>\n",
       "      <td>Married-civ-spouse</td>\n",
       "      <td>Prof-specialty</td>\n",
       "      <td>Wife</td>\n",
       "      <td>Black</td>\n",
       "      <td>Female</td>\n",
       "      <td>0.0</td>\n",
       "      <td>0.0</td>\n",
       "      <td>40.0</td>\n",
       "      <td>Cuba</td>\n",
       "      <td>0</td>\n",
       "    </tr>\n",
       "    <tr>\n",
       "      <th>5</th>\n",
       "      <td>37.0</td>\n",
       "      <td>Private</td>\n",
       "      <td>Masters</td>\n",
       "      <td>14</td>\n",
       "      <td>Married-civ-spouse</td>\n",
       "      <td>Exec-managerial</td>\n",
       "      <td>Wife</td>\n",
       "      <td>White</td>\n",
       "      <td>Female</td>\n",
       "      <td>0.0</td>\n",
       "      <td>0.0</td>\n",
       "      <td>40.0</td>\n",
       "      <td>United-States</td>\n",
       "      <td>0</td>\n",
       "    </tr>\n",
       "    <tr>\n",
       "      <th>6</th>\n",
       "      <td>49.0</td>\n",
       "      <td>Private</td>\n",
       "      <td>9th</td>\n",
       "      <td>5</td>\n",
       "      <td>Married-spouse-absent</td>\n",
       "      <td>Other-service</td>\n",
       "      <td>Not-in-family</td>\n",
       "      <td>Black</td>\n",
       "      <td>Female</td>\n",
       "      <td>0.0</td>\n",
       "      <td>0.0</td>\n",
       "      <td>16.0</td>\n",
       "      <td>Jamaica</td>\n",
       "      <td>0</td>\n",
       "    </tr>\n",
       "    <tr>\n",
       "      <th>7</th>\n",
       "      <td>52.0</td>\n",
       "      <td>Self-emp-not-inc</td>\n",
       "      <td>HS-grad</td>\n",
       "      <td>9</td>\n",
       "      <td>Married-civ-spouse</td>\n",
       "      <td>Exec-managerial</td>\n",
       "      <td>Husband</td>\n",
       "      <td>White</td>\n",
       "      <td>Male</td>\n",
       "      <td>0.0</td>\n",
       "      <td>0.0</td>\n",
       "      <td>45.0</td>\n",
       "      <td>United-States</td>\n",
       "      <td>1</td>\n",
       "    </tr>\n",
       "    <tr>\n",
       "      <th>8</th>\n",
       "      <td>31.0</td>\n",
       "      <td>Private</td>\n",
       "      <td>Masters</td>\n",
       "      <td>14</td>\n",
       "      <td>Never-married</td>\n",
       "      <td>Prof-specialty</td>\n",
       "      <td>Not-in-family</td>\n",
       "      <td>White</td>\n",
       "      <td>Female</td>\n",
       "      <td>14084.0</td>\n",
       "      <td>0.0</td>\n",
       "      <td>50.0</td>\n",
       "      <td>United-States</td>\n",
       "      <td>1</td>\n",
       "    </tr>\n",
       "    <tr>\n",
       "      <th>9</th>\n",
       "      <td>42.0</td>\n",
       "      <td>Private</td>\n",
       "      <td>Bachelors</td>\n",
       "      <td>13</td>\n",
       "      <td>Married-civ-spouse</td>\n",
       "      <td>Exec-managerial</td>\n",
       "      <td>Husband</td>\n",
       "      <td>White</td>\n",
       "      <td>Male</td>\n",
       "      <td>5178.0</td>\n",
       "      <td>0.0</td>\n",
       "      <td>40.0</td>\n",
       "      <td>United-States</td>\n",
       "      <td>1</td>\n",
       "    </tr>\n",
       "  </tbody>\n",
       "</table>\n",
       "</div>"
      ],
      "text/plain": [
       "    age         workclass  education education-num         marital-status  \\\n",
       "0  39.0         State-gov  Bachelors            13          Never-married   \n",
       "1  50.0  Self-emp-not-inc  Bachelors            13     Married-civ-spouse   \n",
       "2  38.0           Private    HS-grad             9               Divorced   \n",
       "3  53.0           Private       11th             7     Married-civ-spouse   \n",
       "4  28.0           Private  Bachelors            13     Married-civ-spouse   \n",
       "5  37.0           Private    Masters            14     Married-civ-spouse   \n",
       "6  49.0           Private        9th             5  Married-spouse-absent   \n",
       "7  52.0  Self-emp-not-inc    HS-grad             9     Married-civ-spouse   \n",
       "8  31.0           Private    Masters            14          Never-married   \n",
       "9  42.0           Private  Bachelors            13     Married-civ-spouse   \n",
       "\n",
       "          occupation   relationship   race     sex  capital-gain  \\\n",
       "0       Adm-clerical  Not-in-family  White    Male        2174.0   \n",
       "1    Exec-managerial        Husband  White    Male           0.0   \n",
       "2  Handlers-cleaners  Not-in-family  White    Male           0.0   \n",
       "3  Handlers-cleaners        Husband  Black    Male           0.0   \n",
       "4     Prof-specialty           Wife  Black  Female           0.0   \n",
       "5    Exec-managerial           Wife  White  Female           0.0   \n",
       "6      Other-service  Not-in-family  Black  Female           0.0   \n",
       "7    Exec-managerial        Husband  White    Male           0.0   \n",
       "8     Prof-specialty  Not-in-family  White  Female       14084.0   \n",
       "9    Exec-managerial        Husband  White    Male        5178.0   \n",
       "\n",
       "   capital-loss  hours-per-week native-country class  \n",
       "0           0.0            40.0  United-States     0  \n",
       "1           0.0            13.0  United-States     0  \n",
       "2           0.0            40.0  United-States     0  \n",
       "3           0.0            40.0  United-States     0  \n",
       "4           0.0            40.0           Cuba     0  \n",
       "5           0.0            40.0  United-States     0  \n",
       "6           0.0            16.0        Jamaica     0  \n",
       "7           0.0            45.0  United-States     1  \n",
       "8           0.0            50.0  United-States     1  \n",
       "9           0.0            40.0  United-States     1  "
      ]
     },
     "execution_count": 24,
     "metadata": {},
     "output_type": "execute_result"
    }
   ],
   "source": [
    "train_data.head(10)"
   ]
  },
  {
   "cell_type": "markdown",
   "metadata": {},
   "source": [
    "## Randomly Shuffle Training Data"
   ]
  },
  {
   "cell_type": "code",
   "execution_count": 25,
   "metadata": {
    "collapsed": true
   },
   "outputs": [],
   "source": [
    "train_data = train_data.sample(frac = 1)"
   ]
  },
  {
   "cell_type": "markdown",
   "metadata": {},
   "source": [
    "## Data Statistics"
   ]
  },
  {
   "cell_type": "code",
   "execution_count": 26,
   "metadata": {
    "collapsed": false
   },
   "outputs": [
    {
     "data": {
      "text/html": [
       "<div>\n",
       "<table border=\"1\" class=\"dataframe\">\n",
       "  <thead>\n",
       "    <tr style=\"text-align: right;\">\n",
       "      <th></th>\n",
       "      <th>age</th>\n",
       "      <th>capital-gain</th>\n",
       "      <th>capital-loss</th>\n",
       "      <th>hours-per-week</th>\n",
       "    </tr>\n",
       "  </thead>\n",
       "  <tbody>\n",
       "    <tr>\n",
       "      <th>count</th>\n",
       "      <td>32561.000000</td>\n",
       "      <td>32561.000000</td>\n",
       "      <td>32561.000000</td>\n",
       "      <td>32561.000000</td>\n",
       "    </tr>\n",
       "    <tr>\n",
       "      <th>mean</th>\n",
       "      <td>38.581647</td>\n",
       "      <td>1077.648844</td>\n",
       "      <td>87.303830</td>\n",
       "      <td>40.437456</td>\n",
       "    </tr>\n",
       "    <tr>\n",
       "      <th>std</th>\n",
       "      <td>13.640433</td>\n",
       "      <td>7385.292085</td>\n",
       "      <td>402.960219</td>\n",
       "      <td>12.347429</td>\n",
       "    </tr>\n",
       "    <tr>\n",
       "      <th>min</th>\n",
       "      <td>17.000000</td>\n",
       "      <td>0.000000</td>\n",
       "      <td>0.000000</td>\n",
       "      <td>1.000000</td>\n",
       "    </tr>\n",
       "    <tr>\n",
       "      <th>25%</th>\n",
       "      <td>28.000000</td>\n",
       "      <td>0.000000</td>\n",
       "      <td>0.000000</td>\n",
       "      <td>40.000000</td>\n",
       "    </tr>\n",
       "    <tr>\n",
       "      <th>50%</th>\n",
       "      <td>37.000000</td>\n",
       "      <td>0.000000</td>\n",
       "      <td>0.000000</td>\n",
       "      <td>40.000000</td>\n",
       "    </tr>\n",
       "    <tr>\n",
       "      <th>75%</th>\n",
       "      <td>48.000000</td>\n",
       "      <td>0.000000</td>\n",
       "      <td>0.000000</td>\n",
       "      <td>45.000000</td>\n",
       "    </tr>\n",
       "    <tr>\n",
       "      <th>max</th>\n",
       "      <td>90.000000</td>\n",
       "      <td>99999.000000</td>\n",
       "      <td>4356.000000</td>\n",
       "      <td>99.000000</td>\n",
       "    </tr>\n",
       "  </tbody>\n",
       "</table>\n",
       "</div>"
      ],
      "text/plain": [
       "                age  capital-gain  capital-loss  hours-per-week\n",
       "count  32561.000000  32561.000000  32561.000000    32561.000000\n",
       "mean      38.581647   1077.648844     87.303830       40.437456\n",
       "std       13.640433   7385.292085    402.960219       12.347429\n",
       "min       17.000000      0.000000      0.000000        1.000000\n",
       "25%       28.000000      0.000000      0.000000       40.000000\n",
       "50%       37.000000      0.000000      0.000000       40.000000\n",
       "75%       48.000000      0.000000      0.000000       45.000000\n",
       "max       90.000000  99999.000000   4356.000000       99.000000"
      ]
     },
     "execution_count": 26,
     "metadata": {},
     "output_type": "execute_result"
    }
   ],
   "source": [
    "train_data.describe()"
   ]
  },
  {
   "cell_type": "code",
   "execution_count": 27,
   "metadata": {
    "collapsed": false
   },
   "outputs": [
    {
     "name": "stdout",
     "output_type": "stream",
     "text": [
      "-------------------------------\n",
      "Histogram for workclass\n",
      "-------------------------------\n",
      "Private             24532\n",
      "Self-emp-not-inc     2541\n",
      "Local-gov            2093\n",
      "State-gov            1298\n",
      "Self-emp-inc         1116\n",
      "Federal-gov           960\n",
      "Without-pay            14\n",
      "Never-worked            7\n",
      "Name: workclass, dtype: int64\n",
      "\n",
      "-------------------------------\n",
      "Histogram for education\n",
      "-------------------------------\n",
      "HS-grad         10501\n",
      "Some-college     7291\n",
      "Bachelors        5355\n",
      "Masters          1723\n",
      "Assoc-voc        1382\n",
      "11th             1175\n",
      "Assoc-acdm       1067\n",
      "10th              933\n",
      "7th-8th           646\n",
      "Prof-school       576\n",
      "9th               514\n",
      "12th              433\n",
      "Doctorate         413\n",
      "5th-6th           333\n",
      "1st-4th           168\n",
      "Preschool          51\n",
      "Name: education, dtype: int64\n",
      "\n",
      "-------------------------------\n",
      "Histogram for education-num\n",
      "-------------------------------\n",
      "9     10501\n",
      "10     7291\n",
      "13     5355\n",
      "14     1723\n",
      "11     1382\n",
      "7      1175\n",
      "12     1067\n",
      "6       933\n",
      "4       646\n",
      "15      576\n",
      "5       514\n",
      "8       433\n",
      "16      413\n",
      "3       333\n",
      "2       168\n",
      "1        51\n",
      "Name: education-num, dtype: int64\n",
      "\n",
      "-------------------------------\n",
      "Histogram for marital-status\n",
      "-------------------------------\n",
      "Married-civ-spouse       14976\n",
      "Never-married            10683\n",
      "Divorced                  4443\n",
      "Separated                 1025\n",
      "Widowed                    993\n",
      "Married-spouse-absent      418\n",
      "Married-AF-spouse           23\n",
      "Name: marital-status, dtype: int64\n",
      "\n",
      "-------------------------------\n",
      "Histogram for occupation\n",
      "-------------------------------\n",
      "Prof-specialty       5983\n",
      "Craft-repair         4099\n",
      "Exec-managerial      4066\n",
      "Adm-clerical         3770\n",
      "Sales                3650\n",
      "Other-service        3295\n",
      "Machine-op-inspct    2002\n",
      "Transport-moving     1597\n",
      "Handlers-cleaners    1370\n",
      "Farming-fishing       994\n",
      "Tech-support          928\n",
      "Protective-serv       649\n",
      "Priv-house-serv       149\n",
      "Armed-Forces            9\n",
      "Name: occupation, dtype: int64\n",
      "\n",
      "-------------------------------\n",
      "Histogram for relationship\n",
      "-------------------------------\n",
      "Husband           13193\n",
      "Not-in-family      8305\n",
      "Own-child          5068\n",
      "Unmarried          3446\n",
      "Wife               1568\n",
      "Other-relative      981\n",
      "Name: relationship, dtype: int64\n",
      "\n",
      "-------------------------------\n",
      "Histogram for race\n",
      "-------------------------------\n",
      "White                 27816\n",
      "Black                  3124\n",
      "Asian-Pac-Islander     1039\n",
      "Amer-Indian-Eskimo      311\n",
      "Other                   271\n",
      "Name: race, dtype: int64\n",
      "\n",
      "-------------------------------\n",
      "Histogram for sex\n",
      "-------------------------------\n",
      "Male      21790\n",
      "Female    10771\n",
      "Name: sex, dtype: int64\n",
      "\n",
      "-------------------------------\n",
      "Histogram for native-country\n",
      "-------------------------------\n",
      "United-States                 29753\n",
      "Mexico                          643\n",
      "Philippines                     198\n",
      "Germany                         137\n",
      "Canada                          121\n",
      "Puerto-Rico                     114\n",
      "El-Salvador                     106\n",
      "India                           100\n",
      "Cuba                             95\n",
      "England                          90\n",
      "Jamaica                          81\n",
      "South                            80\n",
      "China                            75\n",
      "Italy                            73\n",
      "Dominican-Republic               70\n",
      "Vietnam                          67\n",
      "Guatemala                        64\n",
      "Japan                            62\n",
      "Poland                           60\n",
      "Columbia                         59\n",
      "Taiwan                           51\n",
      "Haiti                            44\n",
      "Iran                             43\n",
      "Portugal                         37\n",
      "Nicaragua                        34\n",
      "Peru                             31\n",
      "Greece                           29\n",
      "France                           29\n",
      "Ecuador                          28\n",
      "Ireland                          24\n",
      "Hong                             20\n",
      "Cambodia                         19\n",
      "Trinadad&Tobago                  19\n",
      "Laos                             18\n",
      "Thailand                         18\n",
      "Yugoslavia                       16\n",
      "Outlying-US(Guam-USVI-etc)       14\n",
      "Honduras                         13\n",
      "Hungary                          13\n",
      "Scotland                         12\n",
      "Holand-Netherlands                1\n",
      "Name: native-country, dtype: int64\n",
      "\n"
     ]
    }
   ],
   "source": [
    "for variable in categorical_variables:\n",
    "  print (\"-------------------------------\")\n",
    "  print (\"Histogram for \" + variable)\n",
    "  print (\"-------------------------------\")\n",
    "  print (train_data[variable].value_counts())\n",
    "  print (\"\")"
   ]
  },
  {
   "cell_type": "markdown",
   "metadata": {},
   "source": [
    "## Class distribution"
   ]
  },
  {
   "cell_type": "code",
   "execution_count": 28,
   "metadata": {
    "collapsed": false
   },
   "outputs": [
    {
     "name": "stdout",
     "output_type": "stream",
     "text": [
      "0    24720\n",
      "1     7841\n",
      "Name: class, dtype: int64\n"
     ]
    }
   ],
   "source": [
    "print (train_data['class'].value_counts())"
   ]
  },
  {
   "cell_type": "markdown",
   "metadata": {},
   "source": [
    "## Visualization"
   ]
  },
  {
   "cell_type": "code",
   "execution_count": 29,
   "metadata": {
    "collapsed": false
   },
   "outputs": [
    {
     "name": "stdout",
     "output_type": "stream",
     "text": [
      "        age         workclass     education education-num      marital-status  \\\n",
      "27952  21.0           Private       HS-grad             9       Never-married   \n",
      "18886  54.0           Private       HS-grad             9  Married-civ-spouse   \n",
      "11885  40.0           Private    Assoc-acdm            12       Never-married   \n",
      "25927  25.0           Private     Bachelors            13       Never-married   \n",
      "4963   47.0           Private       Masters            14       Never-married   \n",
      "985    63.0           Private     Assoc-voc            11            Divorced   \n",
      "26040  29.0           Private       HS-grad             9       Never-married   \n",
      "25458  26.0           Private    Assoc-acdm            12  Married-civ-spouse   \n",
      "26029  52.0  Self-emp-not-inc     Assoc-voc            11  Married-civ-spouse   \n",
      "27345  50.0           Private     Bachelors            13  Married-civ-spouse   \n",
      "8248   23.0           Private     Bachelors            13  Married-civ-spouse   \n",
      "6799   35.0         State-gov  Some-college            10            Divorced   \n",
      "10827  35.0           Private  Some-college            10  Married-civ-spouse   \n",
      "28353  38.0           Private     Assoc-voc            11            Divorced   \n",
      "11565  43.0      Self-emp-inc    Assoc-acdm            12  Married-civ-spouse   \n",
      "2363   28.0           Private       HS-grad             9       Never-married   \n",
      "27485  28.0           Private          11th             7  Married-civ-spouse   \n",
      "1688   53.0           Private           9th             5            Divorced   \n",
      "32473  41.0       Federal-gov       Masters            14            Divorced   \n",
      "10359  32.0           Private       HS-grad             9  Married-civ-spouse   \n",
      "4269   22.0           Private  Some-college            10       Never-married   \n",
      "26215  28.0           Private       Masters            14       Never-married   \n",
      "7187   67.0  Self-emp-not-inc  Some-college            10  Married-civ-spouse   \n",
      "2024   36.0           Private     Bachelors            13  Married-civ-spouse   \n",
      "23971  29.0           Private    Assoc-acdm            12  Married-civ-spouse   \n",
      "16575  22.0           Private       HS-grad             9       Never-married   \n",
      "31927  60.0           Private          11th             7  Married-civ-spouse   \n",
      "556    35.0           Private       HS-grad             9  Married-civ-spouse   \n",
      "2718   51.0           Private     Bachelors            13            Divorced   \n",
      "8683   58.0           Private       HS-grad             9             Widowed   \n",
      "...     ...               ...           ...           ...                 ...   \n",
      "26933  21.0       Federal-gov       HS-grad             9       Never-married   \n",
      "23924  18.0           Private          12th             8       Never-married   \n",
      "8537   32.0           Private       HS-grad             9       Never-married   \n",
      "18894  26.0           Private       HS-grad             9       Never-married   \n",
      "29159  35.0           Private       HS-grad             9  Married-civ-spouse   \n",
      "6654   49.0           Private          11th             7            Divorced   \n",
      "8087   30.0           Private     Assoc-voc            11            Divorced   \n",
      "27252  41.0  Self-emp-not-inc       HS-grad             9  Married-civ-spouse   \n",
      "21508  25.0           Private    Assoc-acdm            12       Never-married   \n",
      "4199   18.0           Private          12th             8       Never-married   \n",
      "25131  49.0  Self-emp-not-inc           9th             5            Divorced   \n",
      "21609  29.0           Private       HS-grad             9       Never-married   \n",
      "6433   27.0           Private     Preschool             1  Married-civ-spouse   \n",
      "23195  25.0         State-gov  Some-college            10  Married-civ-spouse   \n",
      "29116  22.0           Private     Assoc-voc            11       Never-married   \n",
      "30702  47.0           Private  Some-college            10            Divorced   \n",
      "18731  28.0           Private       HS-grad             9       Never-married   \n",
      "8218   65.0           Private       HS-grad             9            Divorced   \n",
      "4572   19.0           Private          11th             7       Never-married   \n",
      "6180   71.0  Self-emp-not-inc   Prof-school            15  Married-civ-spouse   \n",
      "6828   33.0           Private  Some-college            10            Divorced   \n",
      "19966  19.0           Private       HS-grad             9       Never-married   \n",
      "23927  27.0           Private       5th-6th             3       Never-married   \n",
      "10539  22.0           Private  Some-college            10       Never-married   \n",
      "27667  24.0           Private       HS-grad             9  Married-civ-spouse   \n",
      "18730  65.0           Private       HS-grad             9             Widowed   \n",
      "20026  48.0           Private       HS-grad             9  Married-civ-spouse   \n",
      "21957  27.0         State-gov     Bachelors            13       Never-married   \n",
      "26912  32.0      Self-emp-inc     Bachelors            13  Married-civ-spouse   \n",
      "23387  48.0           Private  Some-college            10           Separated   \n",
      "\n",
      "              occupation    relationship                race     sex  \\\n",
      "27952      Other-service       Own-child               White  Female   \n",
      "18886              Sales         Husband               White    Male   \n",
      "11885       Adm-clerical   Not-in-family               White  Female   \n",
      "25927       Adm-clerical   Not-in-family               White  Female   \n",
      "4963      Prof-specialty   Not-in-family               White  Female   \n",
      "985        Other-service   Not-in-family               White  Female   \n",
      "26040     Prof-specialty   Not-in-family               White    Male   \n",
      "25458       Adm-clerical       Own-child               White  Female   \n",
      "26029    Exec-managerial         Husband               White    Male   \n",
      "27345    Exec-managerial         Husband               White    Male   \n",
      "8248       Other-service         Husband               White    Male   \n",
      "6799     Exec-managerial   Not-in-family               Black  Female   \n",
      "10827       Craft-repair         Husband               White    Male   \n",
      "28353       Adm-clerical       Unmarried               White  Female   \n",
      "11565    Exec-managerial         Husband               White    Male   \n",
      "2363   Handlers-cleaners       Own-child               White    Male   \n",
      "27485    Farming-fishing         Husband               White    Male   \n",
      "1688       Other-service   Not-in-family               White  Female   \n",
      "32473     Prof-specialty       Unmarried               White  Female   \n",
      "10359  Handlers-cleaners         Husband               White    Male   \n",
      "4269       Other-service  Other-relative               White    Male   \n",
      "26215     Prof-specialty       Own-child               White    Male   \n",
      "7187     Farming-fishing         Husband               White    Male   \n",
      "2024     Exec-managerial         Husband               White    Male   \n",
      "23971       Adm-clerical         Husband               White    Male   \n",
      "16575      Other-service       Unmarried               White  Female   \n",
      "31927       Craft-repair         Husband               White    Male   \n",
      "556    Machine-op-inspct         Husband               White    Male   \n",
      "2718     Exec-managerial   Not-in-family  Amer-Indian-Eskimo    Male   \n",
      "8683        Adm-clerical   Not-in-family               White  Female   \n",
      "...                  ...             ...                 ...     ...   \n",
      "26933       Adm-clerical       Own-child               White    Male   \n",
      "23924       Adm-clerical       Own-child               White  Female   \n",
      "8537       Other-service       Own-child               White  Female   \n",
      "18894       Adm-clerical       Own-child               Black  Female   \n",
      "29159   Transport-moving         Husband               White    Male   \n",
      "6654   Machine-op-inspct       Unmarried               Black  Female   \n",
      "8087     Exec-managerial   Not-in-family               White    Male   \n",
      "27252  Handlers-cleaners         Husband               White    Male   \n",
      "21508       Adm-clerical       Unmarried               White  Female   \n",
      "4199       Other-service   Not-in-family               White  Female   \n",
      "25131      Other-service   Not-in-family               White  Female   \n",
      "21609     Prof-specialty   Not-in-family               White  Female   \n",
      "6433     Farming-fishing  Other-relative               White    Male   \n",
      "23195       Adm-clerical         Husband               Black    Male   \n",
      "29116    Exec-managerial       Own-child               White    Male   \n",
      "30702    Exec-managerial       Unmarried               White  Female   \n",
      "18731    Exec-managerial   Not-in-family               White    Male   \n",
      "8218        Adm-clerical       Unmarried               White  Female   \n",
      "4572   Handlers-cleaners   Not-in-family               White    Male   \n",
      "6180     Farming-fishing         Husband               White    Male   \n",
      "6828        Adm-clerical   Not-in-family               Black  Female   \n",
      "19966      Other-service       Own-child               White  Female   \n",
      "23927    Farming-fishing       Unmarried               White    Male   \n",
      "10539     Prof-specialty   Not-in-family               Black  Female   \n",
      "27667    Farming-fishing         Husband               White    Male   \n",
      "18730     Prof-specialty       Unmarried               White  Female   \n",
      "20026       Craft-repair         Husband               White    Male   \n",
      "21957     Prof-specialty       Unmarried               White    Male   \n",
      "26912              Sales         Husband               White    Male   \n",
      "23387       Adm-clerical       Unmarried               White  Female   \n",
      "\n",
      "       capital-gain  capital-loss  hours-per-week native-country class  \n",
      "27952           0.0           0.0            32.0  United-States     0  \n",
      "18886           0.0           0.0            44.0  United-States     0  \n",
      "11885           0.0           0.0            40.0  United-States     0  \n",
      "25927           0.0           0.0            40.0  United-States     0  \n",
      "4963            0.0           0.0            35.0  United-States     0  \n",
      "985             0.0           0.0            20.0  United-States     0  \n",
      "26040           0.0           0.0            40.0  United-States     0  \n",
      "25458           0.0           0.0            40.0  United-States     0  \n",
      "26029           0.0           0.0            40.0  United-States     0  \n",
      "27345           0.0           0.0            60.0  United-States     0  \n",
      "8248            0.0           0.0            20.0  United-States     0  \n",
      "6799            0.0           0.0            40.0  United-States     0  \n",
      "10827           0.0           0.0            45.0  United-States     0  \n",
      "28353           0.0           0.0            40.0  United-States     0  \n",
      "11565           0.0           0.0            50.0  United-States     0  \n",
      "2363            0.0           0.0            40.0  United-States     0  \n",
      "27485           0.0           0.0            40.0  United-States     0  \n",
      "1688            0.0           0.0            36.0         Canada     0  \n",
      "32473        1506.0           0.0            40.0  United-States     0  \n",
      "10359        2829.0           0.0            40.0  United-States     0  \n",
      "4269            0.0           0.0            25.0  United-States     0  \n",
      "26215           0.0           0.0            40.0  United-States     0  \n",
      "7187            0.0           0.0            44.0  United-States     0  \n",
      "2024            0.0           0.0            40.0  United-States     0  \n",
      "23971           0.0           0.0            40.0  United-States     0  \n",
      "16575           0.0           0.0            35.0  United-States     0  \n",
      "31927           0.0           0.0            40.0  United-States     0  \n",
      "556             0.0           0.0            40.0  United-States     0  \n",
      "2718            0.0           0.0            50.0  United-States     0  \n",
      "8683            0.0           0.0            37.0  United-States     0  \n",
      "...             ...           ...             ...            ...   ...  \n",
      "26933           0.0           0.0            36.0  United-States     0  \n",
      "23924           0.0           0.0            20.0  United-States     0  \n",
      "8537            0.0           0.0            35.0  United-States     0  \n",
      "18894           0.0           0.0            40.0  United-States     0  \n",
      "29159           0.0           0.0            30.0  United-States     0  \n",
      "6654            0.0           0.0            35.0  United-States     0  \n",
      "8087            0.0           0.0            40.0  United-States     0  \n",
      "27252           0.0        2179.0            40.0  United-States     0  \n",
      "21508           0.0           0.0            40.0  United-States     0  \n",
      "4199            0.0           0.0            25.0  United-States     0  \n",
      "25131           0.0           0.0            20.0  United-States     0  \n",
      "21609           0.0           0.0            50.0  United-States     0  \n",
      "6433        41310.0           0.0            24.0         Mexico     0  \n",
      "23195           0.0           0.0            38.0  United-States     0  \n",
      "29116           0.0           0.0            40.0  United-States     0  \n",
      "30702           0.0           0.0            40.0  United-States     0  \n",
      "18731           0.0           0.0            40.0  United-States     0  \n",
      "8218            0.0        2206.0            59.0         Canada     0  \n",
      "4572            0.0           0.0            40.0  United-States     0  \n",
      "6180            0.0           0.0             2.0  United-States     0  \n",
      "6828            0.0           0.0            40.0  United-States     0  \n",
      "19966           0.0           0.0            40.0  United-States     0  \n",
      "23927           0.0           0.0            50.0  United-States     0  \n",
      "10539           0.0           0.0            25.0  United-States     0  \n",
      "27667           0.0           0.0            60.0  United-States     0  \n",
      "18730        2329.0           0.0            75.0  United-States     0  \n",
      "20026           0.0           0.0            55.0  United-States     0  \n",
      "21957           0.0           0.0            50.0  United-States     0  \n",
      "26912           0.0           0.0            40.0  United-States     0  \n",
      "23387           0.0           0.0            44.0  United-States     0  \n",
      "\n",
      "[24720 rows x 14 columns]\n"
     ]
    }
   ],
   "source": [
    "print(train_data[train_data['class'] == '0'])"
   ]
  },
  {
   "cell_type": "code",
   "execution_count": 30,
   "metadata": {
    "collapsed": false
   },
   "outputs": [
    {
     "data": {
      "text/plain": [
       "<matplotlib.text.Text at 0x10ef99668>"
      ]
     },
     "execution_count": 30,
     "metadata": {},
     "output_type": "execute_result"
    },
    {
     "data": {
      "image/png": "[encoded data removed]",
      "text/plain": [
       "<matplotlib.figure.Figure at 0x10eca9550>"
      ]
     },
     "metadata": {},
     "output_type": "display_data"
    }
   ],
   "source": [
    "%matplotlib inline\n",
    "sns.distplot(train_data.age, bins = 25, kde = False)\n",
    "plt.title('Histogram of Age')\n",
    "plt.xlabel('Age')\n",
    "plt.ylabel('Count')\n",
    "#plt.show()"
   ]
  },
  {
   "cell_type": "code",
   "execution_count": 31,
   "metadata": {
    "collapsed": false
   },
   "outputs": [
    {
     "data": {
      "text/plain": [
       "<matplotlib.legend.Legend at 0x10da12ef0>"
      ]
     },
     "execution_count": 31,
     "metadata": {},
     "output_type": "execute_result"
    },
    {
     "data": {
      "image/png": "[encoded data removed]",
      "text/plain": [
       "<matplotlib.figure.Figure at 0x10ef935c0>"
      ]
     },
     "metadata": {},
     "output_type": "display_data"
    }
   ],
   "source": [
    "sns.distplot(train_data[train_data['class'] == '1'].age, bins = 25, kde = True, label = \">= $50k\")\n",
    "plt.title('Class-wise Histogram of Age')\n",
    "plt.xlabel('Age')\n",
    "plt.ylabel('Count')\n",
    "plt.legend(loc=\"upper right\")"
   ]
  },
  {
   "cell_type": "code",
   "execution_count": 32,
   "metadata": {
    "collapsed": false
   },
   "outputs": [
    {
     "data": {
      "text/plain": [
       "<matplotlib.text.Text at 0x10f4e19e8>"
      ]
     },
     "execution_count": 32,
     "metadata": {},
     "output_type": "execute_result"
    },
    {
     "data": {
      "image/png": "[encoded data removed]",
      "text/plain": [
       "<matplotlib.figure.Figure at 0x10c176f60>"
      ]
     },
     "metadata": {},
     "output_type": "display_data"
    }
   ],
   "source": [
    "sns.set(color_codes=True)\n",
    "train_data['education-num'] = train_data['education-num'].map(int)\n",
    "sns.regplot('education-num', 'hours-per-week', train_data[train_data['class'] == '1'], \n",
    "            scatter_kws={\"marker\": \".\", \"color\": \"green\"},\n",
    "            line_kws = {\"linewidth\": \"1\", \"color\": \"green\"},\n",
    "            order = 3,\n",
    "            label = '>= $50k')\n",
    "plt.xlabel('Number of years of education')\n",
    "plt.ylabel('Hours per week')\n",
    "plt.legend(loc=\"lower right\")\n",
    "plt.title(\"Scatter plot of hours worked per week and number of years of education\")"
   ]
  },
  {
   "cell_type": "markdown",
   "metadata": {},
   "source": [
    "## Binning numeric values"
   ]
  },
  {
   "cell_type": "code",
   "execution_count": 33,
   "metadata": {
    "collapsed": false
   },
   "outputs": [],
   "source": [
    "def binning(col,bin_num):\n",
    "  #Define min and max values:\n",
    "  minval = col.min()\n",
    "  maxval = col.max()\n",
    "\n",
    "  \n",
    "\n",
    "  #if no labels provided, use default labels 0 ... (n-1)\n",
    "  \n",
    "  labels = ['BIN_'+str(i) for i in range(bin_num)]\n",
    "\n",
    "  #Binning using cut function of pandas\n",
    "  #colBin = pd.cut(col,bin_num,include_lowest=True)\n",
    "  colBin = pd.cut(col,bin_num,labels=labels,include_lowest=True)\n",
    "  return colBin"
   ]
  },
  {
   "cell_type": "code",
   "execution_count": 34,
   "metadata": {
    "collapsed": false
   },
   "outputs": [
    {
     "name": "stdout",
     "output_type": "stream",
     "text": [
      "(21.0, 'BIN_1')\n",
      "(59.0, 'BIN_11')\n",
      "(54.0, 'BIN_10')\n",
      "(40.0, 'BIN_6')\n",
      "(25.0, 'BIN_2')\n"
     ]
    }
   ],
   "source": [
    "age=train_data['age'].head(5)\n",
    "age_b=binning(train_data['age'],20).head(5)\n",
    "for i in enumerate(zip(age,age_b)):\n",
    "    print(i[1])"
   ]
  },
  {
   "cell_type": "code",
   "execution_count": 35,
   "metadata": {
    "collapsed": false
   },
   "outputs": [],
   "source": [
    "#bin all numeric variables:\n",
    "categorical_variables = ['workclass', 'education', 'education-num', 'marital-status', \n",
    "                         'occupation', 'relationship', 'race', 'sex', 'native-country']\n",
    "numeric_variables = ['hours-per-week','age','capital-gain','capital-loss']\n",
    "\n",
    "\n",
    "numeric_variables_binned = []\n",
    "for variable in numeric_variables:\n",
    "    binned_output_column = variable + \"_binned\"\n",
    "    train_data[binned_output_column] = binning(train_data[variable],20)\n",
    "    test_data[binned_output_column] = binning(test_data[variable],20)\n",
    "    numeric_variables_binned.append(binned_output_column)"
   ]
  },
  {
   "cell_type": "code",
   "execution_count": 36,
   "metadata": {
    "collapsed": false
   },
   "outputs": [
    {
     "data": {
      "text/html": [
       "<div>\n",
       "<table border=\"1\" class=\"dataframe\">\n",
       "  <thead>\n",
       "    <tr style=\"text-align: right;\">\n",
       "      <th></th>\n",
       "      <th>age</th>\n",
       "      <th>workclass</th>\n",
       "      <th>education</th>\n",
       "      <th>education-num</th>\n",
       "      <th>marital-status</th>\n",
       "      <th>occupation</th>\n",
       "      <th>relationship</th>\n",
       "      <th>race</th>\n",
       "      <th>sex</th>\n",
       "      <th>capital-gain</th>\n",
       "      <th>capital-loss</th>\n",
       "      <th>hours-per-week</th>\n",
       "      <th>native-country</th>\n",
       "      <th>class</th>\n",
       "      <th>hours-per-week_binned</th>\n",
       "      <th>age_binned</th>\n",
       "      <th>capital-gain_binned</th>\n",
       "      <th>capital-loss_binned</th>\n",
       "    </tr>\n",
       "  </thead>\n",
       "  <tbody>\n",
       "    <tr>\n",
       "      <th>27952</th>\n",
       "      <td>21.0</td>\n",
       "      <td>Private</td>\n",
       "      <td>HS-grad</td>\n",
       "      <td>9</td>\n",
       "      <td>Never-married</td>\n",
       "      <td>Other-service</td>\n",
       "      <td>Own-child</td>\n",
       "      <td>White</td>\n",
       "      <td>Female</td>\n",
       "      <td>0.0</td>\n",
       "      <td>0.0</td>\n",
       "      <td>32.0</td>\n",
       "      <td>United-States</td>\n",
       "      <td>0</td>\n",
       "      <td>BIN_6</td>\n",
       "      <td>BIN_1</td>\n",
       "      <td>BIN_0</td>\n",
       "      <td>BIN_0</td>\n",
       "    </tr>\n",
       "    <tr>\n",
       "      <th>15390</th>\n",
       "      <td>59.0</td>\n",
       "      <td>Private</td>\n",
       "      <td>Some-college</td>\n",
       "      <td>10</td>\n",
       "      <td>Married-civ-spouse</td>\n",
       "      <td>Craft-repair</td>\n",
       "      <td>Husband</td>\n",
       "      <td>White</td>\n",
       "      <td>Male</td>\n",
       "      <td>0.0</td>\n",
       "      <td>0.0</td>\n",
       "      <td>40.0</td>\n",
       "      <td>United-States</td>\n",
       "      <td>1</td>\n",
       "      <td>BIN_7</td>\n",
       "      <td>BIN_11</td>\n",
       "      <td>BIN_0</td>\n",
       "      <td>BIN_0</td>\n",
       "    </tr>\n",
       "    <tr>\n",
       "      <th>18886</th>\n",
       "      <td>54.0</td>\n",
       "      <td>Private</td>\n",
       "      <td>HS-grad</td>\n",
       "      <td>9</td>\n",
       "      <td>Married-civ-spouse</td>\n",
       "      <td>Sales</td>\n",
       "      <td>Husband</td>\n",
       "      <td>White</td>\n",
       "      <td>Male</td>\n",
       "      <td>0.0</td>\n",
       "      <td>0.0</td>\n",
       "      <td>44.0</td>\n",
       "      <td>United-States</td>\n",
       "      <td>0</td>\n",
       "      <td>BIN_8</td>\n",
       "      <td>BIN_10</td>\n",
       "      <td>BIN_0</td>\n",
       "      <td>BIN_0</td>\n",
       "    </tr>\n",
       "    <tr>\n",
       "      <th>11885</th>\n",
       "      <td>40.0</td>\n",
       "      <td>Private</td>\n",
       "      <td>Assoc-acdm</td>\n",
       "      <td>12</td>\n",
       "      <td>Never-married</td>\n",
       "      <td>Adm-clerical</td>\n",
       "      <td>Not-in-family</td>\n",
       "      <td>White</td>\n",
       "      <td>Female</td>\n",
       "      <td>0.0</td>\n",
       "      <td>0.0</td>\n",
       "      <td>40.0</td>\n",
       "      <td>United-States</td>\n",
       "      <td>0</td>\n",
       "      <td>BIN_7</td>\n",
       "      <td>BIN_6</td>\n",
       "      <td>BIN_0</td>\n",
       "      <td>BIN_0</td>\n",
       "    </tr>\n",
       "    <tr>\n",
       "      <th>25927</th>\n",
       "      <td>25.0</td>\n",
       "      <td>Private</td>\n",
       "      <td>Bachelors</td>\n",
       "      <td>13</td>\n",
       "      <td>Never-married</td>\n",
       "      <td>Adm-clerical</td>\n",
       "      <td>Not-in-family</td>\n",
       "      <td>White</td>\n",
       "      <td>Female</td>\n",
       "      <td>0.0</td>\n",
       "      <td>0.0</td>\n",
       "      <td>40.0</td>\n",
       "      <td>United-States</td>\n",
       "      <td>0</td>\n",
       "      <td>BIN_7</td>\n",
       "      <td>BIN_2</td>\n",
       "      <td>BIN_0</td>\n",
       "      <td>BIN_0</td>\n",
       "    </tr>\n",
       "  </tbody>\n",
       "</table>\n",
       "</div>"
      ],
      "text/plain": [
       "        age workclass     education  education-num      marital-status  \\\n",
       "27952  21.0   Private       HS-grad              9       Never-married   \n",
       "15390  59.0   Private  Some-college             10  Married-civ-spouse   \n",
       "18886  54.0   Private       HS-grad              9  Married-civ-spouse   \n",
       "11885  40.0   Private    Assoc-acdm             12       Never-married   \n",
       "25927  25.0   Private     Bachelors             13       Never-married   \n",
       "\n",
       "          occupation   relationship   race     sex  capital-gain  \\\n",
       "27952  Other-service      Own-child  White  Female           0.0   \n",
       "15390   Craft-repair        Husband  White    Male           0.0   \n",
       "18886          Sales        Husband  White    Male           0.0   \n",
       "11885   Adm-clerical  Not-in-family  White  Female           0.0   \n",
       "25927   Adm-clerical  Not-in-family  White  Female           0.0   \n",
       "\n",
       "       capital-loss  hours-per-week native-country class  \\\n",
       "27952           0.0            32.0  United-States     0   \n",
       "15390           0.0            40.0  United-States     1   \n",
       "18886           0.0            44.0  United-States     0   \n",
       "11885           0.0            40.0  United-States     0   \n",
       "25927           0.0            40.0  United-States     0   \n",
       "\n",
       "      hours-per-week_binned age_binned capital-gain_binned capital-loss_binned  \n",
       "27952                 BIN_6      BIN_1               BIN_0               BIN_0  \n",
       "15390                 BIN_7     BIN_11               BIN_0               BIN_0  \n",
       "18886                 BIN_8     BIN_10               BIN_0               BIN_0  \n",
       "11885                 BIN_7      BIN_6               BIN_0               BIN_0  \n",
       "25927                 BIN_7      BIN_2               BIN_0               BIN_0  "
      ]
     },
     "execution_count": 36,
     "metadata": {},
     "output_type": "execute_result"
    }
   ],
   "source": [
    "train_data.head()"
   ]
  },
  {
   "cell_type": "markdown",
   "metadata": {},
   "source": [
    "## One Hot encoding:"
   ]
  },
  {
   "cell_type": "code",
   "execution_count": 37,
   "metadata": {
    "collapsed": false
   },
   "outputs": [
    {
     "data": {
      "text/html": [
       "<div>\n",
       "<table border=\"1\" class=\"dataframe\">\n",
       "  <thead>\n",
       "    <tr style=\"text-align: right;\">\n",
       "      <th></th>\n",
       "      <th>relationship_Husband</th>\n",
       "      <th>relationship_Not-in-family</th>\n",
       "      <th>relationship_Other-relative</th>\n",
       "      <th>relationship_Own-child</th>\n",
       "      <th>relationship_Unmarried</th>\n",
       "      <th>relationship_Wife</th>\n",
       "    </tr>\n",
       "  </thead>\n",
       "  <tbody>\n",
       "    <tr>\n",
       "      <th>27952</th>\n",
       "      <td>0.0</td>\n",
       "      <td>0.0</td>\n",
       "      <td>0.0</td>\n",
       "      <td>1.0</td>\n",
       "      <td>0.0</td>\n",
       "      <td>0.0</td>\n",
       "    </tr>\n",
       "    <tr>\n",
       "      <th>15390</th>\n",
       "      <td>1.0</td>\n",
       "      <td>0.0</td>\n",
       "      <td>0.0</td>\n",
       "      <td>0.0</td>\n",
       "      <td>0.0</td>\n",
       "      <td>0.0</td>\n",
       "    </tr>\n",
       "    <tr>\n",
       "      <th>18886</th>\n",
       "      <td>1.0</td>\n",
       "      <td>0.0</td>\n",
       "      <td>0.0</td>\n",
       "      <td>0.0</td>\n",
       "      <td>0.0</td>\n",
       "      <td>0.0</td>\n",
       "    </tr>\n",
       "    <tr>\n",
       "      <th>11885</th>\n",
       "      <td>0.0</td>\n",
       "      <td>1.0</td>\n",
       "      <td>0.0</td>\n",
       "      <td>0.0</td>\n",
       "      <td>0.0</td>\n",
       "      <td>0.0</td>\n",
       "    </tr>\n",
       "    <tr>\n",
       "      <th>25927</th>\n",
       "      <td>0.0</td>\n",
       "      <td>1.0</td>\n",
       "      <td>0.0</td>\n",
       "      <td>0.0</td>\n",
       "      <td>0.0</td>\n",
       "      <td>0.0</td>\n",
       "    </tr>\n",
       "    <tr>\n",
       "      <th>5431</th>\n",
       "      <td>0.0</td>\n",
       "      <td>0.0</td>\n",
       "      <td>0.0</td>\n",
       "      <td>0.0</td>\n",
       "      <td>0.0</td>\n",
       "      <td>1.0</td>\n",
       "    </tr>\n",
       "    <tr>\n",
       "      <th>4963</th>\n",
       "      <td>0.0</td>\n",
       "      <td>1.0</td>\n",
       "      <td>0.0</td>\n",
       "      <td>0.0</td>\n",
       "      <td>0.0</td>\n",
       "      <td>0.0</td>\n",
       "    </tr>\n",
       "    <tr>\n",
       "      <th>985</th>\n",
       "      <td>0.0</td>\n",
       "      <td>1.0</td>\n",
       "      <td>0.0</td>\n",
       "      <td>0.0</td>\n",
       "      <td>0.0</td>\n",
       "      <td>0.0</td>\n",
       "    </tr>\n",
       "    <tr>\n",
       "      <th>26040</th>\n",
       "      <td>0.0</td>\n",
       "      <td>1.0</td>\n",
       "      <td>0.0</td>\n",
       "      <td>0.0</td>\n",
       "      <td>0.0</td>\n",
       "      <td>0.0</td>\n",
       "    </tr>\n",
       "    <tr>\n",
       "      <th>1463</th>\n",
       "      <td>1.0</td>\n",
       "      <td>0.0</td>\n",
       "      <td>0.0</td>\n",
       "      <td>0.0</td>\n",
       "      <td>0.0</td>\n",
       "      <td>0.0</td>\n",
       "    </tr>\n",
       "  </tbody>\n",
       "</table>\n",
       "</div>"
      ],
      "text/plain": [
       "       relationship_Husband  relationship_Not-in-family  \\\n",
       "27952                   0.0                         0.0   \n",
       "15390                   1.0                         0.0   \n",
       "18886                   1.0                         0.0   \n",
       "11885                   0.0                         1.0   \n",
       "25927                   0.0                         1.0   \n",
       "5431                    0.0                         0.0   \n",
       "4963                    0.0                         1.0   \n",
       "985                     0.0                         1.0   \n",
       "26040                   0.0                         1.0   \n",
       "1463                    1.0                         0.0   \n",
       "\n",
       "       relationship_Other-relative  relationship_Own-child  \\\n",
       "27952                          0.0                     1.0   \n",
       "15390                          0.0                     0.0   \n",
       "18886                          0.0                     0.0   \n",
       "11885                          0.0                     0.0   \n",
       "25927                          0.0                     0.0   \n",
       "5431                           0.0                     0.0   \n",
       "4963                           0.0                     0.0   \n",
       "985                            0.0                     0.0   \n",
       "26040                          0.0                     0.0   \n",
       "1463                           0.0                     0.0   \n",
       "\n",
       "       relationship_Unmarried  relationship_Wife  \n",
       "27952                     0.0                0.0  \n",
       "15390                     0.0                0.0  \n",
       "18886                     0.0                0.0  \n",
       "11885                     0.0                0.0  \n",
       "25927                     0.0                0.0  \n",
       "5431                      0.0                1.0  \n",
       "4963                      0.0                0.0  \n",
       "985                       0.0                0.0  \n",
       "26040                     0.0                0.0  \n",
       "1463                      0.0                0.0  "
      ]
     },
     "execution_count": 37,
     "metadata": {},
     "output_type": "execute_result"
    }
   ],
   "source": [
    "pd.get_dummies(train_data['relationship'],prefix='relationship').head(10)"
   ]
  },
  {
   "cell_type": "code",
   "execution_count": 38,
   "metadata": {
    "collapsed": false
   },
   "outputs": [],
   "source": [
    "#Encode all binned numeric columns and categorical columns with oneHot\n",
    "oh_train = train_data['class']\n",
    "oh_test = test_data['class']\n",
    "\n",
    "for variable in numeric_variables_binned+categorical_variables:\n",
    "    onehot_train_col = pd.get_dummies(train_data[variable],prefix=variable)\n",
    "    oh_train = pd.concat([oh_train,onehot_train_col],axis=1)\n",
    "    \n",
    "    onehot_test_col = pd.get_dummies(test_data[variable],prefix=variable)\n",
    "    oh_test = pd.concat([oh_test,onehot_test_col],axis=1)"
   ]
  },
  {
   "cell_type": "code",
   "execution_count": 61,
   "metadata": {
    "collapsed": false
   },
   "outputs": [],
   "source": [
    "#check for missing values:\n",
    "missing=[]\n",
    "for i in oh_train.keys():\n",
    "    if i not in oh_test.keys():\n",
    "        missing.append(i)\n",
    "for i in missing:\n",
    "    oh_test[i]=0.0"
   ]
  },
  {
   "cell_type": "markdown",
   "metadata": {},
   "source": [
    "## Build the model: Logistic regression"
   ]
  },
  {
   "cell_type": "code",
   "execution_count": 62,
   "metadata": {
    "collapsed": false
   },
   "outputs": [],
   "source": [
    "from sklearn import linear_model\n",
    "logreg = linear_model.LogisticRegression(C=1e5)\n",
    "\n",
    "#separate labels from data\n",
    "train_class = oh_train['class']\n",
    "oh_train_data= oh_train.drop('class',axis=1)"
   ]
  },
  {
   "cell_type": "code",
   "execution_count": 63,
   "metadata": {
    "collapsed": false
   },
   "outputs": [
    {
     "name": "stdout",
     "output_type": "stream",
     "text": [
      "LogisticRegression(C=100000.0, class_weight=None, dual=False,\n",
      "          fit_intercept=True, intercept_scaling=1, max_iter=100,\n",
      "          multi_class='ovr', n_jobs=1, penalty='l2', random_state=None,\n",
      "          solver='liblinear', tol=0.0001, verbose=0, warm_start=False)\n"
     ]
    }
   ],
   "source": [
    "logreg.fit(oh_train_data, train_class)\n",
    "print(logreg)"
   ]
  },
  {
   "cell_type": "code",
   "execution_count": null,
   "metadata": {
    "collapsed": true
   },
   "outputs": [],
   "source": []
  },
  {
   "cell_type": "markdown",
   "metadata": {},
   "source": [
    "## Evaluate results"
   ]
  },
  {
   "cell_type": "code",
   "execution_count": 90,
   "metadata": {
    "collapsed": false
   },
   "outputs": [],
   "source": [
    "from sklearn import metrics\n",
    "\n",
    "test_class = oh_test['class']\n",
    "\n",
    "\n",
    "expected = test_class.values\n",
    "oh_test_data= oh_test.drop('class',axis=1)\n",
    "predicted = logreg.predict(oh_test_data)\n",
    "predicted_probs = logreg.predict_proba(oh_test_data)"
   ]
  },
  {
   "cell_type": "code",
   "execution_count": 103,
   "metadata": {
    "collapsed": false
   },
   "outputs": [
    {
     "name": "stdout",
     "output_type": "stream",
     "text": [
      "             precision    recall  f1-score   support\n",
      "\n",
      "          0       0.81      0.97      0.89     12435\n",
      "          1       0.76      0.28      0.41      3846\n",
      "\n",
      "avg / total       0.80      0.81      0.77     16281\n",
      "\n",
      "[ 0.00229664  0.23970629  0.08784965 ...,  0.25690392  0.16952656\n",
      "  0.30020259]\n"
     ]
    }
   ],
   "source": [
    "print(metrics.classification_report(expected, predicted))"
   ]
  },
  {
   "cell_type": "markdown",
   "metadata": {},
   "source": [
    "## Cross-validation"
   ]
  },
  {
   "cell_type": "code",
   "execution_count": 85,
   "metadata": {
    "collapsed": true
   },
   "outputs": [],
   "source": [
    "from sklearn.model_selection import cross_val_score\n",
    "scores = cross_val_score(logreg, oh_test_data, test_class, cv=5)"
   ]
  },
  {
   "cell_type": "code",
   "execution_count": 86,
   "metadata": {
    "collapsed": false
   },
   "outputs": [
    {
     "name": "stdout",
     "output_type": "stream",
     "text": [
      "Accuracy: 0.86 (+/- 0.01)\n"
     ]
    }
   ],
   "source": [
    "print(\"Accuracy: %0.2f (+/- %0.2f)\" % (scores.mean(), scores.std() * 2))"
   ]
  },
  {
   "cell_type": "markdown",
   "metadata": {},
   "source": [
    "## Understanding Model Performance"
   ]
  },
  {
   "cell_type": "code",
   "execution_count": 68,
   "metadata": {
    "collapsed": false
   },
   "outputs": [],
   "source": [
    "import sklearn.metrics\n",
    " \n",
    "def plotRoc(fpr, tpr, auc):\n",
    "  plt.figure()\n",
    "  plt.plot(fpr, tpr, label='ROC curve (AUC = %0.2f)' % auc)\n",
    "  plt.plot([0, 1], [0, 1], 'k--')\n",
    "  plt.xlim([0.0, 1.0])\n",
    "  plt.ylim([0.0, 1.0])\n",
    "  plt.xlabel('False Positive Rate')\n",
    "  plt.ylabel('True Positive Rate')\n",
    "  plt.title('Receiver operating characteristic example')\n",
    "  plt.legend(loc=\"lower right\")\n",
    "  plt.show()\n",
    "    \n",
    "def plotPR(precision, recall):\n",
    "  plt.figure()\n",
    "  plt.plot(recall, precision, label='PR curve')\n",
    "  plt.xlim([0.0, 1.0])\n",
    "  plt.ylim([0.0, 1.0])\n",
    "  plt.xlabel('Recall')\n",
    "  plt.ylabel('Precision')\n",
    "  plt.title('Precision Recall curve')\n",
    "  plt.legend(loc='lower left')\n",
    "  plt.show()\n",
    " \n",
    "def plotMetrics(expected,predicted):\n",
    "  y_true = expected\n",
    "  y_score = predicted\n",
    "  #y_score = df['rawPrediction'].map(lambda x: x['values'][1])\n",
    "  auc = sklearn.metrics.roc_auc_score(y_true, y_score)\n",
    "  fpr, tpr, thresholds = sklearn.metrics.roc_curve(y_true, y_score)\n",
    "  plotRoc(fpr, tpr, auc)\n",
    "  precision, recall, thresholds = sklearn.metrics.precision_recall_curve(y_true, y_score, pos_label=1)\n",
    "  plotPR(precision, recall)"
   ]
  },
  {
   "cell_type": "code",
   "execution_count": 104,
   "metadata": {
    "collapsed": false
   },
   "outputs": [
    {
     "data": {
      "image/png": "[encoded data removed]",
      "text/plain": [
       "<matplotlib.figure.Figure at 0x111081048>"
      ]
     },
     "metadata": {},
     "output_type": "display_data"
    },
    {
     "data": {
      "image/png": "[encoded data removed]",
      "text/plain": [
       "<matplotlib.figure.Figure at 0x10ba76dd8>"
      ]
     },
     "metadata": {},
     "output_type": "display_data"
    }
   ],
   "source": [
    "#plotMetrics(expected.astype('int'),predicted.astype('int'))\n",
    "plotMetrics(expected.astype('int'),predicted_probs[:,1])"
   ]
  },
  {
   "cell_type": "code",
   "execution_count": null,
   "metadata": {
    "collapsed": true
   },
   "outputs": [],
   "source": []
  }
 ],
 "metadata": {
  "kernelspec": {
   "display_name": "Python 2",
   "language": "python",
   "name": "python2"
  },
  "language_info": {
   "codemirror_mode": {
    "name": "ipython",
    "version": 2
   },
   "file_extension": ".py",
   "mimetype": "text/x-python",
   "name": "python",
   "nbconvert_exporter": "python",
   "pygments_lexer": "ipython2",
   "version": "2.7.9"
  }
 },
 "nbformat": 4,
 "nbformat_minor": 0
}
